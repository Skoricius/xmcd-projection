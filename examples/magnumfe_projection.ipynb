{
 "cells": [
  {
   "cell_type": "code",
   "execution_count": 1,
   "metadata": {},
   "outputs": [
    {
     "name": "stderr",
     "output_type": "stream",
     "text": [
      "c:\\users\\lukas\\miniconda3\\lib\\site-packages\\numpy\\_distributor_init.py:30: UserWarning: loaded more than 1 DLL from .libs:\n",
      "c:\\users\\lukas\\miniconda3\\lib\\site-packages\\numpy\\.libs\\libopenblas.GK7GX5KEQ4F6UYO3P26ULGBQYHGQO7J4.gfortran-win_amd64.dll\n",
      "c:\\users\\lukas\\miniconda3\\lib\\site-packages\\numpy\\.libs\\libopenblas.NOIJJG62EMASZI6NYURL6JBKM4EVBGM7.gfortran-win_amd64.dll\n",
      "  warnings.warn(\"loaded more than 1 DLL from .libs:\"\n"
     ]
    }
   ],
   "source": [
    "%gui qt\n",
    "%matplotlib qt\n",
    "from xmcd_projection import *\n",
    "import matplotlib.pyplot as plt\n",
    "from glob import glob\n",
    "import os\n",
    "from skimage.io import imread, imsave"
   ]
  },
  {
   "cell_type": "markdown",
   "metadata": {},
   "source": [
    "### Get file paths"
   ]
  },
  {
   "cell_type": "code",
   "execution_count": null,
   "metadata": {},
   "outputs": [],
   "source": [
    "msh_file = \"example_mesh.msh\"\n",
    "mag_file = \"mag_data.csv\""
   ]
  },
  {
   "cell_type": "markdown",
   "metadata": {},
   "source": [
    "## Generate raytracing - skip if generated"
   ]
  },
  {
   "cell_type": "code",
   "execution_count": 7,
   "metadata": {},
   "outputs": [],
   "source": [
    "# get the mesh\n",
    "msh = Mesh.from_file(msh_file)"
   ]
  },
  {
   "cell_type": "markdown",
   "metadata": {},
   "source": [
    "#### Make sure that the projection vector is correct and that the structure is oriented well"
   ]
  },
  {
   "cell_type": "code",
   "execution_count": 8,
   "metadata": {},
   "outputs": [],
   "source": [
    "# get the projection vector\n",
    "p = get_projection_vector(90, 16)\n",
    "\n",
    "# prepare raytracing object\n",
    "raytr = RayTracing(msh, p)\n",
    "struct = raytr.struct\n",
    "struct_projected = raytr.struct_projected"
   ]
  },
  {
   "cell_type": "code",
   "execution_count": 12,
   "metadata": {},
   "outputs": [],
   "source": [
    "vis = MeshVisualizer(struct, struct_projected)\n",
    "vis.set_camera(dist=2e5)\n",
    "vis.show()"
   ]
  },
  {
   "cell_type": "markdown",
   "metadata": {},
   "source": [
    "## If raytracing file generated - skip if not"
   ]
  },
  {
   "cell_type": "code",
   "execution_count": 26,
   "metadata": {},
   "outputs": [],
   "source": [
    "# load raytracing if exists\n",
    "raytr = np.load(\"raytracing.npy\", allow_pickle=True).item()\n",
    "struct = raytr.struct\n",
    "struct_projected = raytr.struct_projected"
   ]
  },
  {
   "cell_type": "markdown",
   "metadata": {},
   "source": [
    "## Save raytracing"
   ]
  },
  {
   "cell_type": "code",
   "execution_count": 13,
   "metadata": {},
   "outputs": [
    {
     "name": "stderr",
     "output_type": "stream",
     "text": [
      "100%|██████████████████████████████████████████████████████████████████████████████████| 5490/5490 [00:06<00:00, 798.10it/s]\n"
     ]
    }
   ],
   "source": [
    "raytr.get_piercings()\n",
    "np.save(\"raytracing.npy\", raytr, allow_pickle=True)"
   ]
  },
  {
   "cell_type": "markdown",
   "metadata": {},
   "source": [
    "## Get the xmcd"
   ]
  },
  {
   "cell_type": "markdown",
   "metadata": {},
   "source": [
    "#### Get magnetisation, fix vertex shuffling\n",
    "Note: sometimes if the mesh file has multiple parts, the paraview export and the original mesh coordinates are not in the same order. I add a function to fix that when necessary"
   ]
  },
  {
   "cell_type": "code",
   "execution_count": 15,
   "metadata": {},
   "outputs": [
    {
     "name": "stdout",
     "output_type": "stream",
     "text": [
      "File not found. Generating shuffle indx\n"
     ]
    }
   ],
   "source": [
    "magnetisation, mag_points = load_mesh_magnetisation(mag_file)\n",
    "shuffle_file = \"shuffle_indx.npy\"\n",
    "try:\n",
    "    shuffle_indx = np.load(shuffle_file)\n",
    "except FileNotFoundError:\n",
    "    print('File not found. Generating shuffle indx')\n",
    "    shuffle_indx = msh.get_shuffle_indx(mag_points)\n",
    "    np.save(shuffle_file, shuffle_indx)\n",
    "magnetisation = magnetisation[shuffle_indx, :]"
   ]
  },
  {
   "cell_type": "markdown",
   "metadata": {},
   "source": [
    "### Get the colours and XMCD values"
   ]
  },
  {
   "cell_type": "code",
   "execution_count": 16,
   "metadata": {},
   "outputs": [],
   "source": [
    "xmcd_value = raytr.get_xmcd(magnetisation)\n",
    "mag_colors = get_struct_face_mag_color(struct, magnetisation)"
   ]
  },
  {
   "cell_type": "code",
   "execution_count": 21,
   "metadata": {},
   "outputs": [],
   "source": [
    "# deep_reload(xmcd_projection)\n",
    "# from xmcd_projection import *\n",
    "azi=90\n",
    "center_struct = [0, 0, 0]\n",
    "dist_struct = 2e4\n",
    "center_peem = [0, -1000, 0]\n",
    "dist_peem = 2e5\n",
    "\n",
    "vis = MeshVisualizer(struct, struct_projected, projected_xmcd=xmcd_value, struct_colors=mag_colors)\n",
    "vis.show(azi=azi, center=center_peem, dist=dist_peem)"
   ]
  },
  {
   "cell_type": "markdown",
   "metadata": {},
   "source": [
    "#### View different parts of the image separately"
   ]
  },
  {
   "cell_type": "markdown",
   "metadata": {},
   "source": [
    "#### Both"
   ]
  },
  {
   "cell_type": "code",
   "execution_count": 22,
   "metadata": {},
   "outputs": [],
   "source": [
    "vis.update_colors(xmcd_value, mag_colors)\n",
    "vis.view_both(azi=azi, center=center_peem, dist=dist_peem)"
   ]
  },
  {
   "cell_type": "markdown",
   "metadata": {},
   "source": [
    "#### Projection"
   ]
  },
  {
   "cell_type": "code",
   "execution_count": 23,
   "metadata": {},
   "outputs": [],
   "source": [
    "vis.view_projection(azi=azi, center=center_peem, dist=dist_peem)"
   ]
  },
  {
   "cell_type": "markdown",
   "metadata": {},
   "source": [
    "#### Structure"
   ]
  },
  {
   "cell_type": "code",
   "execution_count": 24,
   "metadata": {},
   "outputs": [],
   "source": [
    "vis.view_struct(azi=azi, center=center_struct, dist=dist_struct)"
   ]
  },
  {
   "cell_type": "markdown",
   "metadata": {},
   "source": [
    "#### Saving one render"
   ]
  },
  {
   "cell_type": "code",
   "execution_count": 25,
   "metadata": {},
   "outputs": [],
   "source": [
    "vis.view_both(azi=azi, center=center_peem, dist=dist_peem)\n",
    "vis.save_render('shadow.png')\n",
    "vis.view_projection()\n",
    "blurred = vis.get_blurred_image(desired_background=0.7)\n",
    "imsave('shadow_blurred.png', (blurred*255).astype(np.uint8), check_contrast=False)\n",
    "\n",
    "vis.view_struct(azi=azi, center=center_struct, dist=dist_struct)\n",
    "vis.save_render('structure_view.png')"
   ]
  }
 ],
 "metadata": {
  "kernelspec": {
   "display_name": "Python 3",
   "language": "python",
   "name": "python3"
  },
  "language_info": {
   "codemirror_mode": {
    "name": "ipython",
    "version": 3
   },
   "file_extension": ".py",
   "mimetype": "text/x-python",
   "name": "python",
   "nbconvert_exporter": "python",
   "pygments_lexer": "ipython3",
   "version": "3.8.5"
  },
  "toc": {
   "base_numbering": 1,
   "nav_menu": {},
   "number_sections": true,
   "sideBar": true,
   "skip_h1_title": false,
   "title_cell": "Table of Contents",
   "title_sidebar": "Contents",
   "toc_cell": false,
   "toc_position": {},
   "toc_section_display": true,
   "toc_window_display": false
  }
 },
 "nbformat": 4,
 "nbformat_minor": 4
}
