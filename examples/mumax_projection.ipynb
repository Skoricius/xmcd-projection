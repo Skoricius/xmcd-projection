{
 "cells": [
  {
   "cell_type": "code",
   "execution_count": 1,
   "metadata": {},
   "outputs": [],
   "source": [
    "%gui qt\n",
    "%matplotlib qt\n",
    "from glob import glob\n",
    "import os, sys\n",
    "# only necessary if using without installing\n",
    "sys.path.append(\"..\")\n",
    "from xmcd_projection import *\n",
    "from skimage.io import imread, imsave\n",
    "from PIL import Image\n",
    "import meshio\n",
    "import trimesh"
   ]
  },
  {
   "cell_type": "markdown",
   "metadata": {},
   "source": [
    "### Get file paths"
   ]
  },
  {
   "cell_type": "code",
   "execution_count": 2,
   "metadata": {},
   "outputs": [],
   "source": [
    "msh_file = \"mumax_mesh.vtu\"\n",
    "mag_file = \"mumax_mag.csv\"\n",
    "# scale for the points\n",
    "scale = 1e9"
   ]
  },
  {
   "cell_type": "markdown",
   "metadata": {},
   "source": [
    "## Generate raytracing - skip if generated"
   ]
  },
  {
   "cell_type": "code",
   "execution_count": 6,
   "metadata": {},
   "outputs": [],
   "source": [
    "# get the mesh, scale the points to nm\n",
    "msh = Mesh.from_file(msh_file, scale=scale)"
   ]
  },
  {
   "cell_type": "markdown",
   "metadata": {},
   "source": [
    "#### Make sure that the projection vector is correct and that the structure is oriented well"
   ]
  },
  {
   "cell_type": "code",
   "execution_count": 13,
   "metadata": {},
   "outputs": [],
   "source": [
    "# get the projection vector\n",
    "p = get_projection_vector(90, 0) # direction of xrays\n",
    "n = [0, 1, 1] # normal to the projection plane\n",
    "x0 = [-100, 0, 0] # point on the projection plane\n",
    "\n",
    "# prepare raytracing object\n",
    "raytr = RayTracing(msh, p, n=n, x0=x0)\n",
    "struct = raytr.struct\n",
    "struct_projected = raytr.struct_projected"
   ]
  },
  {
   "cell_type": "code",
   "execution_count": 14,
   "metadata": {},
   "outputs": [],
   "source": [
    "vis = MeshVisualizer(struct, struct_projected)\n",
    "vis.set_camera(dist=2e5)\n",
    "vis.show()"
   ]
  },
  {
   "cell_type": "markdown",
   "metadata": {},
   "source": [
    "## If raytracing file generated - skip if not"
   ]
  },
  {
   "cell_type": "code",
   "execution_count": null,
   "metadata": {},
   "outputs": [],
   "source": [
    "# load raytracing if exists\n",
    "raytr = np.load(\"raytracing.npy\", allow_pickle=True).item()\n",
    "struct = raytr.struct\n",
    "struct_projected = raytr.struct_projected"
   ]
  },
  {
   "cell_type": "markdown",
   "metadata": {},
   "source": [
    "## Generate and save raytracing"
   ]
  },
  {
   "cell_type": "code",
   "execution_count": 15,
   "metadata": {},
   "outputs": [
    {
     "name": "stdout",
     "output_type": "stream",
     "text": [
      "new\n"
     ]
    },
    {
     "name": "stderr",
     "output_type": "stream",
     "text": [
      "100%|█████████████████████████████████████████████████████████████████████████████| 3320/3320 [00:09<00:00, 359.85it/s]\n"
     ]
    }
   ],
   "source": [
    "raytr.get_piercings()\n",
    "# np.save(\"raytracing.npy\", raytr, allow_pickle=True)"
   ]
  },
  {
   "cell_type": "markdown",
   "metadata": {},
   "source": [
    "## Get the xmcd"
   ]
  },
  {
   "cell_type": "markdown",
   "metadata": {},
   "source": [
    "#### Get magnetisation, fix vertex shuffling\n",
    "Note: sometimes if the mesh file has multiple parts, the paraview export and the original mesh coordinates are not in the same order. I add a function to fix that when necessary"
   ]
  },
  {
   "cell_type": "code",
   "execution_count": 16,
   "metadata": {},
   "outputs": [],
   "source": [
    "magnetisation, mag_points = load_mesh_magnetisation(mag_file, scale=scale)\n",
    "shuffle_file = \"shuffle_indx.npy\"\n",
    "try:\n",
    "    shuffle_indx = np.load(shuffle_file)\n",
    "except FileNotFoundError:\n",
    "    print('File not found. Generating shuffle indx')\n",
    "    shuffle_indx = msh.get_shuffle_indx(mag_points)\n",
    "    np.save(shuffle_file, shuffle_indx)\n",
    "magnetisation = magnetisation[shuffle_indx, :]"
   ]
  },
  {
   "cell_type": "markdown",
   "metadata": {},
   "source": [
    "### Get the colours and XMCD values"
   ]
  },
  {
   "cell_type": "code",
   "execution_count": 17,
   "metadata": {},
   "outputs": [],
   "source": [
    "xmcd_value = raytr.get_xmcd(magnetisation)\n",
    "mag_colors = get_struct_face_mag_color(struct, magnetisation)"
   ]
  },
  {
   "cell_type": "code",
   "execution_count": 18,
   "metadata": {},
   "outputs": [],
   "source": [
    "azi=90\n",
    "center_struct = [0, 0, 0]\n",
    "dist_struct = 1e4\n",
    "center_peem = [100, -200, 0]\n",
    "dist_peem = 8e4\n",
    "\n",
    "vis = MeshVisualizer(struct, struct_projected, projected_xmcd=xmcd_value, struct_colors=mag_colors)\n",
    "vis.show(azi=azi, center=center_peem, dist=dist_peem)\n",
    "# Image.fromarray(vis.get_image_np())"
   ]
  },
  {
   "cell_type": "markdown",
   "metadata": {},
   "source": [
    "#### View different parts of the image separately"
   ]
  },
  {
   "cell_type": "markdown",
   "metadata": {},
   "source": [
    "#### Both"
   ]
  },
  {
   "cell_type": "code",
   "execution_count": null,
   "metadata": {},
   "outputs": [],
   "source": [
    "\n",
    "vis.update_colors(xmcd_value, mag_colors)\n",
    "vis.view_both(azi=azi, center=center_peem, dist=dist_peem)\n",
    "Image.fromarray(vis.get_image_np())"
   ]
  },
  {
   "cell_type": "markdown",
   "metadata": {},
   "source": [
    "#### Projection"
   ]
  },
  {
   "cell_type": "code",
   "execution_count": null,
   "metadata": {},
   "outputs": [],
   "source": [
    "vis.view_projection(azi=azi, center=center_peem, dist=dist_peem)\n",
    "Image.fromarray(vis.get_image_np())"
   ]
  },
  {
   "cell_type": "markdown",
   "metadata": {},
   "source": [
    "#### Structure"
   ]
  },
  {
   "cell_type": "code",
   "execution_count": null,
   "metadata": {},
   "outputs": [],
   "source": [
    "\n",
    "center_struct = [75, 50, 0]\n",
    "dist_struct = 1e4\n",
    "vis.view_struct(azi=azi, center=center_struct, dist=dist_struct)\n",
    "Image.fromarray(vis.get_image_np())"
   ]
  },
  {
   "cell_type": "markdown",
   "metadata": {},
   "source": [
    "#### Blurred image"
   ]
  },
  {
   "cell_type": "code",
   "execution_count": null,
   "metadata": {},
   "outputs": [],
   "source": [
    "vis.view_projection(azi=azi, center=center_peem, dist=dist_peem)\n",
    "Image.fromarray((vis.get_blurred_image(desired_background=0.7)*255).astype(np.uint8))"
   ]
  },
  {
   "cell_type": "markdown",
   "metadata": {},
   "source": [
    "#### Saving one render"
   ]
  },
  {
   "cell_type": "code",
   "execution_count": null,
   "metadata": {},
   "outputs": [],
   "source": [
    "vis.view_both(azi=azi, center=center_peem, dist=dist_peem)\n",
    "vis.save_render('mumax_shadow.png')\n",
    "vis.view_projection()\n",
    "blurred = vis.get_blurred_image(desired_background=0.7)\n",
    "imsave('mumax_shadow_blurred.png', (blurred*255).astype(np.uint8), check_contrast=False)\n",
    "\n",
    "vis.view_struct(azi=azi, center=center_struct, dist=dist_struct)\n",
    "vis.save_render('mumax_structure_view.png')"
   ]
  },
  {
   "cell_type": "code",
   "execution_count": null,
   "metadata": {},
   "outputs": [],
   "source": []
  }
 ],
 "metadata": {
  "kernelspec": {
   "display_name": "Python 3",
   "language": "python",
   "name": "python3"
  },
  "language_info": {
   "codemirror_mode": {
    "name": "ipython",
    "version": 3
   },
   "file_extension": ".py",
   "mimetype": "text/x-python",
   "name": "python",
   "nbconvert_exporter": "python",
   "pygments_lexer": "ipython3",
   "version": "3.8.5"
  },
  "toc": {
   "base_numbering": 1,
   "nav_menu": {},
   "number_sections": true,
   "sideBar": true,
   "skip_h1_title": false,
   "title_cell": "Table of Contents",
   "title_sidebar": "Contents",
   "toc_cell": false,
   "toc_position": {},
   "toc_section_display": true,
   "toc_window_display": false
  }
 },
 "nbformat": 4,
 "nbformat_minor": 4
}
