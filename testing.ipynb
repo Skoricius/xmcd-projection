{
 "cells": [
  {
   "cell_type": "code",
   "execution_count": null,
   "metadata": {},
   "outputs": [],
   "source": [
    "%gui qt\n",
    "%matplotlib qt\n",
    "from xmcd_projection import *\n",
    "import pickle, trimesh\n",
    "structure_file = 'SOL6-1-3.stl'\n",
    "magnetisation_file = 'SOL6-1-3_uniform_mag.p'\n",
    "\n",
    "struct = trimesh.load(structure_file)\n",
    "magnetisation = np.zeros(struct.vertices.shape)\n",
    "magnetisation[:, 1] = 1\n",
    "\n",
    "vis = Visualizer(struct, magnetisation)\n",
    "vis.show()\n",
    "vis.save_render('test1.png')"
   ]
  },
  {
   "cell_type": "code",
   "execution_count": 241,
   "metadata": {},
   "outputs": [],
   "source": [
    "%gui qt\n",
    "%matplotlib qt\n",
    "import xmcd_projection\n",
    "deep_reload(xmcd_projection)\n",
    "from xmcd_projection import *\n",
    "structure_file = r\"C:\\Users\\lukas\\OneDrive - University of Cambridge\\PhD\\Simulations\\spirals\\models\\spiral_det_in_50w30t.msh\"\n",
    "magnetisation_file = r\"F:\\PhD_data\\Simulations\\spiral_automotion_simulations\\data\\basic_automotion\\spiral_det_in_50w30t_005\\data\\data.30.csv\"\n",
    "\n",
    "# import the structure and magnetisation data\n",
    "points, faces, tetra = get_mesh_data_from_file(structure_file)\n",
    "magnetisation, _ = get_magnumfe_magnetisation(magnetisation_file)\n",
    "# define the trimesh from structure data\n",
    "struct = define_trimesh(points, faces)\n",
    "\n",
    "# show the visualiser (look at xmcd_visualisation file for details)\n",
    "vis = Visualizer(struct, magnetisation)\n",
    "\n",
    "# define the viewing angles (here all default)\n",
    "vis.set_camera(azi=30, dist=1e5, center=[0, -700, 0])\n",
    "# show the rendering\n",
    "vis.show()"
   ]
  },
  {
   "cell_type": "code",
   "execution_count": 46,
   "metadata": {},
   "outputs": [
    {
     "data": {
      "text/plain": [
       "array([[1.54469208e+02, 3.78340442e-14, 3.70000000e+02],\n",
       "       [1.42346327e+02, 7.25290760e+01, 3.70000000e+02],\n",
       "       [1.04469208e+02, 2.55875762e-14, 3.70000000e+02],\n",
       "       ...,\n",
       "       [1.29884092e+02, 5.98122694e+01, 3.71166624e+02],\n",
       "       [7.83943821e+01, 1.34693427e+00, 7.97096568e+02],\n",
       "       [4.23333477e+01, 1.53903998e+00, 7.94528674e+02]])"
      ]
     },
     "execution_count": 46,
     "metadata": {},
     "output_type": "execute_result"
    }
   ],
   "source": [
    "np.array(struct.vertices)"
   ]
  },
  {
   "cell_type": "code",
   "execution_count": 191,
   "metadata": {},
   "outputs": [
    {
     "data": {
      "text/plain": [
       "array([[2689, 3919, 3079, 3519],\n",
       "       [1131, 3156, 3125, 3677],\n",
       "       [1510, 3153, 3118, 3771],\n",
       "       ...,\n",
       "       [2788, 4181, 2106, 3564],\n",
       "       [4181, 2106,  410, 2788],\n",
       "       [ 410,  411, 2106, 4181]])"
      ]
     },
     "execution_count": 191,
     "metadata": {},
     "output_type": "execute_result"
    }
   ],
   "source": [
    "tetra"
   ]
  },
  {
   "cell_type": "code",
   "execution_count": 192,
   "metadata": {},
   "outputs": [
    {
     "data": {
      "text/plain": [
       "array([[3919, 3079, 3519],\n",
       "       [2689, 3079, 3519],\n",
       "       [2689, 3919, 3519],\n",
       "       ...,\n",
       "       [ 410, 2106, 4181],\n",
       "       [ 410,  411, 4181],\n",
       "       [ 410,  411, 2106]])"
      ]
     },
     "execution_count": 192,
     "metadata": {},
     "output_type": "execute_result"
    }
   ],
   "source": [
    "faces"
   ]
  },
  {
   "cell_type": "code",
   "execution_count": 57,
   "metadata": {},
   "outputs": [],
   "source": [
    "# ground the structure and get projected points\n",
    "points[:,2] -= np.min(points[:,2])\n",
    "struct.vertices = points\n",
    "\n",
    "struct_projected = project_structure(struct)\n",
    "projected_points = np.array(struct_projected.vertices)"
   ]
  },
  {
   "cell_type": "code",
   "execution_count": 405,
   "metadata": {},
   "outputs": [],
   "source": [
    "ax = show_structure_points(struct_projected)\n",
    "ax = show_structure_points(struct, ax=ax, rescale=False)"
   ]
  },
  {
   "cell_type": "code",
   "execution_count": 5,
   "metadata": {},
   "outputs": [
    {
     "data": {
      "text/plain": [
       "(4342, 3)"
      ]
     },
     "execution_count": 5,
     "metadata": {},
     "output_type": "execute_result"
    }
   ],
   "source": [
    "projected_points.shape"
   ]
  },
  {
   "cell_type": "markdown",
   "metadata": {},
   "source": [
    "### Pick a point and find a line"
   ]
  },
  {
   "cell_type": "code",
   "execution_count": 222,
   "metadata": {},
   "outputs": [
    {
     "data": {
      "text/plain": [
       "array([ -44.29516754, -650.09517741,    0.        ])"
      ]
     },
     "execution_count": 222,
     "metadata": {},
     "output_type": "execute_result"
    }
   ],
   "source": [
    "np.mean(projected_points[faces[0, :], :], axis=0)"
   ]
  },
  {
   "cell_type": "code",
   "execution_count": 223,
   "metadata": {},
   "outputs": [
    {
     "data": {
      "text/plain": [
       "array([ -44.29516754, -650.09517741,    0.        ])"
      ]
     },
     "execution_count": 223,
     "metadata": {},
     "output_type": "execute_result"
    }
   ],
   "source": [
    "pt = np.mean(projected_points[faces[0, :], :], axis=0)\n",
    "pt"
   ]
  },
  {
   "cell_type": "code",
   "execution_count": 251,
   "metadata": {},
   "outputs": [],
   "source": [
    "phi, theta = 90, 15\n",
    "theta_r = np.deg2rad(theta)\n",
    "phi_r = np.deg2rad(phi)\n",
    "p = np.array([np.cos(phi_r) * np.cos(theta_r), np.sin(phi_r)\n",
    "              * np.cos(theta_r), np.sin(theta_r)])"
   ]
  },
  {
   "cell_type": "code",
   "execution_count": 253,
   "metadata": {},
   "outputs": [],
   "source": [
    "nx0 = np.cross(p, pt)\n",
    "y = np.linspace(-1500, 0, 1000)\n",
    "x = nx0[1]/np.sin(theta_r)*np.ones(y.shape)\n",
    "z = y*np.tan(theta_r)+nx0[0]\n",
    "\n",
    "ax.plot(x, y, z, c='red')"
   ]
  },
  {
   "cell_type": "code",
   "execution_count": 229,
   "metadata": {},
   "outputs": [
    {
     "data": {
      "text/plain": [
       "<mpl_toolkits.mplot3d.art3d.Path3DCollection at 0x255ba430>"
      ]
     },
     "execution_count": 229,
     "metadata": {},
     "output_type": "execute_result"
    }
   ],
   "source": [
    "ax.scatter(pt[0], pt[1], pt[2], s=100)"
   ]
  },
  {
   "cell_type": "code",
   "execution_count": 37,
   "metadata": {},
   "outputs": [
    {
     "data": {
      "text/plain": [
       "Text(0.04504704806120605, -0.07412763382235021, 'x')"
      ]
     },
     "execution_count": 37,
     "metadata": {},
     "output_type": "execute_result"
    }
   ],
   "source": [
    "ax.set_xlabel('x')"
   ]
  },
  {
   "cell_type": "code",
   "execution_count": 381,
   "metadata": {},
   "outputs": [],
   "source": [
    "deep_reload(xmcd_projection)\n",
    "from xmcd_projection import *\n",
    "edge_faces = get_edge_faces(tetra)"
   ]
  },
  {
   "cell_type": "code",
   "execution_count": 385,
   "metadata": {},
   "outputs": [
    {
     "data": {
      "text/plain": [
       "array([[ 994,  995,  996],\n",
       "       [2739,  421,  422],\n",
       "       [ 560,  553,  542],\n",
       "       ...,\n",
       "       [2808,  150,  151],\n",
       "       [2106, 2788,  410],\n",
       "       [ 410,  411, 2106]])"
      ]
     },
     "execution_count": 385,
     "metadata": {},
     "output_type": "execute_result"
    }
   ],
   "source": [
    "np.array([list(ef) for ef in edge_faces])"
   ]
  },
  {
   "cell_type": "markdown",
   "metadata": {},
   "source": [
    "### Find the intersecting faces"
   ]
  },
  {
   "cell_type": "code",
   "execution_count": 230,
   "metadata": {},
   "outputs": [],
   "source": [
    "transf_coord = -np.cross(n, np.cross(n, points - pt))"
   ]
  },
  {
   "cell_type": "code",
   "execution_count": 172,
   "metadata": {},
   "outputs": [
    {
     "data": {
      "text/plain": [
       "<mpl_toolkits.mplot3d.art3d.Path3DCollection at 0x25449a60>"
      ]
     },
     "execution_count": 172,
     "metadata": {},
     "output_type": "execute_result"
    }
   ],
   "source": [
    "ax.scatter(transf_coord[:,0], transf_coord[:,1],transf_coord[:,2])"
   ]
  },
  {
   "cell_type": "code",
   "execution_count": 173,
   "metadata": {},
   "outputs": [
    {
     "data": {
      "text/plain": [
       "<mpl_toolkits.mplot3d.art3d.Path3DCollection at 0x25203ac0>"
      ]
     },
     "execution_count": 173,
     "metadata": {},
     "output_type": "execute_result"
    }
   ],
   "source": [
    "ax.scatter(0,0,0,s=100,c='r')"
   ]
  },
  {
   "cell_type": "code",
   "execution_count": 231,
   "metadata": {},
   "outputs": [],
   "source": [
    "def triangle_area(pt1, pt2, pt3):\n",
    "    \"\"\"Area of a triangle defined by three points. This is for Nx3 points where there are N triangles\"\"\"\n",
    "    return np.linalg.norm(np.cross(pt1-pt3, pt2-pt3, axis=1), axis=1)\n",
    "\n",
    "def origin_triangle_area(pt1, pt2):\n",
    "    \"\"\"Area of a triangle defined by two points and origin\"\"\"\n",
    "    return np.linalg.norm(np.cross(pt1, pt2, axis=1), axis=1)\n",
    "\n",
    "def origin_in_triangle(triangles):\n",
    "    \"\"\"Triangles defined as Nx3x3 array where the first axis is each triange, second axis the points in the triangle and the third axis their coordinates\"\"\"\n",
    "    area_sums = origin_triangle_area(triangles[:,0,:], triangles[:,1,:])+origin_triangle_area(triangles[:,0,:], triangles[:,2,:])+origin_triangle_area(triangles[:,1,:], triangles[:,2,:])\n",
    "    area_triangles = triangle_area(triangles[:,0, :], triangles[:,1, :],triangles[:,2, :])\n",
    "    return np.isclose(area_sums, area_triangles)\n",
    "\n",
    "triangles = np.moveaxis(np.stack((transf_coord[faces[:,0], :], transf_coord[faces[:,1], :], transf_coord[faces[:,2], :])), 0, 1)\n",
    "triangles_pt = np.moveaxis(np.stack((points[faces[:,0], :], points[faces[:,1], :], points[faces[:,2], :])), 0, 1)"
   ]
  },
  {
   "cell_type": "code",
   "execution_count": 232,
   "metadata": {},
   "outputs": [
    {
     "name": "stdout",
     "output_type": "stream",
     "text": [
      "True\n"
     ]
    }
   ],
   "source": [
    "pierced_triangles_indx = origin_in_triangle(triangles)\n",
    "print(np.any(pierced_triangles_indx))\n",
    "pierced_triangles = triangles_pt[pierced_triangles_indx, :, :]"
   ]
  },
  {
   "cell_type": "code",
   "execution_count": 190,
   "metadata": {},
   "outputs": [
    {
     "data": {
      "text/plain": [
       "<mpl_toolkits.mplot3d.art3d.Path3DCollection at 0x2545f8b0>"
      ]
     },
     "execution_count": 190,
     "metadata": {},
     "output_type": "execute_result"
    }
   ],
   "source": [
    "ax.scatter(pierced_triangles[:, 0, 0], pierced_triangles[:, 0, 1], pierced_triangles[:, 0, 2])\n",
    "ax.scatter(pierced_triangles[:, 1, 0], pierced_triangles[:, 1, 1], pierced_triangles[:, 1, 2])\n",
    "ax.scatter(pierced_triangles[:, 2, 0], pierced_triangles[:, 2, 1], pierced_triangles[:, 2, 2])"
   ]
  },
  {
   "cell_type": "markdown",
   "metadata": {},
   "source": [
    "### Select the intersecting tetrahedra"
   ]
  },
  {
   "cell_type": "code",
   "execution_count": 237,
   "metadata": {},
   "outputs": [],
   "source": [
    "tetra_pierced = np.nonzero(pierced_triangles_indx)[0]//4\n",
    "tetra_pierced_unique = np.unique(tetra_pierced)\n",
    "n_piercings = np.array([np.sum(t == tetra_pierced) for t in tetra_pierced_unique])\n",
    "tetra_pierced_true = tetra_pierced_unique[n_piercings==2]"
   ]
  },
  {
   "cell_type": "code",
   "execution_count": 236,
   "metadata": {},
   "outputs": [
    {
     "data": {
      "text/plain": [
       "array([    0,    77,   160,   420,   623,  1984,  3219,  4022,  4052,\n",
       "        4779,  5215,  5969,  5982,  6118,  6387,  6427,  6444,  6613,\n",
       "        6863,  7125,  8258,  8490,  8671,  9023,  9648, 10233, 11233,\n",
       "       12131, 14009], dtype=int32)"
      ]
     },
     "execution_count": 236,
     "metadata": {},
     "output_type": "execute_result"
    }
   ],
   "source": [
    "tetra_pierced_unique"
   ]
  },
  {
   "cell_type": "code",
   "execution_count": 235,
   "metadata": {},
   "outputs": [
    {
     "data": {
      "text/plain": [
       "array([    0,     0,    77,    77,   160,   160,   420,   420,   623,\n",
       "         623,  1984,  1984,  3219,  3219,  4022,  4022,  4052,  4052,\n",
       "        4779,  4779,  5215,  5215,  5969,  5969,  5982,  5982,  6118,\n",
       "        6118,  6387,  6387,  6427,  6427,  6444,  6444,  6613,  6613,\n",
       "        6863,  6863,  7125,  7125,  8258,  8258,  8490,  8490,  8671,\n",
       "        8671,  9023,  9023,  9648,  9648, 10233, 10233, 11233, 11233,\n",
       "       12131, 12131, 14009, 14009], dtype=int32)"
      ]
     },
     "execution_count": 235,
     "metadata": {},
     "output_type": "execute_result"
    }
   ],
   "source": [
    "tetra_pierced"
   ]
  },
  {
   "cell_type": "code",
   "execution_count": 219,
   "metadata": {},
   "outputs": [
    {
     "data": {
      "text/plain": [
       "array([ True,  True,  True,  True])"
      ]
     },
     "execution_count": 219,
     "metadata": {},
     "output_type": "execute_result"
    }
   ],
   "source": [
    "pierced_triangles_indx[tetra_pierced_true[0]*4:tetra_pierced_true[0]*4+4]"
   ]
  },
  {
   "cell_type": "markdown",
   "metadata": {},
   "source": [
    "### Take one of the intersecting tetrahedra and get the length of the line within it"
   ]
  },
  {
   "cell_type": "code",
   "execution_count": 363,
   "metadata": {},
   "outputs": [],
   "source": [
    "# get the two faces that were pierced\n",
    "i = 0\n",
    "tt = tetra_pierced_true[i]\n",
    "selected_faces = faces[pierced_triangles_indx, :][tetra_pierced==i,:]\n",
    "selected_triangles = triangles_pt[pierced_triangles_indx, :, :][tetra_pierced==i,:, :]"
   ]
  },
  {
   "cell_type": "code",
   "execution_count": 339,
   "metadata": {},
   "outputs": [
    {
     "data": {
      "text/plain": [
       "array([[[ 6.24447700e+00,  6.41971206e-03, -2.39586916e-02],\n",
       "        [-4.44955680e+00,  5.17974840e-01, -1.93310842e+00],\n",
       "        [-1.79492020e+00, -5.24394552e-01,  1.95706711e+00]],\n",
       "\n",
       "       [[ 7.27210059e-01, -2.34017582e+00,  8.73365506e+00],\n",
       "        [ 6.24447700e+00,  6.41971206e-03, -2.39586916e-02],\n",
       "        [-4.44955680e+00,  5.17974840e-01, -1.93310842e+00]]])"
      ]
     },
     "execution_count": 339,
     "metadata": {},
     "output_type": "execute_result"
    }
   ],
   "source": [
    "selected_triangles"
   ]
  },
  {
   "cell_type": "code",
   "execution_count": 352,
   "metadata": {},
   "outputs": [
    {
     "data": {
      "text/plain": [
       "array([[ 6.244477  ,  0.00641971, -0.02395869],\n",
       "       [-4.4495568 ,  0.51797484, -1.93310842],\n",
       "       [-1.7949202 , -0.52439455,  1.95706711]])"
      ]
     },
     "execution_count": 352,
     "metadata": {},
     "output_type": "execute_result"
    }
   ],
   "source": [
    "triangles[0,:,:]"
   ]
  },
  {
   "cell_type": "code",
   "execution_count": 343,
   "metadata": {},
   "outputs": [
    {
     "data": {
      "text/plain": [
       "array([[-44.29516754,   0.        ,   0.        ],\n",
       "       [-44.29516754, -43.29516754,   0.        ]])"
      ]
     },
     "execution_count": 343,
     "metadata": {},
     "output_type": "execute_result"
    }
   ],
   "source": [
    "def face_ray_intersection(p, x0, triangle):\n",
    "    n = np.cross(triangle[:,1,:] - triangle[:,0,:], triangle[:,2,:] - triangle[:,0,:], axis=1)\n",
    "    A = np.einsum('ij,ij->i', n, triangle[:,0,:])\n",
    "    c = np.cross(p, x0)\n",
    "    return (np.outer(A, p) - np.cross(n, c))/n.dot(p)[:, np.newaxis]\n",
    "\n",
    "test_triangle = np.array([[[1, 0, 1], [1, 0, -2], [-1, 0, 1]], [[0, 1, 1], [0, 1, -2], [-1, 0, 1]]])\n",
    "face_ray_intersection(np.array([0, 1, 0]), pt, test_triangle)"
   ]
  },
  {
   "cell_type": "code",
   "execution_count": 369,
   "metadata": {},
   "outputs": [
    {
     "name": "stdout",
     "output_type": "stream",
     "text": [
      "2.1805346082255603\n"
     ]
    }
   ],
   "source": [
    "intersections = face_ray_intersection(p, pt, selected_triangles)\n",
    "distance = np.linalg.norm(intersections[0,:] - intersections[1,:])\n",
    "print(distance)"
   ]
  },
  {
   "cell_type": "code",
   "execution_count": 372,
   "metadata": {},
   "outputs": [],
   "source": [
    "points_on_faces = face_ray_intersection(p, pt, triangles_pt)"
   ]
  },
  {
   "cell_type": "code",
   "execution_count": 375,
   "metadata": {},
   "outputs": [],
   "source": [
    "pierced_triangles_indx2 = origin_in_triangle(triangles_pt - points_on_faces[:,np.newaxis,:])"
   ]
  },
  {
   "cell_type": "code",
   "execution_count": 376,
   "metadata": {},
   "outputs": [
    {
     "data": {
      "text/plain": [
       "array([ True, False, False, ..., False, False, False])"
      ]
     },
     "execution_count": 376,
     "metadata": {},
     "output_type": "execute_result"
    }
   ],
   "source": [
    "pierced_triangles_indx2"
   ]
  },
  {
   "cell_type": "code",
   "execution_count": 380,
   "metadata": {},
   "outputs": [
    {
     "data": {
      "text/plain": [
       "False"
      ]
     },
     "execution_count": 380,
     "metadata": {},
     "output_type": "execute_result"
    }
   ],
   "source": [
    "np.any(np.logical_and(pierced_triangles_indx, ~pierced_triangles_indx2))"
   ]
  },
  {
   "cell_type": "markdown",
   "metadata": {},
   "source": [
    "### Summary how to do it:\n",
    "- use only the outside faces for projection and for each of those faces, find the centroid\n",
    "- get the intersection points: face_ray_intersection(p, pt, triangles_pt) where pt are centroids\n",
    "- displace the triangles by the points on faces and check if origin in triangle: origin_in_triangle(triangles_pt - points_on_faces[:,np.newaxis,:])\n",
    "- extract the triangles that are pierced by the beam and calculate the distances between their intersections\n",
    "- for each tetra calulate the average magnetisation\n",
    "- calculate the attenuation of the beam for each tetra and sum over the attenuations for all pierced tetra"
   ]
  },
  {
   "cell_type": "code",
   "execution_count": 333,
   "metadata": {},
   "outputs": [],
   "source": [
    "%gui qt\n",
    "%matplotlib qt\n",
    "import xmcd_projection\n",
    "from xmcd_projection import deep_reload\n",
    "deep_reload(xmcd_projection)\n",
    "from xmcd_projection import *\n",
    "\n",
    "structure_file = r\"C:\\Users\\lukas\\OneDrive - University of Cambridge\\PhD\\Simulations\\spirals\\models\\spiral_det_in_50w30t.msh\"\n",
    "magnetisation_file = r\"F:\\PhD_data\\Simulations\\spiral_automotion_simulations\\data\\basic_automotion\\spiral_det_in_50w30t_005\\data\\data.30.csv\"\n",
    "\n",
    "mesh = get_mesh(structure_file)\n",
    "magnetisation, _ = get_magnumfe_magnetisation(magnetisation_file)"
   ]
  },
  {
   "cell_type": "code",
   "execution_count": 13,
   "metadata": {},
   "outputs": [],
   "source": [
    "\n",
    "# get the mesh data\n",
    "points, faces, tetra = get_mesh_data(mesh)\n",
    "triangles = get_triangles_from_faces(points, faces)\n",
    "# project the points by the beam.\n",
    "projected_points = project_points(points)\n",
    "# get only the edge faces for projection\n",
    "edge_faces = get_edge_faces(tetra)\n",
    "edge_faces = np.array([list(ef) for ef in edge_faces])\n",
    "# find the centroid of each of the edge faces\n",
    "projected_edge_triangles = get_triangles_from_faces(\n",
    "    projected_points, edge_faces)\n",
    "projected_centroids = np.mean(projected_edge_triangles, axis=1)"
   ]
  },
  {
   "cell_type": "code",
   "execution_count": 10,
   "metadata": {},
   "outputs": [],
   "source": [
    "pt = projected_centroids[1000, :]\n",
    "p = get_projection_vector(90, 15)"
   ]
  },
  {
   "cell_type": "code",
   "execution_count": 106,
   "metadata": {},
   "outputs": [],
   "source": [
    "\n",
    "# get the intersections of the ray with the triangle planes\n",
    "points_on_planes = triangle_ray_intersection(p, pt, triangles)\n",
    "# check if the intersection is within the triangle\n",
    "pierced_triangles_indx = origin_in_triangle(\n",
    "    triangles - points_on_planes[:, np.newaxis, :])\n",
    "# reshape to be grouped per tetrahedra\n",
    "pierced_triangles_indx_resh = pierced_triangles_indx.reshape(-1, 4)\n",
    "n_piercings_per_tetra = pierced_triangles_indx_resh.sum(axis=1)\n",
    "pierced_tetra_indx = n_piercings_per_tetra.astype(bool)\n",
    "assert np.all(n_piercings_per_tetra[pierced_tetra_indx] ==\n",
    "              2), \"One of the rays pierces the vertex! Chances of this happening should be infenitesimal...\"\n",
    "# extract the tetrahedra that are pierced by the beam\n",
    "pierced_tetra_magnetisation = tetra_magnetisation[pierced_tetra_indx, :]\n",
    "# get the lenght of the pierce for each tetrahedron\n",
    "pierced_points = points_on_planes[pierced_triangles_indx,:]\n",
    "distances = np.linalg.norm(pierced_points[::2] - pierced_points[1::2], axis=1)"
   ]
  },
  {
   "cell_type": "code",
   "execution_count": 101,
   "metadata": {},
   "outputs": [
    {
     "data": {
      "text/plain": [
       "(22,)"
      ]
     },
     "execution_count": 101,
     "metadata": {},
     "output_type": "execute_result"
    }
   ],
   "source": [
    "np.linalg.norm(pierced_points[::2] - pierced_points[1::2], axis=1).shape"
   ]
  },
  {
   "cell_type": "code",
   "execution_count": 444,
   "metadata": {},
   "outputs": [],
   "source": [
    "import xmcd_projection\n",
    "deep_reload(xmcd_projection)\n",
    "from xmcd_projection import *\n",
    "from xmcd_projection.magnumfe_projection import _get_xmcd_at_point\n",
    "\n",
    "# xmcd_value = get_xmcd_projection(mesh, magnetisation)"
   ]
  },
  {
   "cell_type": "code",
   "execution_count": 335,
   "metadata": {},
   "outputs": [
    {
     "data": {
      "text/plain": [
       "array([-14.7744514 , -67.87175865,   5.29302556, ...,  13.86047656,\n",
       "       -84.80718415, -86.98089109])"
      ]
     },
     "execution_count": 335,
     "metadata": {},
     "output_type": "execute_result"
    }
   ],
   "source": [
    "xmcd_projection"
   ]
  },
  {
   "cell_type": "code",
   "execution_count": 185,
   "metadata": {},
   "outputs": [],
   "source": [
    "\n",
    "# get the mesh data\n",
    "points, faces, tetra = get_mesh_data(mesh)\n",
    "# get the tetrahedra magnetisation\n",
    "tetra_magnetisation = np.mean(\n",
    "    [magnetisation[tetra[:, i], :] for i in range(4)], axis=0)\n",
    "# get the beam direction\n",
    "p = get_projection_vector(90, 15)\n",
    "# get the triangles defining the mesh\n",
    "triangles = get_triangles_from_faces(points, faces)\n",
    "\n",
    "# project the points by the beam.\n",
    "projected_points = project_points_by_vector(points, p)\n",
    "# get only the edge faces for projection\n",
    "edge_faces = get_edge_faces(tetra)\n",
    "edge_faces = np.array([list(ef) for ef in edge_faces])\n",
    "# find the centroid of each of the edge faces\n",
    "projected_edge_triangles = get_triangles_from_faces(\n",
    "    projected_points, edge_faces)\n",
    "projected_centroids = np.mean(projected_edge_triangles, axis=1)\n",
    "# use each of the centroids as the origin of the projection ray,\n",
    "# and calculate what the xmcd through that centroid is\n",
    "func = partial(get_pt_ray_piercings,\n",
    "                   p=p,\n",
    "                   triangles=triangles)\n",
    "\n"
   ]
  },
  {
   "cell_type": "code",
   "execution_count": 445,
   "metadata": {},
   "outputs": [
    {
     "ename": "ValueError",
     "evalue": "could not broadcast input array from shape (2,43) into shape (2,15)",
     "output_type": "error",
     "traceback": [
      "\u001b[1;31m---------------------------------------------------------------------------\u001b[0m",
      "\u001b[1;31mValueError\u001b[0m                                Traceback (most recent call last)",
      "\u001b[1;32m<ipython-input-445-6c1f491a146c>\u001b[0m in \u001b[0;36m<module>\u001b[1;34m\u001b[0m\n\u001b[0;32m      2\u001b[0m                    \u001b[0mp\u001b[0m\u001b[1;33m=\u001b[0m\u001b[0mp\u001b[0m\u001b[1;33m,\u001b[0m\u001b[1;33m\u001b[0m\u001b[1;33m\u001b[0m\u001b[0m\n\u001b[0;32m      3\u001b[0m                    triangles=triangles)\n\u001b[1;32m----> 4\u001b[1;33m \u001b[0mxmcd_value\u001b[0m \u001b[1;33m=\u001b[0m \u001b[0mnp\u001b[0m\u001b[1;33m.\u001b[0m\u001b[0mapply_along_axis\u001b[0m\u001b[1;33m(\u001b[0m\u001b[0mfunc\u001b[0m\u001b[1;33m,\u001b[0m \u001b[1;36m1\u001b[0m\u001b[1;33m,\u001b[0m \u001b[0mprojected_centroids\u001b[0m\u001b[1;33m[\u001b[0m\u001b[1;33m:\u001b[0m\u001b[1;36m20\u001b[0m\u001b[1;33m,\u001b[0m\u001b[1;33m:\u001b[0m\u001b[1;33m]\u001b[0m\u001b[1;33m)\u001b[0m\u001b[1;33m\u001b[0m\u001b[1;33m\u001b[0m\u001b[0m\n\u001b[0m",
      "\u001b[1;32m<__array_function__ internals>\u001b[0m in \u001b[0;36mapply_along_axis\u001b[1;34m(*args, **kwargs)\u001b[0m\n",
      "\u001b[1;32mc:\\users\\lukas\\python_envs\\env\\lib\\site-packages\\numpy\\lib\\shape_base.py\u001b[0m in \u001b[0;36mapply_along_axis\u001b[1;34m(func1d, axis, arr, *args, **kwargs)\u001b[0m\n\u001b[0;32m    400\u001b[0m     \u001b[0mbuff\u001b[0m\u001b[1;33m[\u001b[0m\u001b[0mind0\u001b[0m\u001b[1;33m]\u001b[0m \u001b[1;33m=\u001b[0m \u001b[0mres\u001b[0m\u001b[1;33m\u001b[0m\u001b[1;33m\u001b[0m\u001b[0m\n\u001b[0;32m    401\u001b[0m     \u001b[1;32mfor\u001b[0m \u001b[0mind\u001b[0m \u001b[1;32min\u001b[0m \u001b[0minds\u001b[0m\u001b[1;33m:\u001b[0m\u001b[1;33m\u001b[0m\u001b[1;33m\u001b[0m\u001b[0m\n\u001b[1;32m--> 402\u001b[1;33m         \u001b[0mbuff\u001b[0m\u001b[1;33m[\u001b[0m\u001b[0mind\u001b[0m\u001b[1;33m]\u001b[0m \u001b[1;33m=\u001b[0m \u001b[0masanyarray\u001b[0m\u001b[1;33m(\u001b[0m\u001b[0mfunc1d\u001b[0m\u001b[1;33m(\u001b[0m\u001b[0minarr_view\u001b[0m\u001b[1;33m[\u001b[0m\u001b[0mind\u001b[0m\u001b[1;33m]\u001b[0m\u001b[1;33m,\u001b[0m \u001b[1;33m*\u001b[0m\u001b[0margs\u001b[0m\u001b[1;33m,\u001b[0m \u001b[1;33m**\u001b[0m\u001b[0mkwargs\u001b[0m\u001b[1;33m)\u001b[0m\u001b[1;33m)\u001b[0m\u001b[1;33m\u001b[0m\u001b[1;33m\u001b[0m\u001b[0m\n\u001b[0m\u001b[0;32m    403\u001b[0m \u001b[1;33m\u001b[0m\u001b[0m\n\u001b[0;32m    404\u001b[0m     \u001b[1;32mif\u001b[0m \u001b[1;32mnot\u001b[0m \u001b[0misinstance\u001b[0m\u001b[1;33m(\u001b[0m\u001b[0mres\u001b[0m\u001b[1;33m,\u001b[0m \u001b[0mmatrix\u001b[0m\u001b[1;33m)\u001b[0m\u001b[1;33m:\u001b[0m\u001b[1;33m\u001b[0m\u001b[1;33m\u001b[0m\u001b[0m\n",
      "\u001b[1;31mValueError\u001b[0m: could not broadcast input array from shape (2,43) into shape (2,15)"
     ]
    }
   ],
   "source": [
    "func = partial(get_pt_ray_piercings,\n",
    "                   p=p,\n",
    "                   triangles=triangles)\n",
    "xmcd_value = np.apply_along_axis(func, 1, projected_centroids[:20,:])"
   ]
  },
  {
   "cell_type": "code",
   "execution_count": 447,
   "metadata": {},
   "outputs": [],
   "source": [
    "res = func(projected_centroids[0,:])"
   ]
  },
  {
   "cell_type": "code",
   "execution_count": 449,
   "metadata": {},
   "outputs": [
    {
     "data": {
      "text/plain": [
       "(2, 15)"
      ]
     },
     "execution_count": 449,
     "metadata": {},
     "output_type": "execute_result"
    }
   ],
   "source": [
    "res.shape"
   ]
  },
  {
   "cell_type": "code",
   "execution_count": 437,
   "metadata": {},
   "outputs": [
    {
     "data": {
      "text/plain": [
       "array([2.15938968, 0.20579818, 0.1799475 , 5.61969506, 0.13621091,\n",
       "       4.51656476, 0.94370893, 0.8927599 , 1.51242725, 1.75225028,\n",
       "       2.6890606 , 4.79218631, 0.40163423, 0.80501206, 4.57814454])"
      ]
     },
     "execution_count": 437,
     "metadata": {},
     "output_type": "execute_result"
    }
   ],
   "source": [
    "distances"
   ]
  },
  {
   "cell_type": "code",
   "execution_count": 439,
   "metadata": {},
   "outputs": [],
   "source": [
    "res = np.vstack((distances, piercings))"
   ]
  },
  {
   "cell_type": "code",
   "execution_count": 441,
   "metadata": {},
   "outputs": [
    {
     "data": {
      "text/plain": [
       "array([2.15938968, 0.20579818, 0.1799475 , 5.61969506, 0.13621091,\n",
       "       4.51656476, 0.94370893, 0.8927599 , 1.51242725, 1.75225028,\n",
       "       2.6890606 , 4.79218631, 0.40163423, 0.80501206, 4.57814454])"
      ]
     },
     "execution_count": 441,
     "metadata": {},
     "output_type": "execute_result"
    }
   ],
   "source": [
    "res[0, :]"
   ]
  },
  {
   "cell_type": "code",
   "execution_count": 443,
   "metadata": {},
   "outputs": [
    {
     "data": {
      "text/plain": [
       "array([    6,    70,  3131,  3263,  4553,  6437,  6453,  9712,  9946,\n",
       "       11568, 11991, 12737, 13164, 15861, 15862])"
      ]
     },
     "execution_count": 443,
     "metadata": {},
     "output_type": "execute_result"
    }
   ],
   "source": [
    "res[1, :].astype(int)"
   ]
  },
  {
   "cell_type": "code",
   "execution_count": 339,
   "metadata": {},
   "outputs": [],
   "source": [
    "xmcd_value = xmcd_projection.copy()"
   ]
  },
  {
   "cell_type": "code",
   "execution_count": 403,
   "metadata": {},
   "outputs": [],
   "source": [
    "import xmcd_projection\n",
    "deep_reload(xmcd_projection)\n",
    "from xmcd_projection import *\n",
    "from xmcd_projection.magnumfe_projection import get_xmcd_at_point"
   ]
  },
  {
   "cell_type": "code",
   "execution_count": 404,
   "metadata": {},
   "outputs": [
    {
     "name": "stdout",
     "output_type": "stream",
     "text": [
      "[[0.25882353 0.25882353 0.25882353 1.        ]\n",
      " [0.25882353 0.25882353 0.25882353 1.        ]\n",
      " [0.25882353 0.25882353 0.25882353 1.        ]\n",
      " ...\n",
      " [0.25882353 0.25882353 0.25882353 1.        ]\n",
      " [0.25882353 0.25882353 0.25882353 1.        ]\n",
      " [0.25882353 0.25882353 0.25882353 1.        ]]\n"
     ]
    }
   ],
   "source": [
    "struct = define_trimesh(points, faces)\n",
    "# ground the structure\n",
    "struct.vertices[:,2] -= struct.vertices[:,2].min()\n",
    "# project the points by the beam.\n",
    "projected_points = project_points(struct.vertices)\n",
    "projected_struct = define_trimesh(projected_points, edge_faces)\n",
    "face_magnetisation = np.mean(\n",
    "        [magnetisation[struct.faces[:, i], :] for i in range(3)], axis=0)\n",
    "mag_colors = magnetisation_to_color(face_magnetisation)\n",
    "\n",
    "vis = MagnumfeVisualizer(struct, projected_struct, xmcd_value, struct_colors=mag_colors)\n",
    "vis.show()"
   ]
  },
  {
   "cell_type": "code",
   "execution_count": 409,
   "metadata": {},
   "outputs": [
    {
     "data": {
      "text/plain": [
       "<matplotlib.axes._subplots.Axes3DSubplot at 0x1ea28e20>"
      ]
     },
     "execution_count": 409,
     "metadata": {},
     "output_type": "execute_result"
    }
   ],
   "source": [
    "ax = show_structure_points(struct)\n",
    "show_structure_points(projected_struct, ax=ax)"
   ]
  },
  {
   "cell_type": "code",
   "execution_count": 189,
   "metadata": {},
   "outputs": [],
   "source": [
    "# get the intersections of the ray with the triangle planes\n",
    "points_on_planes = triangle_ray_intersection(p, pt, triangles)\n",
    "# check if the intersection is within the triangle\n",
    "pierced_triangles_indx = origin_in_triangle(\n",
    "    triangles - points_on_planes[:, np.newaxis, :])\n",
    "# reshape to be grouped per tetrahedra\n",
    "pierced_triangles_indx_resh = pierced_triangles_indx.reshape(-1, 4)\n",
    "n_piercings_per_tetra = pierced_triangles_indx_resh.sum(axis=1)\n",
    "pierced_tetra_indx = n_piercings_per_tetra.astype(bool)"
   ]
  },
  {
   "cell_type": "code",
   "execution_count": 193,
   "metadata": {},
   "outputs": [
    {
     "data": {
      "text/plain": [
       "(16050, 4)"
      ]
     },
     "execution_count": 193,
     "metadata": {},
     "output_type": "execute_result"
    }
   ],
   "source": [
    "pierced_triangles_indx_resh.shape"
   ]
  },
  {
   "cell_type": "code",
   "execution_count": 205,
   "metadata": {},
   "outputs": [],
   "source": [
    "selected_tetra = pierced_triangles_indx_resh[n_piercings_per_tetra == 1,:]"
   ]
  },
  {
   "cell_type": "code",
   "execution_count": 210,
   "metadata": {},
   "outputs": [],
   "source": []
  },
  {
   "cell_type": "code",
   "execution_count": 233,
   "metadata": {},
   "outputs": [
    {
     "data": {
      "text/plain": [
       "array([ 810, 2488, 3059, 3087, 3092, 3279, 3515, 3576, 3576], dtype=int32)"
      ]
     },
     "execution_count": 233,
     "metadata": {},
     "output_type": "execute_result"
    }
   ],
   "source": [
    "np.nonzero(n_piercings_per_tetra == 2)[0]//4"
   ]
  },
  {
   "cell_type": "code",
   "execution_count": 191,
   "metadata": {},
   "outputs": [],
   "source": [
    "import mpl_toolkits.mplot3d as m3"
   ]
  },
  {
   "cell_type": "code",
   "execution_count": 204,
   "metadata": {},
   "outputs": [
    {
     "data": {
      "text/plain": [
       "array([[2689, 3919, 3079, 3519],\n",
       "       [1131, 3156, 3125, 3677],\n",
       "       [1510, 3153, 3118, 3771],\n",
       "       ...,\n",
       "       [2788, 4181, 2106, 3564],\n",
       "       [4181, 2106,  410, 2788],\n",
       "       [ 410,  411, 2106, 4181]])"
      ]
     },
     "execution_count": 204,
     "metadata": {},
     "output_type": "execute_result"
    }
   ],
   "source": [
    "tetra"
   ]
  },
  {
   "cell_type": "code",
   "execution_count": 321,
   "metadata": {},
   "outputs": [],
   "source": [
    "triangle_indx = np.zeros(pierced_triangles_indx_resh.shape).astype(bool)\n",
    "triangle_indx[n_piercings_per_tetra == 1,:]=True\n",
    "triangle_indx = triangle_indx.flatten()\n",
    "selected_triangles = triangles[triangle_indx,:]"
   ]
  },
  {
   "cell_type": "code",
   "execution_count": 323,
   "metadata": {},
   "outputs": [],
   "source": []
  },
  {
   "cell_type": "code",
   "execution_count": 326,
   "metadata": {},
   "outputs": [
    {
     "data": {
      "text/plain": [
       "Text(0.5, 0, 'x')"
      ]
     },
     "execution_count": 326,
     "metadata": {},
     "output_type": "execute_result"
    }
   ],
   "source": [
    "\n",
    "from mpl_toolkits.mplot3d import Axes3D\n",
    "\n",
    "# Create a new plot\n",
    "fig = plt.figure()\n",
    "ax = fig.add_subplot((111), projection='3d', proj_type='ortho')\n",
    "\n",
    "vts = selected_triangles.reshape(-1, 3)\n",
    "ax.plot_trisurf(vts[:,0], vts[:,1], vts[:,2])\n",
    "ax.scatter(vts[:,0], vts[:,1], vts[:,2], 'ko')\n",
    "ax.set_xlabel('x')"
   ]
  },
  {
   "cell_type": "code",
   "execution_count": 327,
   "metadata": {},
   "outputs": [
    {
     "data": {
      "text/plain": [
       "[<mpl_toolkits.mplot3d.art3d.Line3D at 0x64b6ef8>]"
      ]
     },
     "execution_count": 327,
     "metadata": {},
     "output_type": "execute_result"
    }
   ],
   "source": [
    "phi, theta = 90, 15\n",
    "theta_r = np.deg2rad(theta)\n",
    "phi_r = np.deg2rad(phi)\n",
    "p = np.array([np.cos(phi_r) * np.cos(theta_r), np.sin(phi_r)\n",
    "              * np.cos(theta_r), np.sin(theta_r)])\n",
    "nx0 = np.cross(p, pt)\n",
    "# y = np.linspace(-2600, 100, 100)\n",
    "y = np.linspace(vts[:,1].min(), vts[:,1].max(), 100)\n",
    "# y = np.linspace(points_on_planes[:,1].min(), points_on_planes[:,1].max(), 100)\n",
    "x = nx0[1]/np.sin(theta_r)*np.ones(y.shape)\n",
    "z = y*np.tan(theta_r)+nx0[0]/np.cos(theta_r)\n",
    "\n",
    "ax.plot(x, y, z, c='red')"
   ]
  },
  {
   "cell_type": "code",
   "execution_count": 284,
   "metadata": {},
   "outputs": [
    {
     "data": {
      "text/plain": [
       "<mpl_toolkits.mplot3d.art3d.Path3DCollection at 0x1ec247c0>"
      ]
     },
     "execution_count": 284,
     "metadata": {},
     "output_type": "execute_result"
    }
   ],
   "source": [
    "ax.scatter(pt[0],pt[1], pt[2])"
   ]
  },
  {
   "cell_type": "code",
   "execution_count": 328,
   "metadata": {},
   "outputs": [
    {
     "data": {
      "text/plain": [
       "<mpl_toolkits.mplot3d.art3d.Path3DCollection at 0x64b61d8>"
      ]
     },
     "execution_count": 328,
     "metadata": {},
     "output_type": "execute_result"
    }
   ],
   "source": [
    "points_on_planes = triangle_ray_intersection(p, pt, selected_triangles)\n",
    "\n",
    "\n",
    "ax.scatter(points_on_planes[:,0], points_on_planes[:,1], points_on_planes[:,2])"
   ]
  },
  {
   "cell_type": "code",
   "execution_count": 165,
   "metadata": {},
   "outputs": [],
   "source": [
    "\n",
    "# define the trimesh from structure data\n",
    "struct = define_trimesh(points, faces)\n",
    "\n",
    "struct_projected = project_structure(struct)\n",
    "ax = show_structure_points(struct_projected)"
   ]
  },
  {
   "cell_type": "code",
   "execution_count": 331,
   "metadata": {},
   "outputs": [],
   "source": [
    "\n",
    "# check if the intersection is within the triangle\n",
    "pierced_triangles_indx = origin_in_triangle(\n",
    "    selected_triangles - points_on_planes[:, np.newaxis, :])"
   ]
  },
  {
   "cell_type": "code",
   "execution_count": 332,
   "metadata": {},
   "outputs": [
    {
     "data": {
      "text/plain": [
       "<mpl_toolkits.mplot3d.art3d.Path3DCollection at 0x64c14f0>"
      ]
     },
     "execution_count": 332,
     "metadata": {},
     "output_type": "execute_result"
    }
   ],
   "source": [
    "\n",
    "ax.scatter(points_on_planes[pierced_triangles_indx,0], points_on_planes[pierced_triangles_indx,1], points_on_planes[pierced_triangles_indx,2], s=100, c='r')"
   ]
  },
  {
   "cell_type": "code",
   "execution_count": 330,
   "metadata": {},
   "outputs": [
    {
     "data": {
      "text/plain": [
       "array([False,  True, False,  True, False,  True,  True, False,  True,\n",
       "       False,  True, False,  True, False, False,  True,  True,  True,\n",
       "       False, False,  True, False, False,  True,  True,  True, False,\n",
       "       False, False, False,  True,  True,  True, False, False,  True])"
      ]
     },
     "execution_count": 330,
     "metadata": {},
     "output_type": "execute_result"
    }
   ],
   "source": [
    "pierced_triangles_indx"
   ]
  },
  {
   "cell_type": "code",
   "execution_count": null,
   "metadata": {},
   "outputs": [],
   "source": []
  }
 ],
 "metadata": {
  "kernelspec": {
   "display_name": "Python 3",
   "language": "python",
   "name": "python3"
  },
  "language_info": {
   "codemirror_mode": {
    "name": "ipython",
    "version": 3
   },
   "file_extension": ".py",
   "mimetype": "text/x-python",
   "name": "python",
   "nbconvert_exporter": "python",
   "pygments_lexer": "ipython3",
   "version": "3.8.0"
  }
 },
 "nbformat": 4,
 "nbformat_minor": 4
}
