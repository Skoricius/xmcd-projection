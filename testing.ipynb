{
 "cells": [
  {
   "cell_type": "code",
   "execution_count": null,
   "metadata": {},
   "outputs": [],
   "source": [
    "%gui qt\n",
    "%matplotlib qt\n",
    "from xmcd_projection import *\n",
    "import pickle, trimesh\n",
    "structure_file = 'SOL6-1-3.stl'\n",
    "magnetisation_file = 'SOL6-1-3_uniform_mag.p'\n",
    "\n",
    "struct = trimesh.load(structure_file)\n",
    "magnetisation = np.zeros(struct.vertices.shape)\n",
    "magnetisation[:, 1] = 1\n",
    "\n",
    "vis = Visualizer(struct, magnetisation)\n",
    "vis.show()\n",
    "vis.save_render('test1.png')"
   ]
  },
  {
   "cell_type": "code",
   "execution_count": 1,
   "metadata": {},
   "outputs": [],
   "source": [
    "%gui qt\n",
    "%matplotlib qt\n",
    "from xmcd_projection import *\n",
    "structure_file = r\"C:\\Users\\lukas\\OneDrive - University of Cambridge\\PhD\\Simulations\\spirals\\models\\spiral_det_in_50w30t.msh\"\n",
    "magnetisation_file = r\"F:\\PhD_data\\Simulations\\spiral_automotion_simulations\\data\\basic_automotion\\spiral_det_in_50w30t_005\\data\\data.30.csv\"\n",
    "\n",
    "# import the structure and magnetisation data\n",
    "points, faces, tetra = get_mesh_data_from_file(structure_file)\n",
    "magnetisation, _ = get_magnumfe_magnetisation(magnetisation_file)\n",
    "# define the trimesh from structure data\n",
    "struct = define_trimesh(points, faces)\n",
    "\n",
    "# show the visualiser (look at xmcd_visualisation file for details)\n",
    "vis = Visualizer(struct, magnetisation)\n",
    "\n",
    "# define the viewing angles (here all default)\n",
    "vis.set_camera(azi=30, dist=1e5, center=[0, -700, 0])\n",
    "# show the rendering\n",
    "vis.show()"
   ]
  },
  {
   "cell_type": "code",
   "execution_count": null,
   "metadata": {},
   "outputs": [],
   "source": [
    "struct"
   ]
  },
  {
   "cell_type": "code",
   "execution_count": null,
   "metadata": {},
   "outputs": [],
   "source": [
    "magnetisation"
   ]
  },
  {
   "cell_type": "code",
   "execution_count": null,
   "metadata": {},
   "outputs": [],
   "source": [
    "import pandas as pd\n",
    "import matplotlib.pyplot as plt\n",
    "import numpy as np\n",
    "from scipy.optimize import curve_fit\n",
    "import os\n",
    "import xml.etree.ElementTree as ET\n",
    "import seaborn as sns; sns.set()\n",
    "import meshio\n",
    "%gui qt\n",
    "%matplotlib qt\n",
    "import numpy as np\n",
    "from scipy.spatial.transform import Rotation as R\n",
    "import importlib, sys, os\n",
    "from xmcd_projection import *\n",
    "import matplotlib.pyplot as plt"
   ]
  },
  {
   "cell_type": "code",
   "execution_count": null,
   "metadata": {},
   "outputs": [],
   "source": [
    "structure_file = r\"C:\\Users\\lukas\\OneDrive - University of Cambridge\\PhD\\Simulations\\spirals\\models\\spiral_det_in_50w30t.msh\"\n",
    "\n",
    "mesh = meshio.read(structure_file)\n",
    "tetra = [cb.data for cb in mesh.cells if cb.type=='tetra'][0]\n",
    "points = mesh.points\n",
    "faces = np.array([np.delete(tr, i) for tr in tetra for i in range(4)])"
   ]
  },
  {
   "cell_type": "code",
   "execution_count": null,
   "metadata": {},
   "outputs": [],
   "source": [
    "np.load"
   ]
  },
  {
   "cell_type": "code",
   "execution_count": null,
   "metadata": {},
   "outputs": [],
   "source": [
    "magnetisation_file = r\"F:\\PhD_data\\Simulations\\spiral_automotion_simulations\\data\\basic_automotion\\spiral_det_in_50w30t_005\\data\\data.30.csv\"\n",
    "data = pd.read_csv(magnetisation_file).rename(columns={'m:0':'mx', 'm:1':'my', 'm:2':'mz', 'Points:0':'x', 'Points:1':'y', 'Points:2':'z'})\n",
    "data\n",
    "\n",
    "magnetisation = data.loc[:,['mx', 'my', 'mz']].to_numpy()"
   ]
  },
  {
   "cell_type": "code",
   "execution_count": null,
   "metadata": {},
   "outputs": [],
   "source": [
    "magnetisation2, points2 = get_magnumfe_magnetisation(magnetisation_file)"
   ]
  },
  {
   "cell_type": "code",
   "execution_count": null,
   "metadata": {},
   "outputs": [],
   "source": [
    "magnetisation"
   ]
  },
  {
   "cell_type": "code",
   "execution_count": null,
   "metadata": {},
   "outputs": [],
   "source": [
    "magnetisation2"
   ]
  },
  {
   "cell_type": "code",
   "execution_count": null,
   "metadata": {},
   "outputs": [],
   "source": [
    "pd.read_csv(magnetisation_file)"
   ]
  },
  {
   "cell_type": "code",
   "execution_count": null,
   "metadata": {},
   "outputs": [],
   "source": [
    "\n",
    "points = mesh.points.copy()\n",
    "points[:,1] *=-1\n",
    "struct_from_mesh = trimesh.Trimesh(vertices = points, faces = faces, process=False)\n",
    "# show the visualiser (look at xmcd_visualisation file for details)\n",
    "vis = Visualizer(struct_from_mesh, -magnetisation)\n",
    "\n",
    "# define the viewing angles (here all default)\n",
    "vis.set_camera(azi=30, dist=1e5, center=[0, -700, 0])\n",
    "# show the rendering\n",
    "vis.show()"
   ]
  },
  {
   "cell_type": "code",
   "execution_count": null,
   "metadata": {},
   "outputs": [],
   "source": [
    "points2 = data.loc[:,['x', 'y', 'z']].to_numpy()"
   ]
  },
  {
   "cell_type": "code",
   "execution_count": null,
   "metadata": {},
   "outputs": [],
   "source": [
    "np.argmax(np.linalg.norm(points - points2))"
   ]
  },
  {
   "cell_type": "code",
   "execution_count": null,
   "metadata": {},
   "outputs": [],
   "source": [
    "points"
   ]
  },
  {
   "cell_type": "code",
   "execution_count": null,
   "metadata": {},
   "outputs": [],
   "source": [
    "points[:, 10865]"
   ]
  },
  {
   "cell_type": "code",
   "execution_count": null,
   "metadata": {},
   "outputs": [],
   "source": [
    "# define the file with structure and magnetisation\n",
    "structure_file = 'SOL6-1-3.stl'\n",
    "magnetisation_file = 'SOL6-1-3_uniform_mag.p'\n",
    "\n",
    "# load the structure\n",
    "struct = trimesh.load(structure_file)\n",
    "with open(magnetisation_file, 'rb') as f:\n",
    "    magnetisation = pickle.load(f)\n"
   ]
  },
  {
   "cell_type": "code",
   "execution_count": null,
   "metadata": {},
   "outputs": [],
   "source": [
    "from collections import Counter\n",
    "\n",
    "def get_faces(tetra):\n",
    "    # get all the faces\n",
    "    faces = np.array([np.delete(tr, i) for tr in tetra for i in range(4)])\n",
    "    faces_sets = [frozenset(fc) for fc in faces]\n",
    "    return faces_sets\n",
    "\n",
    "def get_edge_faces(tetra):\n",
    "    # edge faces are faces that appear in only one tetrahedron\n",
    "    faces_sets = get_faces(tetra)\n",
    "    edge_faces = []\n",
    "    for item, count in Counter(faces_sets).most_common():\n",
    "        if count == 1:\n",
    "            edge_faces.append(item)\n",
    "    return edge_faces\n",
    "\n",
    "def get_edge_points(edge_faces):\n",
    "    return set.union(*[set(ef) for ef in edge_faces])\n",
    "\n",
    "edge_faces = get_edge_faces(tetra)\n",
    "edge_points = get_edge_points(edge_faces)\n",
    "\n",
    "edge_coords = np.array([points[i, :] for i in edge_points])"
   ]
  },
  {
   "cell_type": "code",
   "execution_count": null,
   "metadata": {},
   "outputs": [],
   "source": [
    "edge_faces = np.array([list(ef) for ef in edge_faces])"
   ]
  },
  {
   "cell_type": "code",
   "execution_count": null,
   "metadata": {},
   "outputs": [],
   "source": [
    "struct_from_mesh = trimesh.Trimesh(vertices = points, faces = faces, process=False)\n",
    "magnetisation = np.zeros(points.shape)\n",
    "magnetisation[:,1] = 1\n",
    "magnetisation[points[:, 2]<550, :]*=-1"
   ]
  },
  {
   "cell_type": "code",
   "execution_count": null,
   "metadata": {},
   "outputs": [],
   "source": [
    "magnetisation"
   ]
  },
  {
   "cell_type": "code",
   "execution_count": null,
   "metadata": {},
   "outputs": [],
   "source": [
    "np.min(points[:,2])"
   ]
  },
  {
   "cell_type": "code",
   "execution_count": null,
   "metadata": {},
   "outputs": [],
   "source": [
    "points[2, :]"
   ]
  },
  {
   "cell_type": "code",
   "execution_count": null,
   "metadata": {},
   "outputs": [],
   "source": [
    "def get_face_magnetisation(faces, point_mag):\n",
    "    face_mag = np.zeros(faces.shape)\n",
    "    for i, f in enumerate(faces):\n",
    "        face_mag[i, :] = np.mean(point_mag[f, :], axis=1)\n",
    "    return face_mag\n",
    "\n",
    "face_mag = get_face_magnetisation(faces, magnetisation)"
   ]
  },
  {
   "cell_type": "code",
   "execution_count": null,
   "metadata": {},
   "outputs": [],
   "source": [
    "face_mag"
   ]
  },
  {
   "cell_type": "code",
   "execution_count": null,
   "metadata": {},
   "outputs": [],
   "source": [
    "faces"
   ]
  },
  {
   "cell_type": "code",
   "execution_count": null,
   "metadata": {},
   "outputs": [],
   "source": [
    "np.mean(magnetisation[faces[0,:], :], axis=1)"
   ]
  },
  {
   "cell_type": "code",
   "execution_count": null,
   "metadata": {},
   "outputs": [],
   "source": [
    "magnetisation[3919, :]"
   ]
  },
  {
   "cell_type": "code",
   "execution_count": null,
   "metadata": {},
   "outputs": [],
   "source": [
    "\n",
    "# show the visualiser (look at xmcd_visualisation file for details)\n",
    "vis = Visualizer(struct, magnetisation)\n",
    "\n",
    "# define the viewing angles (here all default)\n",
    "vis.set_camera(azi=30, dist=1e5, center=[0, -700, 0])\n",
    "# show the rendering\n",
    "vis.show()"
   ]
  },
  {
   "cell_type": "code",
   "execution_count": null,
   "metadata": {},
   "outputs": [],
   "source": [
    "vis.set_camera(azi=30, dist=1e5, center=[0, -700, 0])\n",
    "vis.generate_view()\n",
    "vis.show()"
   ]
  },
  {
   "cell_type": "code",
   "execution_count": null,
   "metadata": {},
   "outputs": [],
   "source": [
    "\n",
    "# magnetisation = np.zeros(struct_from_mesh.vertices.shape)\n",
    "# magnetisation[:,1] = 1\n",
    "# magnetisation[struct_from_mesh.vertices[:, 2]<550, :]*=-1\n",
    "show_magnetisation(struct_from_mesh, magnetisation, step=10)"
   ]
  },
  {
   "cell_type": "code",
   "execution_count": null,
   "metadata": {},
   "outputs": [],
   "source": [
    "struct_from_mesh.vertices"
   ]
  },
  {
   "cell_type": "code",
   "execution_count": null,
   "metadata": {},
   "outputs": [],
   "source": [
    "struct_from_mesh = trimesh.Trimesh(vertices = points, faces = faces, process=False)\n",
    "struct_from_mesh.faces"
   ]
  },
  {
   "cell_type": "code",
   "execution_count": null,
   "metadata": {},
   "outputs": [],
   "source": [
    "faces"
   ]
  },
  {
   "cell_type": "code",
   "execution_count": null,
   "metadata": {},
   "outputs": [],
   "source": []
  }
 ],
 "metadata": {
  "kernelspec": {
   "display_name": "Python 3",
   "language": "python",
   "name": "python3"
  },
  "language_info": {
   "codemirror_mode": {
    "name": "ipython",
    "version": 3
   },
   "file_extension": ".py",
   "mimetype": "text/x-python",
   "name": "python",
   "nbconvert_exporter": "python",
   "pygments_lexer": "ipython3",
   "version": "3.8.0"
  }
 },
 "nbformat": 4,
 "nbformat_minor": 4
}
