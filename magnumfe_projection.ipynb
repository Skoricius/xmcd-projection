{
 "cells": [
  {
   "cell_type": "code",
   "execution_count": 2,
   "metadata": {},
   "outputs": [],
   "source": [
    "%gui qt\n",
    "%matplotlib qt\n",
    "import xmcd_projection\n",
    "from xmcd_projection import deep_reload\n",
    "deep_reload(xmcd_projection)\n",
    "from xmcd_projection import *\n",
    "from glob import glob\n",
    "import os\n",
    "import cv2\n",
    "from copy import copy, deepcopy\n",
    "from skimage.color import rgb2gray, rgba2rgb\n",
    "from skimage.filters import gaussian\n",
    "from skimage.io import imread, imsave"
   ]
  },
  {
   "cell_type": "markdown",
   "metadata": {},
   "source": [
    "### Get file paths"
   ]
  },
  {
   "cell_type": "code",
   "execution_count": 3,
   "metadata": {},
   "outputs": [],
   "source": [
    "folder_path = r\"D:\\Magnumfe\\al6-1-1_peem_profile1_fields\"\n",
    "\n",
    "data_folder = os.path.join(folder_path, \"data\")\n",
    "mag_files = glob(os.path.join(data_folder, \"*.csv\"))\n",
    "msh_file = glob(os.path.join(data_folder, \"*.msh\"))[0]\n",
    "\n",
    "# sort mag files\n",
    "# indx = [int(mf.split('.')[-2]) for mf in mag_files]\n",
    "indx = [int(mf.split('_')[-1].split('.')[0]) for mf in mag_files]\n",
    "mag_files = [mf for _, mf in sorted(zip(indx, mag_files))]\n",
    "# get the mesh and magnetisation\n",
    "mesh0 = get_mesh(msh_file)\n",
    "points0, _, _ = get_mesh_data(mesh0)\n",
    "mesh = ground_mesh(deepcopy(mesh0))\n",
    "magnetisation, _ = get_magnumfe_magnetisation(mag_files[0])"
   ]
  },
  {
   "cell_type": "markdown",
   "metadata": {},
   "source": [
    "### Make sure that the projection vector is correct and that the structure is oriented well"
   ]
  },
  {
   "cell_type": "code",
   "execution_count": 5,
   "metadata": {},
   "outputs": [],
   "source": [
    "struct = get_struct_from_mesh(mesh)\n",
    "points, faces, tetra = get_mesh_data(mesh)\n",
    "struct.faces = frozen_to_numpy(get_edge_faces(tetra))"
   ]
  },
  {
   "cell_type": "code",
   "execution_count": 6,
   "metadata": {},
   "outputs": [],
   "source": [
    "# need to mirror the structure\n",
    "# struct.vertices[:, 0] *= -1\n",
    "# p = get_projection_vector(-90, 15)\n",
    "p = get_projection_vector(90, 16)\n",
    "projected_structure = project_structure_byvector(struct, p=p)"
   ]
  },
  {
   "cell_type": "code",
   "execution_count": 6,
   "metadata": {},
   "outputs": [],
   "source": [
    "vis = MagnumfeVisualizer(struct, projected_structure)\n",
    "vis.show()"
   ]
  },
  {
   "cell_type": "markdown",
   "metadata": {},
   "source": [
    "### Get the projection and piercing information and save immediately. Load if exists"
   ]
  },
  {
   "cell_type": "code",
   "execution_count": 4,
   "metadata": {},
   "outputs": [
    {
     "name": "stdout",
     "output_type": "stream",
     "text": [
      "0.6236436367034912\n"
     ]
    }
   ],
   "source": [
    "\n",
    "deep_reload(xmcd_projection)\n",
    "from xmcd_projection import *\n",
    "t0 = time.time()\n",
    "piercings_file = os.path.join(data_folder, \"piercings.npy\")\n",
    "if os.path.exists(piercings_file):\n",
    "    struct, struct_projected, piercings_list, p, mesh = load_piercing_data(piercings_file)\n",
    "else:\n",
    "    struct_projected, piercings_list, p = get_projection_with_piercings(mesh, p=p)\n",
    "    save_piercing_data(piercings_file, struct, struct_projected, piercings_list, p, mesh)\n",
    "        \n",
    "print(time.time() - t0)"
   ]
  },
  {
   "cell_type": "markdown",
   "metadata": {},
   "source": [
    "### Get the xmcd"
   ]
  },
  {
   "cell_type": "code",
   "execution_count": 5,
   "metadata": {},
   "outputs": [],
   "source": [
    "struct = get_struct_from_mesh(mesh)"
   ]
  },
  {
   "cell_type": "code",
   "execution_count": 6,
   "metadata": {},
   "outputs": [],
   "source": [
    "points, faces, tetra = get_mesh_data(mesh)\n",
    "points0, _, _ = get_mesh_data(mesh0)"
   ]
  },
  {
   "cell_type": "markdown",
   "metadata": {},
   "source": [
    "#### Get the magnetisation from csv files\n",
    "Note: sometimes if the mesh file has multiple parts, the paraview export and the original mesh coordinates are not in the same order. I add a function to fix that when necessary"
   ]
  },
  {
   "cell_type": "code",
   "execution_count": 12,
   "metadata": {},
   "outputs": [],
   "source": [
    "magnetisation, coords = get_magnumfe_magnetisation(mag_files[-1])\n",
    "# magnetisation *= -1\n",
    "shuffle_file = os.path.join(data_folder, \"shuffle_indx.npy\")\n",
    "try:\n",
    "    shuffle_indx = np.load(shuffle_file)\n",
    "except FileNotFoundError:\n",
    "    print('File not found. Generating shuffle indx')\n",
    "    shuffle_indx = get_shuffle_indx(coords, points0)\n",
    "    np.save(shuffle_file, shuffle_indx)\n",
    "# shuffle_indx = get_shuffle_indx(coords, points0)\n",
    "magnetisation = magnetisation[shuffle_indx, :]"
   ]
  },
  {
   "cell_type": "markdown",
   "metadata": {},
   "source": [
    "#### Get the colours and XMCD values"
   ]
  },
  {
   "cell_type": "code",
   "execution_count": 50,
   "metadata": {},
   "outputs": [],
   "source": [
    "xmcd_value = get_xmcd_from_piercings_list(mesh, magnetisation, piercings_list)\n",
    "mag_colors = get_struct_face_mag_color(struct, magnetisation)"
   ]
  },
  {
   "cell_type": "code",
   "execution_count": 51,
   "metadata": {},
   "outputs": [],
   "source": [
    "deep_reload(xmcd_projection)\n",
    "from xmcd_projection import *\n",
    "\n",
    "vis = MagnumfeVisualizer(struct, struct_projected, xmcd_value, struct_colors=mag_colors)\n",
    "# vis.background_color = 155/255\n",
    "vis.update_view()\n",
    "vis.show()"
   ]
  },
  {
   "cell_type": "code",
   "execution_count": 53,
   "metadata": {},
   "outputs": [],
   "source": [
    "# vis.set_camera(azi=208, center=vis.get_structs_center(), dist=5e5)\n",
    "# vis.set_camera(azi=18, center=vis.get_structs_center(), dist=6e5)\n",
    "vis.update_colors(xmcd_value, mag_colors)\n",
    "vis.background_color = 127/255\n",
    "vis.update_view()\n",
    "vis.set_camera(azi=18, center=[600, -5000, 0], dist=7e5)"
   ]
  },
  {
   "cell_type": "code",
   "execution_count": 55,
   "metadata": {},
   "outputs": [],
   "source": [
    "vis.set_camera(azi=18, center=[-100, 100, 0], dist=1e5)\n",
    "vis.xmcd_color[:, :3] = 127/255*np.ones((vis.xmcd_color.shape[0], 3))\n",
    "vis.meshdata_projected.setFaceColors(vis.xmcd_color)\n",
    "vis.background_color = 127/255\n",
    "# vis.update_view()\n",
    "vis.update_view()"
   ]
  },
  {
   "cell_type": "markdown",
   "metadata": {},
   "source": [
    "#### Adding blur to the image"
   ]
  },
  {
   "cell_type": "code",
   "execution_count": 21,
   "metadata": {},
   "outputs": [
    {
     "data": {
      "text/plain": [
       "<matplotlib.image.AxesImage at 0x28a375442e8>"
      ]
     },
     "execution_count": 21,
     "metadata": {},
     "output_type": "execute_result"
    }
   ],
   "source": [
    "img = vis.get_view_image()\n",
    "\n",
    "img1 = np.swapaxes(gaussian(rgb2gray(rgba2rgb(img)), sigma=4), 0, 1)\n",
    "plt.imshow(img1, cmap='gray')"
   ]
  },
  {
   "cell_type": "code",
   "execution_count": 22,
   "metadata": {},
   "outputs": [
    {
     "name": "stderr",
     "output_type": "stream",
     "text": [
      "Lossy conversion from float64 to uint8. Range [0, 1]. Convert image to uint8 prior to saving to suppress this warning.\n"
     ]
    }
   ],
   "source": [
    "imsave(os.path.join(folder_path, 'processed', 'shadow_final.png'), img1)\n",
    "vis.set_camera(azi=18, center=[0, 0, 0], dist=1e5)\n",
    "imsave(os.path.join(folder_path, 'processed', 'shadow_final.png'), img1)"
   ]
  },
  {
   "cell_type": "markdown",
   "metadata": {},
   "source": [
    "### Run for all magnetisations and save images"
   ]
  },
  {
   "cell_type": "code",
   "execution_count": 11,
   "metadata": {},
   "outputs": [
    {
     "name": "stderr",
     "output_type": "stream",
     "text": [
      "100%|██████████████████████████████████████████████████████████████████████████████████| 10/10 [03:28<00:00, 21.13s/it]\n"
     ]
    }
   ],
   "source": [
    "savedir = os.path.join(folder_path, 'processed', 'xmcd_projection')\n",
    "if not os.path.exists(savedir):\n",
    "    os.makedirs(savedir)\n",
    "    \n",
    "for mf in tqdm(mag_files):\n",
    "#     file_num = int(mf.split('.')[-2])\n",
    "    file_num = int(mf.split('_')[-1].split('.')[0])\n",
    "    magnetisation, _ = get_magnumfe_magnetisation(mf)\n",
    "#     magnetisation *= -1\n",
    "    magnetisation = magnetisation[shuffle_indx, :]\n",
    "    xmcd_value = get_xmcd_from_piercings_list(mesh, magnetisation, piercings_list)\n",
    "    mag_colors = get_struct_face_mag_color(struct, magnetisation)\n",
    "    vis.update_colors(xmcd_value, mag_colors)\n",
    "    image = vis.save_render(os.path.join(savedir, 'step_{}.png'.format(file_num)))"
   ]
  },
  {
   "cell_type": "code",
   "execution_count": 12,
   "metadata": {},
   "outputs": [
    {
     "name": "stderr",
     "output_type": "stream",
     "text": [
      "100%|██████████████████████████████████████████████████████████████████████████████████| 10/10 [03:23<00:00, 20.26s/it]\n"
     ]
    }
   ],
   "source": [
    "savedir = os.path.join(folder_path, 'processed', 'xmcd_projection_inv')\n",
    "if not os.path.exists(savedir):\n",
    "    os.makedirs(savedir)\n",
    "    \n",
    "for mf in tqdm(mag_files):\n",
    "#     file_num = int(mf.split('.')[-2])\n",
    "    file_num = int(mf.split('_')[-1].split('.')[0])\n",
    "    magnetisation, _ = get_magnumfe_magnetisation(mf)\n",
    "    magnetisation *= -1\n",
    "    magnetisation = magnetisation[shuffle_indx, :]\n",
    "    xmcd_value = get_xmcd_from_piercings_list(mesh, magnetisation, piercings_list)\n",
    "    mag_colors = get_struct_face_mag_color(struct, magnetisation)\n",
    "    vis.update_colors(xmcd_value, mag_colors)\n",
    "    image = vis.save_render(os.path.join(savedir, 'step_{}.png'.format(file_num)))"
   ]
  },
  {
   "cell_type": "markdown",
   "metadata": {},
   "source": [
    "### Import the saved images and make a movie"
   ]
  },
  {
   "cell_type": "code",
   "execution_count": 18,
   "metadata": {},
   "outputs": [
    {
     "name": "stderr",
     "output_type": "stream",
     "text": [
      "100%|████████████████████████████████████████████████████████████████████████████████| 121/121 [00:02<00:00, 52.70it/s]\n"
     ]
    },
    {
     "name": "stdout",
     "output_type": "stream",
     "text": [
      "The output video is D:\\Magnumfe\\al6-1-1_peem_profile1\\processed\\projection_movie_inv.mp4\n"
     ]
    }
   ],
   "source": [
    "FPS = 10\n",
    "\n",
    "out_file = os.path.join(folder_path, 'processed', 'projection_movie_inv.mp4')\n",
    "image_files = glob(os.path.join(savedir, '*.png'))\n",
    "\n",
    "indx = [int(imgf.split('.')[-2].split('_')[-1]) for imgf in image_files]\n",
    "image_files = [imgf for _, imgf in sorted(zip(indx, image_files))]\n",
    "\n",
    "# Define the codec and create VideoWriter object\n",
    "fourcc =cv2.VideoWriter_fourcc('M','J','P','G') # Be sure to use lower case\n",
    "img = cv2.imread(image_files[0])\n",
    "out_writer = cv2.VideoWriter(out_file, fourcc, FPS, (img.shape[1], img.shape[0]))\n",
    "\n",
    "i = 0\n",
    "for imf in tqdm(image_files):\n",
    "    img = cv2.imread(imf)\n",
    "    # append to the video writer\n",
    "    out_writer.write(img)\n",
    "    \n",
    "# Release everything if job is finished\n",
    "out_writer.release()\n",
    "cv2.destroyAllWindows()\n",
    "\n",
    "print(\"The output video is {}\".format(out_file))"
   ]
  },
  {
   "cell_type": "markdown",
   "metadata": {},
   "source": [
    "### Adding blur"
   ]
  },
  {
   "cell_type": "code",
   "execution_count": 90,
   "metadata": {},
   "outputs": [
    {
     "data": {
      "text/plain": [
       "array([[0.25490196, 0.25490196, 0.25490196, ..., 0.25490196, 0.25490196,\n",
       "        0.25490196],\n",
       "       [0.25490196, 0.25490196, 0.25490196, ..., 0.25490196, 0.25490196,\n",
       "        0.25490196],\n",
       "       [0.25490196, 0.25490196, 0.25490196, ..., 0.25490196, 0.25490196,\n",
       "        0.25490196],\n",
       "       ...,\n",
       "       [0.25490196, 0.25490196, 0.25490196, ..., 0.25490196, 0.25490196,\n",
       "        0.25490196],\n",
       "       [0.25490196, 0.25490196, 0.25490196, ..., 0.25490196, 0.25490196,\n",
       "        0.25490196],\n",
       "       [0.25490196, 0.25490196, 0.25490196, ..., 0.25490196, 0.25490196,\n",
       "        0.25490196]])"
      ]
     },
     "execution_count": 90,
     "metadata": {},
     "output_type": "execute_result"
    }
   ],
   "source": [
    "img1"
   ]
  },
  {
   "cell_type": "code",
   "execution_count": 94,
   "metadata": {},
   "outputs": [
    {
     "data": {
      "text/plain": [
       "<matplotlib.image.AxesImage at 0x24158fe04a8>"
      ]
     },
     "execution_count": 94,
     "metadata": {},
     "output_type": "execute_result"
    }
   ],
   "source": [
    "plt.imshow((img1*255).astype(np.uint8))"
   ]
  },
  {
   "cell_type": "code",
   "execution_count": 120,
   "metadata": {},
   "outputs": [
    {
     "data": {
      "text/plain": [
       "'D:\\\\Magnumfe\\\\al6-1-1_peem_profile1_001\\\\processed\\\\xmcd_projection_blur'"
      ]
     },
     "execution_count": 120,
     "metadata": {},
     "output_type": "execute_result"
    }
   ],
   "source": [
    "savedir"
   ]
  },
  {
   "cell_type": "code",
   "execution_count": 122,
   "metadata": {
    "scrolled": true
   },
   "outputs": [
    {
     "data": {
      "application/vnd.jupyter.widget-view+json": {
       "model_id": "ed8d4649e6284c7a95cfd4e3c8bacaf4",
       "version_major": 2,
       "version_minor": 0
      },
      "text/plain": [
       "  0%|          | 0/14 [00:00<?, ?it/s]"
      ]
     },
     "metadata": {},
     "output_type": "display_data"
    }
   ],
   "source": [
    "from skimage.color import gray2rgb\n",
    "from tqdm import tqdm_notebook as tqdm\n",
    "folder_path1 = r\"D:\\Magnumfe\\angles_initialisation\"\n",
    "projection_folder = os.path.join(folder_path1, 'processed', 'xmcd_projection_inv')\n",
    "savedir = projection_folder + '_blur'\n",
    "if not os.path.exists(savedir):\n",
    "    os.makedirs(savedir)\n",
    "\n",
    "image_files = glob(os.path.join(projection_folder, '*.png'))\n",
    "for img_file in tqdm(image_files):\n",
    "    img = imread(img_file)\n",
    "    img1 = (gaussian(rgb2gray(rgba2rgb(img)), sigma=4)*255).astype(np.uint8)\n",
    "    imsave(os.path.join(savedir, os.path.basename(img_file)), img1, check_contrast=False)\n",
    "    "
   ]
  },
  {
   "cell_type": "code",
   "execution_count": 84,
   "metadata": {},
   "outputs": [
    {
     "data": {
      "text/plain": [
       "<matplotlib.image.AxesImage at 0x24166801f28>"
      ]
     },
     "execution_count": 84,
     "metadata": {},
     "output_type": "execute_result"
    }
   ],
   "source": [
    "plt.imshow(img1, cmap='gray')"
   ]
  },
  {
   "cell_type": "markdown",
   "metadata": {},
   "source": [
    "# Angles study"
   ]
  },
  {
   "cell_type": "code",
   "execution_count": 65,
   "metadata": {},
   "outputs": [],
   "source": [
    "folder_path = r\"D:\\Magnumfe\\angles_initialisation\"\n",
    "\n",
    "data_folder = os.path.join(folder_path, \"data\")\n",
    "mag_files = glob(os.path.join(data_folder, \"*.csv\"))\n",
    "msh_file = glob(os.path.join(data_folder, \"*.msh\"))[0]\n",
    "\n",
    "mesh = get_mesh(msh_file)\n",
    "struct = get_struct_from_mesh(mesh)\n",
    "p = get_projection_vector(90, 16)\n",
    "projected_structure = project_structure_byvector(struct, p=p)\n",
    "\n",
    "magnetisation, _ = get_magnumfe_magnetisation(mag_files[-1])\n",
    "xmcd_value = get_xmcd_from_piercings_list(mesh, magnetisation, piercings_list)\n",
    "mag_colors = get_struct_face_mag_color(struct, magnetisation)"
   ]
  },
  {
   "cell_type": "code",
   "execution_count": 66,
   "metadata": {},
   "outputs": [],
   "source": [
    "vis = MagnumfeVisualizer(struct, struct_projected, xmcd_value, struct_colors=mag_colors)\n",
    "vis.show()\n",
    "vis.set_camera(azi=18, center=vis.get_structs_center(), dist=6e5)"
   ]
  },
  {
   "cell_type": "code",
   "execution_count": 60,
   "metadata": {},
   "outputs": [
    {
     "data": {
      "text/plain": [
       "'al6-1-1_peem_angle-15'"
      ]
     },
     "execution_count": 60,
     "metadata": {},
     "output_type": "execute_result"
    }
   ],
   "source": [
    "os.path.basename(mag_files[0]).split('.')[0]"
   ]
  },
  {
   "cell_type": "code",
   "execution_count": null,
   "metadata": {
    "scrolled": true
   },
   "outputs": [],
   "source": [
    "savedir = os.path.join(folder_path, 'processed', 'xmcd_projection')\n",
    "if not os.path.exists(savedir):\n",
    "    os.makedirs(savedir)\n",
    "    \n",
    "for mf in tqdm(mag_files):\n",
    "    save_name = os.path.basename(mf).split('.')[0]+'.png'\n",
    "    save_path = os.path.join(savedir, save_name)\n",
    "    if os.path.exists(save_path):\n",
    "        print('continuing')\n",
    "        continue\n",
    "    magnetisation, _ = get_magnumfe_magnetisation(mf)\n",
    "#     magnetisation *= -1\n",
    "    xmcd_value = get_xmcd_from_piercings_list(mesh, magnetisation, piercings_list)\n",
    "    mag_colors = get_struct_face_mag_color(struct, magnetisation)\n",
    "    vis.update_colors(xmcd_value, mag_colors)\n",
    "    image = vis.save_render(save_path)"
   ]
  },
  {
   "cell_type": "code",
   "execution_count": 70,
   "metadata": {},
   "outputs": [
    {
     "name": "stderr",
     "output_type": "stream",
     "text": [
      "\n",
      "\n",
      "  0%|                                                                                           | 0/14 [00:00<?, ?it/s]"
     ]
    },
    {
     "name": "stdout",
     "output_type": "stream",
     "text": [
      "continuing\n"
     ]
    },
    {
     "name": "stderr",
     "output_type": "stream",
     "text": [
      "\n",
      "\n",
      "  7%|█████▉                                                                             | 1/14 [00:00<00:01,  8.20it/s]"
     ]
    },
    {
     "name": "stdout",
     "output_type": "stream",
     "text": [
      "continuing\n",
      "continuing\n",
      "continuing\n",
      "continuing\n"
     ]
    },
    {
     "name": "stderr",
     "output_type": "stream",
     "text": [
      "\n",
      "\n",
      " 43%|███████████████████████████████████▌                                               | 6/14 [00:13<00:07,  1.11it/s]"
     ]
    },
    {
     "name": "stdout",
     "output_type": "stream",
     "text": [
      "continuing\n",
      "continuing\n"
     ]
    },
    {
     "name": "stderr",
     "output_type": "stream",
     "text": [
      "\n",
      "\n",
      " 64%|█████████████████████████████████████████████████████▎                             | 9/14 [00:27<00:09,  1.98s/it]"
     ]
    },
    {
     "name": "stdout",
     "output_type": "stream",
     "text": [
      "continuing\n",
      "continuing\n",
      "continuing\n",
      "continuing\n",
      "continuing\n"
     ]
    },
    {
     "name": "stderr",
     "output_type": "stream",
     "text": [
      "\n",
      "\n",
      "100%|██████████████████████████████████████████████████████████████████████████████████| 14/14 [00:27<00:00,  1.95s/it]"
     ]
    }
   ],
   "source": [
    "savedir = os.path.join(folder_path, 'processed', 'xmcd_projection_inv')\n",
    "if not os.path.exists(savedir):\n",
    "    os.makedirs(savedir)\n",
    "    \n",
    "for mf in tqdm(mag_files):\n",
    "    save_name = os.path.basename(mf).split('.')[0]+'.png'\n",
    "    save_path = os.path.join(savedir, save_name)\n",
    "    if os.path.exists(save_path):\n",
    "        print('continuing')\n",
    "        continue\n",
    "    magnetisation, _ = get_magnumfe_magnetisation(mf)\n",
    "    magnetisation *= -1\n",
    "    xmcd_value = get_xmcd_from_piercings_list(mesh, magnetisation, piercings_list)\n",
    "    mag_colors = get_struct_face_mag_color(struct, magnetisation)\n",
    "    vis.update_colors(xmcd_value, mag_colors)\n",
    "    image = vis.save_render(save_path)"
   ]
  },
  {
   "cell_type": "code",
   "execution_count": 71,
   "metadata": {},
   "outputs": [
    {
     "data": {
      "text/plain": [
       "'D:\\\\Magnumfe\\\\angles_initialisation'"
      ]
     },
     "execution_count": 71,
     "metadata": {},
     "output_type": "execute_result"
    }
   ],
   "source": [
    "folder_path"
   ]
  },
  {
   "cell_type": "code",
   "execution_count": null,
   "metadata": {},
   "outputs": [],
   "source": []
  }
 ],
 "metadata": {
  "kernelspec": {
   "display_name": "Python 3",
   "language": "python",
   "name": "python3"
  },
  "language_info": {
   "codemirror_mode": {
    "name": "ipython",
    "version": 3
   },
   "file_extension": ".py",
   "mimetype": "text/x-python",
   "name": "python",
   "nbconvert_exporter": "python",
   "pygments_lexer": "ipython3",
   "version": "3.6.8"
  },
  "toc": {
   "base_numbering": 1,
   "nav_menu": {},
   "number_sections": true,
   "sideBar": true,
   "skip_h1_title": false,
   "title_cell": "Table of Contents",
   "title_sidebar": "Contents",
   "toc_cell": false,
   "toc_position": {},
   "toc_section_display": true,
   "toc_window_display": false
  }
 },
 "nbformat": 4,
 "nbformat_minor": 4
}
