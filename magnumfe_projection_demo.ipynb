{
 "cells": [
  {
   "cell_type": "code",
   "execution_count": 39,
   "metadata": {},
   "outputs": [],
   "source": [
    "%gui qt\n",
    "%matplotlib qt\n",
    "import xmcd_projection\n",
    "from xmcd_projection import deep_reload\n",
    "deep_reload(xmcd_projection)\n",
    "from xmcd_projection import *"
   ]
  },
  {
   "cell_type": "markdown",
   "metadata": {},
   "source": [
    "### Summary how to do it:\n",
    "- use only the outside faces for projection and for each of those faces, find the centroid\n",
    "- get the intersection points: face_ray_intersection(p, pt, triangles_pt) where pt are centroids\n",
    "- displace the triangles by the points on faces and check if origin in triangle: origin_in_triangle(triangles_pt - points_on_faces[:,np.newaxis,:])\n",
    "- extract the triangles that are pierced by the beam and calculate the distances between their intersections\n",
    "- for each tetra calulate the average magnetisation\n",
    "- calculate the attenuation of the beam for each tetra and sum over the attenuations for all pierced tetra"
   ]
  },
  {
   "cell_type": "code",
   "execution_count": 2,
   "metadata": {},
   "outputs": [],
   "source": [
    "\n",
    "structure_file = r\"C:\\Users\\lukas\\OneDrive - University of Cambridge\\PhD\\Simulations\\spirals\\models\\spiral_det_in_50w30t.msh\"\n",
    "magnetisation_file = r\"F:\\PhD_data\\Simulations\\spiral_automotion_simulations\\data\\basic_automotion\\spiral_det_in_50w30t_005\\data\\data.30.csv\"\n",
    "\n",
    "mesh = get_mesh(structure_file)\n",
    "mesh = ground_mesh(mesh)\n",
    "magnetisation, _ = get_magnumfe_magnetisation(magnetisation_file)"
   ]
  },
  {
   "cell_type": "markdown",
   "metadata": {},
   "source": [
    "### Getting the projected structure and the piercings takes long"
   ]
  },
  {
   "cell_type": "code",
   "execution_count": 4,
   "metadata": {},
   "outputs": [],
   "source": [
    "struct_projected, piercings_list, p = get_projection_with_piercings(mesh)"
   ]
  },
  {
   "cell_type": "markdown",
   "metadata": {},
   "source": [
    "### However, once we have the piercings, it should be quick to get the xmcd"
   ]
  },
  {
   "cell_type": "code",
   "execution_count": 5,
   "metadata": {},
   "outputs": [],
   "source": [
    "xmcd_value = get_xmcd_from_piercings_list(mesh, magnetisation, piercings_list)"
   ]
  },
  {
   "cell_type": "code",
   "execution_count": 36,
   "metadata": {},
   "outputs": [],
   "source": [
    "struct = get_struct_from_mesh(mesh)\n",
    "mag_colors = get_struct_face_mag_color(struct, magnetisation)\n",
    "\n",
    "vis = MagnumfeVisualizer(struct, struct_projected, xmcd_value, struct_colors=mag_colors)\n",
    "vis.show()"
   ]
  },
  {
   "cell_type": "code",
   "execution_count": 46,
   "metadata": {},
   "outputs": [],
   "source": [
    "vis.set_camera(dist=1e5, center=[0,-800,0])\n",
    "vis.show()"
   ]
  },
  {
   "cell_type": "markdown",
   "metadata": {},
   "source": [
    "### Save the data"
   ]
  },
  {
   "cell_type": "code",
   "execution_count": 22,
   "metadata": {},
   "outputs": [],
   "source": [
    "save_file = 'test_saving.npy'\n",
    "save_piercing_data(save_file, struct, struct_projected, piercings_list, p, mesh)"
   ]
  },
  {
   "cell_type": "markdown",
   "metadata": {},
   "source": [
    "#### For loading"
   ]
  },
  {
   "cell_type": "code",
   "execution_count": 35,
   "metadata": {},
   "outputs": [],
   "source": [
    "struct, struct_projected, piercings_list, p, mesh = load_piercing_data(save_file)"
   ]
  }
 ],
 "metadata": {
  "kernelspec": {
   "display_name": "Python 3",
   "language": "python",
   "name": "python3"
  },
  "language_info": {
   "codemirror_mode": {
    "name": "ipython",
    "version": 3
   },
   "file_extension": ".py",
   "mimetype": "text/x-python",
   "name": "python",
   "nbconvert_exporter": "python",
   "pygments_lexer": "ipython3",
   "version": "3.8.0"
  }
 },
 "nbformat": 4,
 "nbformat_minor": 4
}
