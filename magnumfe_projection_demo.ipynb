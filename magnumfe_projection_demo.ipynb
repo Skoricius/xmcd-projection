{
 "cells": [
  {
   "cell_type": "code",
   "execution_count": 59,
   "metadata": {},
   "outputs": [],
   "source": [
    "%gui qt\n",
    "%matplotlib qt\n",
    "import xmcd_projection\n",
    "from xmcd_projection import deep_reload\n",
    "deep_reload(xmcd_projection)\n",
    "from xmcd_projection import *"
   ]
  },
  {
   "cell_type": "markdown",
   "metadata": {},
   "source": [
    "### Summary how to do it:\n",
    "- use only the outside faces for projection and for each of those faces, find the centroid\n",
    "- get the intersection points: face_ray_intersection(p, pt, triangles_pt) where pt are centroids\n",
    "- displace the triangles by the points on faces and check if origin in triangle: origin_in_triangle(triangles_pt - points_on_faces[:,np.newaxis,:])\n",
    "- extract the triangles that are pierced by the beam and calculate the distances between their intersections\n",
    "- for each tetra calulate the average magnetisation\n",
    "- calculate the attenuation of the beam for each tetra and sum over the attenuations for all pierced tetra"
   ]
  },
  {
   "cell_type": "code",
   "execution_count": null,
   "metadata": {},
   "outputs": [],
   "source": [
    "\n",
    "structure_file = r\"C:\\Users\\lukas\\OneDrive - University of Cambridge\\PhD\\Simulations\\spirals\\models\\spiral_det_in_50w30t.msh\"\n",
    "magnetisation_file = r\"F:\\PhD_data\\Simulations\\spiral_automotion_simulations\\data\\basic_automotion\\spiral_det_in_50w30t_005\\data\\data.30.csv\"\n",
    "\n",
    "mesh = get_mesh(structure_file)\n",
    "mesh = ground_mesh(mesh)\n",
    "magnetisation, _ = get_magnumfe_magnetisation(magnetisation_file)"
   ]
  },
  {
   "cell_type": "markdown",
   "metadata": {},
   "source": [
    "### Getting the projected structure and the piercings takes long"
   ]
  },
  {
   "cell_type": "code",
   "execution_count": null,
   "metadata": {},
   "outputs": [],
   "source": [
    "struct_projected, piercings_list, p = get_projection_with_piercings(mesh)"
   ]
  },
  {
   "cell_type": "markdown",
   "metadata": {},
   "source": [
    "### However, once we have the piercings, it should be quick to get the xmcd"
   ]
  },
  {
   "cell_type": "code",
   "execution_count": 5,
   "metadata": {},
   "outputs": [],
   "source": [
    "xmcd_value = get_xmcd_from_piercings_list(mesh, magnetisation, piercings_list)"
   ]
  },
  {
   "cell_type": "markdown",
   "metadata": {},
   "source": [
    "### Display and save render"
   ]
  },
  {
   "cell_type": "code",
   "execution_count": 6,
   "metadata": {},
   "outputs": [],
   "source": [
    "struct = get_struct_from_mesh(mesh)\n",
    "mag_colors = get_struct_face_mag_color(struct, magnetisation)\n",
    "\n",
    "vis = MagnumfeVisualizer(struct, struct_projected, xmcd_value, struct_colors=mag_colors)\n",
    "vis.show()"
   ]
  },
  {
   "cell_type": "code",
   "execution_count": 7,
   "metadata": {},
   "outputs": [],
   "source": [
    "vis.set_camera(dist=1e5, center=[0,-800,0])"
   ]
  },
  {
   "cell_type": "code",
   "execution_count": 10,
   "metadata": {},
   "outputs": [],
   "source": [
    "vis.save_render('./img/magnumfe_demo.png', size=(1024, 1024))"
   ]
  },
  {
   "cell_type": "markdown",
   "metadata": {},
   "source": [
    "### Save the data"
   ]
  },
  {
   "cell_type": "code",
   "execution_count": null,
   "metadata": {},
   "outputs": [],
   "source": [
    "save_file = 'test_saving.npy'\n",
    "save_piercing_data(save_file, struct, struct_projected, piercings_list, p, mesh)"
   ]
  },
  {
   "cell_type": "markdown",
   "metadata": {},
   "source": [
    "#### For loading"
   ]
  },
  {
   "cell_type": "code",
   "execution_count": 4,
   "metadata": {},
   "outputs": [],
   "source": [
    "load_file = 'test_saving.npy'\n",
    "struct, struct_projected, piercings_list, p, mesh = load_piercing_data(load_file)"
   ]
  },
  {
   "cell_type": "markdown",
   "metadata": {},
   "source": [
    "## Step by step what I am doing"
   ]
  },
  {
   "cell_type": "markdown",
   "metadata": {},
   "source": [
    "#### Show projection"
   ]
  },
  {
   "cell_type": "code",
   "execution_count": 47,
   "metadata": {},
   "outputs": [
    {
     "data": {
      "text/plain": [
       "Text(0.5, 0, 'z')"
      ]
     },
     "execution_count": 47,
     "metadata": {},
     "output_type": "execute_result"
    }
   ],
   "source": [
    "ax = show_structure_points(struct)\n",
    "\n",
    "show_structure_points(struct_projected, ax=ax)\n",
    "\n",
    "ax.set_xlabel('x')\n",
    "ax.set_ylabel('y')\n",
    "ax.set_zlabel('z')"
   ]
  },
  {
   "cell_type": "markdown",
   "metadata": {},
   "source": [
    "#### Take a point and show a pierced ray"
   ]
  },
  {
   "cell_type": "code",
   "execution_count": 48,
   "metadata": {},
   "outputs": [
    {
     "data": {
      "text/plain": [
       "<mpl_toolkits.mplot3d.art3d.Path3DCollection at 0x2626ca48>"
      ]
     },
     "execution_count": 48,
     "metadata": {},
     "output_type": "execute_result"
    }
   ],
   "source": [
    "projected_points = np.array(struct_projected.vertices)\n",
    "_, _, tetra = get_mesh_data(mesh)\n",
    "\n",
    "i = 1000\n",
    "pt = projected_points[struct_projected.faces[i,0], :]\n",
    "\n",
    "phi, theta = 90, 15\n",
    "theta_r = np.deg2rad(theta)\n",
    "phi_r = np.deg2rad(phi)\n",
    "\n",
    "nx0 = np.cross(p, pt)\n",
    "y = np.linspace(-1000, 0, 1000)\n",
    "x = nx0[1]/np.sin(theta_r)*np.ones(y.shape)\n",
    "z = y*np.tan(theta_r)+nx0[0]/np.cos(theta_r)\n",
    "\n",
    "ax.plot(x, y, z, c='red')\n",
    "\n",
    "ax.scatter(pt[0], pt[1], pt[2], s=100, c='g')\n",
    "\n",
    "# get the points of the pierced tetrahedra\n",
    "indx = piercings_list[i][1]\n",
    "points = np.array(struct.vertices)\n",
    "pierced_tetra_points = points[tetra[indx, :].flatten(), :]\n",
    "\n",
    "ax.scatter(pierced_tetra_points[:,0], pierced_tetra_points[:,1], pierced_tetra_points[:,2], s=100, c='g')"
   ]
  },
  {
   "cell_type": "code",
   "execution_count": 49,
   "metadata": {},
   "outputs": [],
   "source": [
    "plt.savefig('img/piercing_demo.png', dpi=300)"
   ]
  },
  {
   "cell_type": "markdown",
   "metadata": {},
   "source": [
    "#### Show one of the pierced tetrahedra"
   ]
  },
  {
   "cell_type": "code",
   "execution_count": 64,
   "metadata": {},
   "outputs": [
    {
     "data": {
      "text/plain": [
       "[<mpl_toolkits.mplot3d.art3d.Line3D at 0x304aa118>]"
      ]
     },
     "execution_count": 64,
     "metadata": {},
     "output_type": "execute_result"
    }
   ],
   "source": [
    "from mpl_toolkits.mplot3d import Axes3D\n",
    "\n",
    "deep_reload(xmcd_projection)\n",
    "from xmcd_projection import *\n",
    "\n",
    "# Create a new plot\n",
    "fig = plt.figure()\n",
    "ax = fig.add_subplot((111), projection='3d', proj_type='ortho')\n",
    "\n",
    "selected_triangles = get_triangles_from_tetra(points, tetra[indx, :])\n",
    "vts = selected_triangles.reshape(-1, 3)\n",
    "ax.plot_trisurf(vts[:,0], vts[:,1], vts[:,2])\n",
    "ax.scatter(vts[:,0], vts[:,1], vts[:,2], 'ko')\n",
    "ax.set_xlabel('x')\n",
    "\n",
    "\n",
    "y = np.linspace(-150, -80, 100)\n",
    "x = nx0[1]/np.sin(theta_r)*np.ones(y.shape)\n",
    "z = y*np.tan(theta_r)+nx0[0]/np.cos(theta_r)\n",
    "\n",
    "ax.plot(x, y, z, c='red')"
   ]
  },
  {
   "cell_type": "code",
   "execution_count": 65,
   "metadata": {},
   "outputs": [],
   "source": [
    "plt.savefig('img/piercing_demo1.png', dpi=300)"
   ]
  },
  {
   "cell_type": "code",
   "execution_count": null,
   "metadata": {},
   "outputs": [],
   "source": []
  }
 ],
 "metadata": {
  "kernelspec": {
   "display_name": "Python 3",
   "language": "python",
   "name": "python3"
  },
  "language_info": {
   "codemirror_mode": {
    "name": "ipython",
    "version": 3
   },
   "file_extension": ".py",
   "mimetype": "text/x-python",
   "name": "python",
   "nbconvert_exporter": "python",
   "pygments_lexer": "ipython3",
   "version": "3.6.8"
  }
 },
 "nbformat": 4,
 "nbformat_minor": 4
}
