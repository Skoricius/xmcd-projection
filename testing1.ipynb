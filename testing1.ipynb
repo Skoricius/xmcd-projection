{
 "cells": [
  {
   "cell_type": "code",
   "execution_count": 47,
   "metadata": {},
   "outputs": [],
   "source": [
    "%gui qt\n",
    "%matplotlib qt\n",
    "import xmcd_projection\n",
    "from xmcd_projection import deep_reload\n",
    "deep_reload(xmcd_projection)\n",
    "from xmcd_projection import *\n",
    "from glob import glob\n",
    "import os"
   ]
  },
  {
   "cell_type": "code",
   "execution_count": 5,
   "metadata": {},
   "outputs": [],
   "source": [
    "folder_path = r\"D:\\Magnumfe\\al6-1-1_peem_profile2_10mT15deg\"\n",
    "\n",
    "data_folder = os.path.join(folder_path, \"data\")\n",
    "mag_files = glob(os.path.join(data_folder, \"*.csv\"))\n",
    "msh_file = glob(os.path.join(data_folder, \"*.msh\"))[0]\n",
    "\n",
    "# sort mag files\n",
    "# indx = [int(mf.split('.')[-2]) for mf in mag_files]\n",
    "indx = [int(mf.split('_')[-1].split('.')[0]) for mf in mag_files]\n",
    "mag_files = [mf for _, mf in sorted(zip(indx, mag_files))]\n",
    "# get the mesh and magnetisation\n",
    "mesh = Mesh.from_file(msh_file)"
   ]
  },
  {
   "cell_type": "code",
   "execution_count": 7,
   "metadata": {},
   "outputs": [],
   "source": [
    "from xmcd_projection.projection import project_structure\n",
    "p = get_projection_vector(90, 15)\n",
    "\n",
    "struct = mesh.get_bounding_struct()\n",
    "struct_projected = project_structure(struct, p)"
   ]
  },
  {
   "cell_type": "code",
   "execution_count": 15,
   "metadata": {},
   "outputs": [],
   "source": [
    "vis = MeshVisualizer(struct, struct_projected)\n",
    "vis.show()"
   ]
  },
  {
   "cell_type": "code",
   "execution_count": 9,
   "metadata": {},
   "outputs": [
    {
     "data": {
      "text/plain": [
       "1"
      ]
     },
     "execution_count": 9,
     "metadata": {},
     "output_type": "execute_result"
    }
   ],
   "source": [
    "1"
   ]
  },
  {
   "cell_type": "code",
   "execution_count": 10,
   "metadata": {},
   "outputs": [
    {
     "name": "stderr",
     "output_type": "stream",
     "text": [
      "16it [00:00, 152.40it/s]"
     ]
    },
    {
     "name": "stdout",
     "output_type": "stream",
     "text": [
      "getting the list\n"
     ]
    },
    {
     "name": "stderr",
     "output_type": "stream",
     "text": [
      "102208it [12:10, 137.98it/s]"
     ]
    },
    {
     "ename": "Exception",
     "evalue": "Wrong number of intersections! Ensure that tetrahedra are valid and that the projection plane does not intersect the structure.",
     "output_type": "error",
     "traceback": [
      "\u001b[1;31m----------------------------------------------------------------------\u001b[0m",
      "\u001b[1;31mException\u001b[0m                            Traceback (most recent call last)",
      "\u001b[1;32m<ipython-input-10-42d06de0837d>\u001b[0m in \u001b[0;36m<module>\u001b[1;34m\u001b[0m\n\u001b[0;32m     27\u001b[0m         \u001b[0mri\u001b[0m\u001b[1;33m[\u001b[0m\u001b[1;36m2\u001b[0m\u001b[1;33m]\u001b[0m\u001b[1;33m,\u001b[0m\u001b[1;33m\u001b[0m\u001b[1;33m\u001b[0m\u001b[0m\n\u001b[0;32m     28\u001b[0m         ri[0] // 4)\n\u001b[1;32m---> 29\u001b[1;33m     for ri in tqdm(ray_ids_generator)]\n\u001b[0m",
      "\u001b[1;32m<ipython-input-10-42d06de0837d>\u001b[0m in \u001b[0;36m<listcomp>\u001b[1;34m(.0)\u001b[0m\n\u001b[0;32m     27\u001b[0m         \u001b[0mri\u001b[0m\u001b[1;33m[\u001b[0m\u001b[1;36m2\u001b[0m\u001b[1;33m]\u001b[0m\u001b[1;33m,\u001b[0m\u001b[1;33m\u001b[0m\u001b[1;33m\u001b[0m\u001b[0m\n\u001b[0;32m     28\u001b[0m         ri[0] // 4)\n\u001b[1;32m---> 29\u001b[1;33m     for ri in tqdm(ray_ids_generator)]\n\u001b[0m",
      "\u001b[1;32mD:\\Programs\\xmcd-projection\\xmcd_projection\\raytracing.py\u001b[0m in \u001b[0;36mget_piercings_frompt_lengths\u001b[1;34m()\u001b[0m\n\u001b[0;32m     86\u001b[0m         \u001b[1;32mif\u001b[0m \u001b[0mpts\u001b[0m\u001b[1;33m.\u001b[0m\u001b[0mshape\u001b[0m\u001b[1;33m[\u001b[0m\u001b[1;36m0\u001b[0m\u001b[1;33m]\u001b[0m \u001b[1;33m!=\u001b[0m \u001b[1;36m2\u001b[0m\u001b[1;33m:\u001b[0m\u001b[1;33m\u001b[0m\u001b[1;33m\u001b[0m\u001b[0m\n\u001b[0;32m     87\u001b[0m             raise Exception(\n\u001b[1;32m---> 88\u001b[1;33m                 'Wrong number of intersections! Ensure that tetrahedra are valid and that the projection plane does not intersect the structure.')\n\u001b[0m\u001b[0;32m     89\u001b[0m         intersected_tetrahedra_lengths[i] = np.linalg.norm(\n\u001b[0;32m     90\u001b[0m             pts[0, :] - pts[1, :])\n",
      "\u001b[1;31mException\u001b[0m: Wrong number of intersections! Ensure that tetrahedra are valid and that the projection plane does not intersect the structure."
     ]
    },
    {
     "name": "stderr",
     "output_type": "stream",
     "text": [
      "102208it [12:26, 137.98it/s]"
     ]
    }
   ],
   "source": [
    "from tqdm import tqdm\n",
    "import trimesh\n",
    "from trimesh.ray.ray_triangle import RayMeshIntersector\n",
    "from xmcd_projection.raytracing import get_piercings_frompt_lengths\n",
    "from trimesh.ray.ray_triangle import ray_triangle_id\n",
    "from trimesh import triangles as triangles_mod\n",
    "from joblib import Parallel, delayed\n",
    "from time import time\n",
    "t0 = time()\n",
    "\n",
    "ray_origins = struct_projected.triangles_center\n",
    "triangles = mesh.triangles\n",
    "triangles_normal = triangles_mod.normals(triangles)[0]\n",
    "tree = triangles_mod.bounds_tree(triangles)\n",
    "\n",
    "pnew = p[np.newaxis, :]\n",
    "\n",
    "def ray_id_fun(orig): return ray_triangle_id(\n",
    "    triangles, orig[np.newaxis, :], pnew, triangles_normal=triangles_normal, tree=tree)\n",
    "ray_ids_generator = (ray_id_fun(orig) for orig in ray_origins)\n",
    "\n",
    "# ray_ids_generator = Parallel(n_jobs=5)(delayed(ray_id_fun)(orig) for orig in ray_origins)\n",
    "\n",
    "print('getting the list')\n",
    "piercings_list = [\n",
    "    get_piercings_frompt_lengths(\n",
    "        ri[2],\n",
    "        ri[0] // 4)\n",
    "    for ri in tqdm(ray_ids_generator)]"
   ]
  },
  {
   "cell_type": "code",
   "execution_count": 45,
   "metadata": {},
   "outputs": [
    {
     "ename": "ValueError",
     "evalue": "",
     "output_type": "error",
     "traceback": [
      "\u001b[1;31m----------------------------------------------------------------------\u001b[0m",
      "\u001b[1;31mValueError\u001b[0m                           Traceback (most recent call last)",
      "\u001b[1;32m<ipython-input-45-e4c8e09828d5>\u001b[0m in \u001b[0;36m<module>\u001b[1;34m\u001b[0m\n\u001b[1;32m----> 1\u001b[1;33m \u001b[1;32mraise\u001b[0m \u001b[0mValueError\u001b[0m\u001b[1;33m\u001b[0m\u001b[1;33m\u001b[0m\u001b[0m\n\u001b[0m",
      "\u001b[1;31mValueError\u001b[0m: "
     ]
    }
   ],
   "source": [
    "raise ValueError"
   ]
  },
  {
   "cell_type": "code",
   "execution_count": 55,
   "metadata": {},
   "outputs": [
    {
     "name": "stderr",
     "output_type": "stream",
     "text": [
      "102216it [46:08, 36.92it/s] \n",
      "C:\\Users\\Dedalo\\AppData\\Local\\Programs\\Python\\Python36\\lib\\site-packages\\ipykernel_launcher.py:18: UserWarning: Wrong number of intersections! Ensure that tetrahedra are valid and that the projection plane does not intersect the structure. If this happens rarely, it could be a numerical artefact.\n"
     ]
    }
   ],
   "source": [
    "\n",
    "deep_reload(xmcd_projection)\n",
    "from xmcd_projection import *\n",
    "from warnings import warn\n",
    "from xmcd_projection.raytracing import get_piercings_frompt_lengths\n",
    "\n",
    "tol = 1e-3\n",
    "\n",
    "def ray_piercing_fun(orig): return ray_triangle_id(\n",
    "    triangles, orig[np.newaxis, :], pnew, triangles_normal=triangles_normal, tree=tree)\n",
    "\n",
    "def get_piercings_item(orig):\n",
    "    ray_ids, _, locs = ray_piercing_fun(orig)\n",
    "    try:\n",
    "        return get_piercings_frompt_lengths(locs, ray_ids // 4)\n",
    "    except ValueError as e:\n",
    "        warn(\n",
    "            str(e) + ' If this happens rarely, it could be a numerical artefact.')\n",
    "        # running this again, if it crashes a second time, it's not an artefact!\n",
    "        ray_ids, _, locs = ray_piercing_fun(orig + tol)\n",
    "        return get_piercings_frompt_lengths(locs, ray_ids // 4)\n",
    "for i in range(102210, 102220):\n",
    "#     ri = ray_id_fun(ray_origins[i]+tol)\n",
    "    get_piercings_item(ray_origins[i])"
   ]
  },
  {
   "cell_type": "code",
   "execution_count": 36,
   "metadata": {},
   "outputs": [
    {
     "data": {
      "text/plain": [
       "array([  91300,   91302,  564092,  564095,  971857,  971858, 1072504,\n",
       "       1072507, 1274697, 1274699, 1377153, 1377155, 1429564, 1429566,\n",
       "       1543761, 1543763, 1554682, 1554683, 1598737, 1598739, 1620393,\n",
       "       1620394, 1709497, 1709499, 1746996, 1746998, 1757584, 1757586,\n",
       "       1827340, 1827342, 1879482, 1879483, 1891620, 1891622, 1899312,\n",
       "       1899313, 1906993, 1906994, 1943760, 1943761, 1948745, 1948747,\n",
       "       1957066, 1957067, 1958284, 1958285, 1959572, 1959573, 1979561,\n",
       "       1979562, 1985252, 1985254])"
      ]
     },
     "execution_count": 36,
     "metadata": {},
     "output_type": "execute_result"
    }
   ],
   "source": [
    "np.sort(ri[0])"
   ]
  },
  {
   "cell_type": "code",
   "execution_count": 33,
   "metadata": {},
   "outputs": [],
   "source": [
    "i = 102216\n",
    "k = 1952898"
   ]
  },
  {
   "cell_type": "code",
   "execution_count": 34,
   "metadata": {},
   "outputs": [
    {
     "data": {
      "text/plain": [
       "[<mpl_toolkits.mplot3d.art3d.Line3D at 0x16fd7359278>]"
      ]
     },
     "execution_count": 34,
     "metadata": {},
     "output_type": "execute_result"
    }
   ],
   "source": [
    "import matplotlib.pyplot as plt\n",
    "from mpl_toolkits.mplot3d import Axes3D\n",
    "\n",
    "# Create a new plot\n",
    "fig = plt.figure()\n",
    "ax = fig.add_subplot((111), projection='3d', proj_type='ortho')\n",
    "\n",
    "selected_triangles = triangles[(k//4)*4:(k//4)*4+4, :, :]\n",
    "vts = selected_triangles.reshape(-1, 3)\n",
    "ax.plot_trisurf(vts[:,0], vts[:,1], vts[:,2])\n",
    "ax.scatter(vts[:,0], vts[:,1], vts[:,2], 'ko')\n",
    "ax.set_xlabel('x')\n",
    "\n",
    "pt0 = ray_origins[i, :]\n",
    "nx0 = np.cross(pt0, p)\n",
    "y = np.linspace(vts[:,1].min(), vts[:,1].max(), 100)\n",
    "# y = np.linspace(points_on_planes[:,1].min(), points_on_planes[:,1].max(), 100)\n",
    "x = (y*p[0]+nx0[2])/p[1]\n",
    "z = (y*p[2]-nx0[0])/p[1]\n",
    "\n",
    "ax.plot(x, y, z, c='red')\n"
   ]
  },
  {
   "cell_type": "code",
   "execution_count": 157,
   "metadata": {},
   "outputs": [
    {
     "data": {
      "text/plain": [
       "<mpl_toolkits.mplot3d.art3d.Path3DCollection at 0x19c9ed89160>"
      ]
     },
     "execution_count": 157,
     "metadata": {},
     "output_type": "execute_result"
    }
   ],
   "source": [
    "pt0 = locations[index_ray == i][4, :]\n",
    "ax.scatter(pt0[0], pt0[1], pt0[2], c='yellow', s=1000)"
   ]
  },
  {
   "cell_type": "code",
   "execution_count": 120,
   "metadata": {},
   "outputs": [
    {
     "data": {
      "text/plain": [
       "array([[111.91509843,  22.08599224,  15.62172815],\n",
       "       [111.91509843,  22.08599224,  15.62172815],\n",
       "       [111.91509843,  22.38628166,  15.70219046],\n",
       "       ...,\n",
       "       [ -4.39426193, -95.9793848 , 442.39283833],\n",
       "       [ -4.39426193, -94.09961778, 442.89652038],\n",
       "       [ -4.39426193, -94.09961778, 442.89652038]])"
      ]
     },
     "execution_count": 120,
     "metadata": {},
     "output_type": "execute_result"
    }
   ],
   "source": [
    "locations"
   ]
  },
  {
   "cell_type": "code",
   "execution_count": 61,
   "metadata": {},
   "outputs": [
    {
     "data": {
      "text/plain": [
       "(array([0, 2], dtype=int64),)"
      ]
     },
     "execution_count": 61,
     "metadata": {},
     "output_type": "execute_result"
    }
   ],
   "source": [
    "keep_indices = np.where(diff_tri<=3)\n",
    "keep_indices = "
   ]
  },
  {
   "cell_type": "code",
   "execution_count": 54,
   "metadata": {},
   "outputs": [
    {
     "data": {
      "text/plain": [
       "array([    1,   488,     1,   651,     2,   326,     2,   110,     2,\n",
       "        1285,     1, 14211,     1,  4176], dtype=int64)"
      ]
     },
     "execution_count": 54,
     "metadata": {},
     "output_type": "execute_result"
    }
   ],
   "source": [
    "np.diff(wrong_tri)"
   ]
  },
  {
   "cell_type": "code",
   "execution_count": 49,
   "metadata": {},
   "outputs": [
    {
     "data": {
      "text/plain": [
       "(array([1095, 1260, 1416, 1509, 1562, 1823, 2169, 2213, 2349, 2406, 2557,\n",
       "        2911, 3705, 4567, 4727, 4905, 4918, 5072, 5176, 5549], dtype=int64),)"
      ]
     },
     "execution_count": 49,
     "metadata": {},
     "output_type": "execute_result"
    }
   ],
   "source": [
    "odd = np.array([len(index_triangle[index_ray == i]) % 2 != 0 for i in range(ray_origins.shape[0])])\n",
    "np.nonzero(odd)"
   ]
  },
  {
   "cell_type": "code",
   "execution_count": null,
   "metadata": {},
   "outputs": [],
   "source": [
    "tetra_wrong = "
   ]
  },
  {
   "cell_type": "code",
   "execution_count": 42,
   "metadata": {},
   "outputs": [
    {
     "data": {
      "text/plain": [
       "array([    0,     2,     5,     7,    22,    23,    44,    46,    52,\n",
       "          54,    65,    67,   142,   143,   165,   166,   234,   235,\n",
       "         325,   326,  1348,  1349,  1376,  1379,  3152,  3153, 29345,\n",
       "       29346], dtype=int64)"
      ]
     },
     "execution_count": 42,
     "metadata": {},
     "output_type": "execute_result"
    }
   ],
   "source": [
    "np.sort(tri0)"
   ]
  },
  {
   "cell_type": "code",
   "execution_count": 34,
   "metadata": {},
   "outputs": [
    {
     "data": {
      "text/plain": [
       "array([[[115.07399134,  25.58664678,  16.26597271],\n",
       "        [116.34854464,  21.08865516,  21.4879623 ],\n",
       "        [110.80483705,  22.32861196,  14.58337199]],\n",
       "\n",
       "       [[111.19838654,  22.15640576,  23.50294614],\n",
       "        [116.34854464,  21.08865516,  21.4879623 ],\n",
       "        [110.80483705,  22.32861196,  14.58337199]],\n",
       "\n",
       "       [[111.19838654,  22.15640576,  23.50294614],\n",
       "        [115.07399134,  25.58664678,  16.26597271],\n",
       "        [110.80483705,  22.32861196,  14.58337199]],\n",
       "\n",
       "       ...,\n",
       "\n",
       "       [[ -2.29675924, -92.49135962, 444.72822183],\n",
       "        [ -6.06352082, -89.76801016, 447.38076042],\n",
       "        [  0.84311385, -89.43834269, 444.52670159]],\n",
       "\n",
       "       [[ -2.29675924, -92.49135962, 444.72822183],\n",
       "        [ -1.738934  , -88.66054527, 441.8358262 ],\n",
       "        [  0.84311385, -89.43834269, 444.52670159]],\n",
       "\n",
       "       [[ -2.29675924, -92.49135962, 444.72822183],\n",
       "        [ -1.738934  , -88.66054527, 441.8358262 ],\n",
       "        [ -6.06352082, -89.76801016, 447.38076042]]])"
      ]
     },
     "execution_count": 34,
     "metadata": {},
     "output_type": "execute_result"
    }
   ],
   "source": [
    "mesh.triangles"
   ]
  },
  {
   "cell_type": "code",
   "execution_count": null,
   "metadata": {},
   "outputs": [],
   "source": []
  }
 ],
 "metadata": {
  "kernelspec": {
   "display_name": "Python 3",
   "language": "python",
   "name": "python3"
  },
  "language_info": {
   "codemirror_mode": {
    "name": "ipython",
    "version": 3
   },
   "file_extension": ".py",
   "mimetype": "text/x-python",
   "name": "python",
   "nbconvert_exporter": "python",
   "pygments_lexer": "ipython3",
   "version": "3.6.8"
  }
 },
 "nbformat": 4,
 "nbformat_minor": 4
}
