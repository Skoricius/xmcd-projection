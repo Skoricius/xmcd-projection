{
 "cells": [
  {
   "cell_type": "code",
   "execution_count": null,
   "metadata": {},
   "outputs": [],
   "source": [
    "%gui qt\n",
    "%matplotlib qt\n",
    "import xmcd_projection\n",
    "from xmcd_projection import deep_reload\n",
    "deep_reload(xmcd_projection)\n",
    "from xmcd_projection import *\n",
    "from glob import glob\n",
    "import os"
   ]
  },
  {
   "cell_type": "code",
   "execution_count": 10,
   "metadata": {},
   "outputs": [],
   "source": [
    "folder_path = r\"F:\\PhD_data\\Simulations\\Alba_spirals\\scaled\\al6-1-1_asbuiltnotop_scaled\"\n",
    "\n",
    "data_folder = os.path.join(folder_path, \"data\")\n",
    "mag_files = glob(os.path.join(data_folder, \"*.csv\"))\n",
    "msh_file = glob(os.path.join(data_folder, \"*.msh\"))[0]\n",
    "\n",
    "# sort mag files\n",
    "indx = [int(mf.split('.')[-2]) for mf in mag_files]\n",
    "# indx = [int(mf.split('_')[-1].split('.')[0]) for mf in mag_files]\n",
    "mag_files = [mf for _, mf in sorted(zip(indx, mag_files))]\n",
    "# get the mesh and magnetisation\n",
    "mesh = Mesh.from_file(msh_file)"
   ]
  },
  {
   "cell_type": "code",
   "execution_count": 11,
   "metadata": {},
   "outputs": [],
   "source": [
    "p = get_projection_vector(90, 15)\n",
    "\n",
    "struct = mesh.get_bounding_struct()\n",
    "struct_projected = project_structure(struct, p, x0 = [0,0,float(np.min(struct.vertices[:,2]))])"
   ]
  },
  {
   "cell_type": "code",
   "execution_count": 15,
   "metadata": {},
   "outputs": [],
   "source": [
    "vis = MeshVisualizer(struct, struct_projected)\n",
    "vis.show()"
   ]
  },
  {
   "cell_type": "code",
   "execution_count": 16,
   "metadata": {},
   "outputs": [
    {
     "data": {
      "text/plain": [
       "'F:\\\\PhD_data\\\\Simulations\\\\Alba_spirals\\\\scaled\\\\al6-1-1_asbuiltnotop_scaled\\\\data\\\\al6-1-1_asbuiltnotop_scaled.msh'"
      ]
     },
     "execution_count": 16,
     "metadata": {},
     "output_type": "execute_result"
    }
   ],
   "source": [
    "msh_file"
   ]
  },
  {
   "cell_type": "code",
   "execution_count": 17,
   "metadata": {},
   "outputs": [
    {
     "ename": "Exception",
     "evalue": "Wrong number of intersections!",
     "output_type": "error",
     "traceback": [
      "\u001b[1;31m---------------------------------------------------------------------------\u001b[0m",
      "\u001b[1;31mException\u001b[0m                                 Traceback (most recent call last)",
      "\u001b[1;32m<ipython-input-17-3d7c0b4f92b3>\u001b[0m in \u001b[0;36m<module>\u001b[1;34m\u001b[0m\n\u001b[1;32m----> 1\u001b[1;33m \u001b[0mpiercings_list\u001b[0m \u001b[1;33m=\u001b[0m \u001b[0mget_piercings\u001b[0m\u001b[1;33m(\u001b[0m\u001b[0mmesh\u001b[0m\u001b[1;33m,\u001b[0m \u001b[0mp\u001b[0m\u001b[1;33m)\u001b[0m\u001b[1;33m\u001b[0m\u001b[1;33m\u001b[0m\u001b[0m\n\u001b[0m",
      "\u001b[1;32m~\\Documents\\PhD_programs\\xmcd_projection\\xmcd_projection\\piercings.py\u001b[0m in \u001b[0;36mget_piercings\u001b[1;34m(mesh, p, n)\u001b[0m\n\u001b[0;32m     19\u001b[0m     \u001b[0mprojected_struct\u001b[0m \u001b[1;33m=\u001b[0m \u001b[0mproject_structure\u001b[0m\u001b[1;33m(\u001b[0m\u001b[0mstruct\u001b[0m\u001b[1;33m,\u001b[0m \u001b[0mp\u001b[0m\u001b[1;33m,\u001b[0m \u001b[0mn\u001b[0m\u001b[1;33m=\u001b[0m\u001b[0mn\u001b[0m\u001b[1;33m)\u001b[0m\u001b[1;33m\u001b[0m\u001b[1;33m\u001b[0m\u001b[0m\n\u001b[0;32m     20\u001b[0m     \u001b[1;31m# get all the piercing data\u001b[0m\u001b[1;33m\u001b[0m\u001b[1;33m\u001b[0m\u001b[1;33m\u001b[0m\u001b[0m\n\u001b[1;32m---> 21\u001b[1;33m     piercings_list = get_points_piercings(\n\u001b[0m\u001b[0;32m     22\u001b[0m         projected_struct.triangles_center, p, mesh.triangles)\n\u001b[0;32m     23\u001b[0m     \u001b[1;32mreturn\u001b[0m \u001b[0mpiercings_list\u001b[0m\u001b[1;33m\u001b[0m\u001b[1;33m\u001b[0m\u001b[0m\n",
      "\u001b[1;32m~\\Documents\\PhD_programs\\xmcd_projection\\xmcd_projection\\piercings_utils.py\u001b[0m in \u001b[0;36mget_points_piercings\u001b[1;34m(ray_origins, p, triangles)\u001b[0m\n\u001b[0;32m     14\u001b[0m     index_triangle, index_ray, locations = ray_triangle_id(\n\u001b[0;32m     15\u001b[0m         triangles, ray_origins, ray_directions)\n\u001b[1;32m---> 16\u001b[1;33m     piercings_list = [\n\u001b[0m\u001b[0;32m     17\u001b[0m         get_piercings_frompt_lengths(\n\u001b[0;32m     18\u001b[0m             \u001b[0mlocations\u001b[0m\u001b[1;33m[\u001b[0m\u001b[0mindex_ray\u001b[0m \u001b[1;33m==\u001b[0m \u001b[0mi\u001b[0m\u001b[1;33m]\u001b[0m\u001b[1;33m,\u001b[0m\u001b[1;33m\u001b[0m\u001b[1;33m\u001b[0m\u001b[0m\n",
      "\u001b[1;32m~\\Documents\\PhD_programs\\xmcd_projection\\xmcd_projection\\piercings_utils.py\u001b[0m in \u001b[0;36m<listcomp>\u001b[1;34m(.0)\u001b[0m\n\u001b[0;32m     15\u001b[0m         triangles, ray_origins, ray_directions)\n\u001b[0;32m     16\u001b[0m     piercings_list = [\n\u001b[1;32m---> 17\u001b[1;33m         get_piercings_frompt_lengths(\n\u001b[0m\u001b[0;32m     18\u001b[0m             \u001b[0mlocations\u001b[0m\u001b[1;33m[\u001b[0m\u001b[0mindex_ray\u001b[0m \u001b[1;33m==\u001b[0m \u001b[0mi\u001b[0m\u001b[1;33m]\u001b[0m\u001b[1;33m,\u001b[0m\u001b[1;33m\u001b[0m\u001b[1;33m\u001b[0m\u001b[0m\n\u001b[0;32m     19\u001b[0m             index_triangle[index_ray == i] // 4)\n",
      "\u001b[1;32m~\\Documents\\PhD_programs\\xmcd_projection\\xmcd_projection\\piercings_utils.py\u001b[0m in \u001b[0;36mget_piercings_frompt_lengths\u001b[1;34m()\u001b[0m\n\u001b[0;32m     32\u001b[0m         \u001b[0mpts\u001b[0m \u001b[1;33m=\u001b[0m \u001b[0mlocations\u001b[0m\u001b[1;33m[\u001b[0m\u001b[0mintersected_tetrahedra_indx\u001b[0m \u001b[1;33m==\u001b[0m \u001b[0midx\u001b[0m\u001b[1;33m]\u001b[0m\u001b[1;33m\u001b[0m\u001b[1;33m\u001b[0m\u001b[0m\n\u001b[0;32m     33\u001b[0m         \u001b[1;32mif\u001b[0m \u001b[0mpts\u001b[0m\u001b[1;33m.\u001b[0m\u001b[0mshape\u001b[0m\u001b[1;33m[\u001b[0m\u001b[1;36m0\u001b[0m\u001b[1;33m]\u001b[0m \u001b[1;33m!=\u001b[0m \u001b[1;36m2\u001b[0m\u001b[1;33m:\u001b[0m\u001b[1;33m\u001b[0m\u001b[1;33m\u001b[0m\u001b[0m\n\u001b[1;32m---> 34\u001b[1;33m             \u001b[1;32mraise\u001b[0m \u001b[0mException\u001b[0m\u001b[1;33m(\u001b[0m\u001b[1;34m'Wrong number of intersections!'\u001b[0m\u001b[1;33m)\u001b[0m\u001b[1;33m\u001b[0m\u001b[1;33m\u001b[0m\u001b[0m\n\u001b[0m\u001b[0;32m     35\u001b[0m         intersected_tetrahedra_lengths[i] = np.linalg.norm(\n\u001b[0;32m     36\u001b[0m             pts[0, :] - pts[1, :])\n",
      "\u001b[1;31mException\u001b[0m: Wrong number of intersections!"
     ]
    }
   ],
   "source": [
    "piercings_list = get_piercings(mesh, p)"
   ]
  },
  {
   "cell_type": "code",
   "execution_count": 42,
   "metadata": {},
   "outputs": [
    {
     "data": {
      "text/plain": [
       "(array([115.20717707, 115.38092886, 115.79495328, 115.38092886,\n",
       "        114.28685297, 114.30001771, 114.9463619 , 114.30001771,\n",
       "        115.20717707, 115.13825907, 114.9463619 , 115.13825907,\n",
       "        114.28685297, 114.22120588, 113.77418271, 113.86698704,\n",
       "        113.56758317, 113.77418271, 113.56758317, 113.45224506,\n",
       "        113.04318658, 113.45224506, 113.04318658, 112.99075897,\n",
       "        112.99075897, 112.85378786, 114.22120588, 113.86698704]),\n",
       " array([    0,     2,     5,     7,    22,    23,    44,    46,    52,\n",
       "           54,    65,    67,   142,   143,   165,   166,   234,   235,\n",
       "          325,   326,  1348,  1349,  1376,  1379,  3152,  3153, 29345,\n",
       "        29346], dtype=int64))"
      ]
     },
     "execution_count": 42,
     "metadata": {},
     "output_type": "execute_result"
    }
   ],
   "source": [
    "piercings_list[0]"
   ]
  },
  {
   "cell_type": "code",
   "execution_count": 19,
   "metadata": {},
   "outputs": [],
   "source": [
    "from xmcd_projection.piercings_utils import ray_triangle_id\n",
    "ray_origins = struct_projected.triangles_center\n",
    "triangles = mesh.triangles\n",
    "n = ray_origins.shape[0]\n",
    "ray_directions = np.repeat(p[None, :], n, axis=0)\n",
    "index_triangle, index_ray, locations = ray_triangle_id(\n",
    "    triangles, ray_origins, ray_directions)"
   ]
  },
  {
   "cell_type": "code",
   "execution_count": 20,
   "metadata": {},
   "outputs": [],
   "source": [
    "\n",
    "deep_reload(xmcd_projection)\n",
    "from xmcd_projection import *\n",
    "from xmcd_projection.piercings_utils import get_piercings_frompt_lengths\n",
    "piercings_list = [\n",
    "    get_piercings_frompt_lengths(\n",
    "        locations[index_ray == i],\n",
    "        index_triangle[index_ray == i] // 4)\n",
    "    for i in range(n)]"
   ]
  },
  {
   "cell_type": "code",
   "execution_count": 21,
   "metadata": {},
   "outputs": [],
   "source": [
    "ray_origins = projected_struct.triangles_center\n",
    "ray_directions = np.repeat(p[None, :], ray_origins.shape[0], axis=0)\n",
    "triangles = msh.triangles"
   ]
  },
  {
   "cell_type": "code",
   "execution_count": 22,
   "metadata": {},
   "outputs": [],
   "source": [
    "index_triangle, index_ray, locations = ray_triangle_id(triangles, ray_origins, ray_directions)"
   ]
  },
  {
   "cell_type": "code",
   "execution_count": 24,
   "metadata": {},
   "outputs": [
    {
     "data": {
      "text/plain": [
       "array([2290,  601, 1410, 2291, 3196, 3198, 1408, 5171,  448, 5170, 1405,\n",
       "        602, 1406,  773,  449,  124,  126,  675,  775,  674], dtype=int64)"
      ]
     },
     "execution_count": 24,
     "metadata": {},
     "output_type": "execute_result"
    }
   ],
   "source": [
    "index_triangle[index_ray == 90]"
   ]
  },
  {
   "cell_type": "code",
   "execution_count": 26,
   "metadata": {},
   "outputs": [
    {
     "data": {
      "text/plain": [
       "array([   0,    1,    5,   11,   13,   16,   35,   41,   58,   81,  337,\n",
       "        344,  788, 7336], dtype=int64)"
      ]
     },
     "execution_count": 26,
     "metadata": {},
     "output_type": "execute_result"
    }
   ],
   "source": [
    "intersected_tetrahedra_indx"
   ]
  },
  {
   "cell_type": "code",
   "execution_count": 34,
   "metadata": {},
   "outputs": [],
   "source": [
    "loc_pt = locations[index_ray == 0]\n",
    "intersected_tetrahedra_indx = index_triangle[index_ray == 0]//4\n",
    "intersected_tetrahedra_indx_unique = np.unique(intersected_tetrahedra_indx)\n",
    "intersected_tetrahedra_lengths = np.zeros(intersected_tetrahedra_indx_unique.size)\n",
    "for i, idx in enumerate(intersected_tetrahedra_indx_unique):\n",
    "    pts = loc_pt[intersected_tetrahedra_indx == idx]\n",
    "    intersected_tetrahedra_lengths[i] = np.linalg.norm(pts[0,:] - pts[1,:])\n",
    "# intersected_tetrahedra_lengths = [np.linalg.norm(intersected_tetrahedra_indx==i)]"
   ]
  },
  {
   "cell_type": "code",
   "execution_count": 35,
   "metadata": {},
   "outputs": [
    {
     "data": {
      "text/plain": [
       "array([0.76836384, 1.75096416, 0.07091829, 3.23921025, 0.31088248,\n",
       "       0.88539146, 0.35712067, 0.57101625, 1.33860802, 0.79454974,\n",
       "       3.19913954, 0.46852175, 1.31585321, 2.0398098 ])"
      ]
     },
     "execution_count": 35,
     "metadata": {},
     "output_type": "execute_result"
    }
   ],
   "source": [
    "intersected_tetrahedra_lengths"
   ]
  },
  {
   "cell_type": "code",
   "execution_count": 14,
   "metadata": {},
   "outputs": [
    {
     "data": {
      "text/plain": [
       "(array([], dtype=int64),)"
      ]
     },
     "execution_count": 14,
     "metadata": {},
     "output_type": "execute_result"
    }
   ],
   "source": [
    "odd = np.array([len(index_triangle[index_ray == i]) % 2 != 0 for i in range(ray_origins.shape[0])])\n",
    "np.nonzero(odd)"
   ]
  },
  {
   "cell_type": "code",
   "execution_count": 14,
   "metadata": {},
   "outputs": [
    {
     "data": {
      "text/plain": [
       "1889.1931147895937"
      ]
     },
     "execution_count": 14,
     "metadata": {},
     "output_type": "execute_result"
    }
   ],
   "source": [
    "np.min(triangles.reshape(-1, 3)[:,2])"
   ]
  },
  {
   "cell_type": "code",
   "execution_count": 37,
   "metadata": {},
   "outputs": [
    {
     "data": {
      "text/plain": [
       "array([67, 54, 52,  0], dtype=int64)"
      ]
     },
     "execution_count": 37,
     "metadata": {},
     "output_type": "execute_result"
    }
   ],
   "source": [
    "index_triangle[:4]"
   ]
  },
  {
   "cell_type": "code",
   "execution_count": 39,
   "metadata": {},
   "outputs": [],
   "source": [
    "tri0 = index_triangle[index_ray == 0]"
   ]
  },
  {
   "cell_type": "code",
   "execution_count": 58,
   "metadata": {},
   "outputs": [],
   "source": [
    "tri = np.sort(index_triangle[index_ray == 1260])\n",
    "# check if the triangles form tetrahedra\n",
    "diff_tri = np.diff(tri)\n",
    "keep_indices = \n"
   ]
  },
  {
   "cell_type": "code",
   "execution_count": 172,
   "metadata": {},
   "outputs": [
    {
     "data": {
      "text/plain": [
       "(array([17175,  9564,  9565, 21153, 17172], dtype=int64),\n",
       " array([0, 0, 0, 0, 0], dtype=int64),\n",
       " array([[1.09496123e+02, 3.96987236e+00, 5.12740362e-01],\n",
       "        [1.09496123e+02, 3.96987236e+00, 5.12740362e-01],\n",
       "        [1.09496123e+02, 6.00758754e+00, 1.05874450e+00],\n",
       "        [1.09496123e+02, 2.08533247e+00, 7.77941917e-03],\n",
       "        [1.09496123e+02, 2.08533247e+00, 7.77941917e-03]]))"
      ]
     },
     "execution_count": 172,
     "metadata": {},
     "output_type": "execute_result"
    }
   ],
   "source": [
    "ray_triangle_id(triangles, ray_origins[1260, :][np.newaxis, :], ray_directions[1260, :][np.newaxis, :])"
   ]
  },
  {
   "cell_type": "code",
   "execution_count": 147,
   "metadata": {},
   "outputs": [],
   "source": [
    "i = 1260\n",
    "k = 21153"
   ]
  },
  {
   "cell_type": "code",
   "execution_count": 161,
   "metadata": {},
   "outputs": [
    {
     "data": {
      "text/plain": [
       "(array([1], dtype=int64),\n",
       " array([0], dtype=int64),\n",
       " array([[1.09496123e+02, 2.08533247e+00, 7.77941917e-03]]))"
      ]
     },
     "execution_count": 161,
     "metadata": {},
     "output_type": "execute_result"
    }
   ],
   "source": [
    "possible_triangles =triangles[(k//4)*4:(k//4)*4+4, :, :]\n",
    "ray_triangle_id(possible_triangles, ray_origins[1260, :][np.newaxis, :], ray_directions[1260, :][np.newaxis, :])"
   ]
  },
  {
   "cell_type": "code",
   "execution_count": null,
   "metadata": {},
   "outputs": [],
   "source": [
    "pt = ray_origins[1260, :][np.newaxis, :]\n",
    "points_on_planes = triangle_ray_intersection(p, pt, possible_triangles)\n",
    "\n",
    "possible_triangles_pierced_indx = origin_in_triangle(\n",
    "    possible_triangles - points_on_planes[:, np.newaxis, :])"
   ]
  },
  {
   "cell_type": "code",
   "execution_count": 166,
   "metadata": {},
   "outputs": [
    {
     "data": {
      "text/plain": [
       "array([False,  True, False,  True])"
      ]
     },
     "execution_count": 166,
     "metadata": {},
     "output_type": "execute_result"
    }
   ],
   "source": [
    "possible_triangles_pierced_indx"
   ]
  },
  {
   "cell_type": "code",
   "execution_count": 156,
   "metadata": {},
   "outputs": [
    {
     "data": {
      "text/plain": [
       "[<mpl_toolkits.mplot3d.art3d.Line3D at 0x19c9ba97a00>]"
      ]
     },
     "execution_count": 156,
     "metadata": {},
     "output_type": "execute_result"
    }
   ],
   "source": [
    "import matplotlib.pyplot as plt\n",
    "from mpl_toolkits.mplot3d import Axes3D\n",
    "\n",
    "# Create a new plot\n",
    "fig = plt.figure()\n",
    "ax = fig.add_subplot((111), projection='3d', proj_type='ortho')\n",
    "\n",
    "selected_triangles = triangles[(k//4)*4+1, :, :]\n",
    "vts = selected_triangles.reshape(-1, 3)\n",
    "ax.plot_trisurf(vts[:,0], vts[:,1], vts[:,2])\n",
    "ax.scatter(vts[:,0], vts[:,1], vts[:,2], 'ko')\n",
    "ax.set_xlabel('x')\n",
    "\n",
    "pt0 = ray_origins[i, :]\n",
    "nx0 = np.cross(pt0, p)\n",
    "y = np.linspace(vts[:,1].min(), vts[:,1].max(), 100)\n",
    "# y = np.linspace(points_on_planes[:,1].min(), points_on_planes[:,1].max(), 100)\n",
    "x = (y*p[0]+nx0[2])/p[1]\n",
    "z = (y*p[2]/p[1]-nx0[0])/p[1]\n",
    "\n",
    "ax.plot(x, y, z, c='red')\n"
   ]
  },
  {
   "cell_type": "code",
   "execution_count": 157,
   "metadata": {},
   "outputs": [
    {
     "data": {
      "text/plain": [
       "<mpl_toolkits.mplot3d.art3d.Path3DCollection at 0x19c9ed89160>"
      ]
     },
     "execution_count": 157,
     "metadata": {},
     "output_type": "execute_result"
    }
   ],
   "source": [
    "pt0 = locations[index_ray == i][4, :]\n",
    "ax.scatter(pt0[0], pt0[1], pt0[2], c='yellow', s=1000)"
   ]
  },
  {
   "cell_type": "code",
   "execution_count": 120,
   "metadata": {},
   "outputs": [
    {
     "data": {
      "text/plain": [
       "array([[111.91509843,  22.08599224,  15.62172815],\n",
       "       [111.91509843,  22.08599224,  15.62172815],\n",
       "       [111.91509843,  22.38628166,  15.70219046],\n",
       "       ...,\n",
       "       [ -4.39426193, -95.9793848 , 442.39283833],\n",
       "       [ -4.39426193, -94.09961778, 442.89652038],\n",
       "       [ -4.39426193, -94.09961778, 442.89652038]])"
      ]
     },
     "execution_count": 120,
     "metadata": {},
     "output_type": "execute_result"
    }
   ],
   "source": [
    "locations"
   ]
  },
  {
   "cell_type": "code",
   "execution_count": 61,
   "metadata": {},
   "outputs": [
    {
     "data": {
      "text/plain": [
       "(array([0, 2], dtype=int64),)"
      ]
     },
     "execution_count": 61,
     "metadata": {},
     "output_type": "execute_result"
    }
   ],
   "source": [
    "keep_indices = np.where(diff_tri<=3)\n",
    "keep_indices = "
   ]
  },
  {
   "cell_type": "code",
   "execution_count": 54,
   "metadata": {},
   "outputs": [
    {
     "data": {
      "text/plain": [
       "array([    1,   488,     1,   651,     2,   326,     2,   110,     2,\n",
       "        1285,     1, 14211,     1,  4176], dtype=int64)"
      ]
     },
     "execution_count": 54,
     "metadata": {},
     "output_type": "execute_result"
    }
   ],
   "source": [
    "np.diff(wrong_tri)"
   ]
  },
  {
   "cell_type": "code",
   "execution_count": 49,
   "metadata": {},
   "outputs": [
    {
     "data": {
      "text/plain": [
       "(array([1095, 1260, 1416, 1509, 1562, 1823, 2169, 2213, 2349, 2406, 2557,\n",
       "        2911, 3705, 4567, 4727, 4905, 4918, 5072, 5176, 5549], dtype=int64),)"
      ]
     },
     "execution_count": 49,
     "metadata": {},
     "output_type": "execute_result"
    }
   ],
   "source": [
    "odd = np.array([len(index_triangle[index_ray == i]) % 2 != 0 for i in range(ray_origins.shape[0])])\n",
    "np.nonzero(odd)"
   ]
  },
  {
   "cell_type": "code",
   "execution_count": null,
   "metadata": {},
   "outputs": [],
   "source": [
    "tetra_wrong = "
   ]
  },
  {
   "cell_type": "code",
   "execution_count": 42,
   "metadata": {},
   "outputs": [
    {
     "data": {
      "text/plain": [
       "array([    0,     2,     5,     7,    22,    23,    44,    46,    52,\n",
       "          54,    65,    67,   142,   143,   165,   166,   234,   235,\n",
       "         325,   326,  1348,  1349,  1376,  1379,  3152,  3153, 29345,\n",
       "       29346], dtype=int64)"
      ]
     },
     "execution_count": 42,
     "metadata": {},
     "output_type": "execute_result"
    }
   ],
   "source": [
    "np.sort(tri0)"
   ]
  },
  {
   "cell_type": "code",
   "execution_count": 34,
   "metadata": {},
   "outputs": [
    {
     "data": {
      "text/plain": [
       "array([[[115.07399134,  25.58664678,  16.26597271],\n",
       "        [116.34854464,  21.08865516,  21.4879623 ],\n",
       "        [110.80483705,  22.32861196,  14.58337199]],\n",
       "\n",
       "       [[111.19838654,  22.15640576,  23.50294614],\n",
       "        [116.34854464,  21.08865516,  21.4879623 ],\n",
       "        [110.80483705,  22.32861196,  14.58337199]],\n",
       "\n",
       "       [[111.19838654,  22.15640576,  23.50294614],\n",
       "        [115.07399134,  25.58664678,  16.26597271],\n",
       "        [110.80483705,  22.32861196,  14.58337199]],\n",
       "\n",
       "       ...,\n",
       "\n",
       "       [[ -2.29675924, -92.49135962, 444.72822183],\n",
       "        [ -6.06352082, -89.76801016, 447.38076042],\n",
       "        [  0.84311385, -89.43834269, 444.52670159]],\n",
       "\n",
       "       [[ -2.29675924, -92.49135962, 444.72822183],\n",
       "        [ -1.738934  , -88.66054527, 441.8358262 ],\n",
       "        [  0.84311385, -89.43834269, 444.52670159]],\n",
       "\n",
       "       [[ -2.29675924, -92.49135962, 444.72822183],\n",
       "        [ -1.738934  , -88.66054527, 441.8358262 ],\n",
       "        [ -6.06352082, -89.76801016, 447.38076042]]])"
      ]
     },
     "execution_count": 34,
     "metadata": {},
     "output_type": "execute_result"
    }
   ],
   "source": [
    "mesh.triangles"
   ]
  },
  {
   "cell_type": "code",
   "execution_count": null,
   "metadata": {},
   "outputs": [],
   "source": []
  }
 ],
 "metadata": {
  "kernelspec": {
   "display_name": "Python 3",
   "language": "python",
   "name": "python3"
  },
  "language_info": {
   "codemirror_mode": {
    "name": "ipython",
    "version": 3
   },
   "file_extension": ".py",
   "mimetype": "text/x-python",
   "name": "python",
   "nbconvert_exporter": "python",
   "pygments_lexer": "ipython3",
   "version": "3.8.5"
  }
 },
 "nbformat": 4,
 "nbformat_minor": 4
}
