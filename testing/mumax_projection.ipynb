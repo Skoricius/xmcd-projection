{
 "cells": [
  {
   "cell_type": "code",
   "execution_count": 1,
   "metadata": {},
   "outputs": [
    {
     "name": "stderr",
     "output_type": "stream",
     "text": [
      "c:\\users\\lukas\\miniconda3\\lib\\site-packages\\numpy\\_distributor_init.py:30: UserWarning: loaded more than 1 DLL from .libs:\n",
      "c:\\users\\lukas\\miniconda3\\lib\\site-packages\\numpy\\.libs\\libopenblas.GK7GX5KEQ4F6UYO3P26ULGBQYHGQO7J4.gfortran-win_amd64.dll\n",
      "c:\\users\\lukas\\miniconda3\\lib\\site-packages\\numpy\\.libs\\libopenblas.NOIJJG62EMASZI6NYURL6JBKM4EVBGM7.gfortran-win_amd64.dll\n",
      "  warnings.warn(\"loaded more than 1 DLL from .libs:\"\n"
     ]
    }
   ],
   "source": [
    "%gui qt\n",
    "%matplotlib qt\n",
    "from glob import glob\n",
    "import os, sys\n",
    "# only necessary if using without installing\n",
    "sys.path.append(\"..\")\n",
    "from xmcd_projection import *\n",
    "from skimage.io import imread, imsave\n",
    "from PIL import Image\n",
    "import meshio\n",
    "import trimesh"
   ]
  },
  {
   "cell_type": "code",
   "execution_count": 2,
   "metadata": {},
   "outputs": [],
   "source": [
    "import importlib\n",
    "import xmcd_projection\n",
    "importlib.reload(xmcd_projection)\n",
    "from xmcd_projection import *"
   ]
  },
  {
   "cell_type": "markdown",
   "metadata": {},
   "source": [
    "### Get file paths"
   ]
  },
  {
   "cell_type": "code",
   "execution_count": 3,
   "metadata": {},
   "outputs": [],
   "source": [
    "msh_file = \"../examples/mumax_mesh.vtu\"\n",
    "mag_file = \"../examples/mumax_mag.csv\"\n",
    "# scale for the points\n",
    "scale = 1e9"
   ]
  },
  {
   "cell_type": "markdown",
   "metadata": {},
   "source": [
    "## Generate raytracing - skip if generated"
   ]
  },
  {
   "cell_type": "code",
   "execution_count": 4,
   "metadata": {},
   "outputs": [],
   "source": [
    "# get the mesh, scale the points to nm\n",
    "msh = Mesh.from_file(msh_file, scale=scale)"
   ]
  },
  {
   "cell_type": "markdown",
   "metadata": {},
   "source": [
    "#### Make sure that the projection vector is correct and that the structure is oriented well"
   ]
  },
  {
   "cell_type": "code",
   "execution_count": 5,
   "metadata": {},
   "outputs": [],
   "source": [
    "# get the projection vector\n",
    "p = get_projection_vector(90, 0) # direction of xrays\n",
    "n = [0, 1, 0] # normal to the projection plane\n",
    "x0 = [-100, 0, 0] # point on the projection plane\n",
    "\n",
    "# prepare raytracing object\n",
    "raytr = RayTracing(msh, p, n=n, x0=x0)\n",
    "struct = raytr.struct\n",
    "struct_projected = raytr.struct_projected"
   ]
  },
  {
   "cell_type": "code",
   "execution_count": 19,
   "metadata": {},
   "outputs": [],
   "source": [
    "vis = MeshVisualizer(struct, struct_projected)\n",
    "vis.set_camera(dist=2e5)\n",
    "vis.show()"
   ]
  },
  {
   "cell_type": "markdown",
   "metadata": {},
   "source": [
    "## If raytracing file generated - skip if not"
   ]
  },
  {
   "cell_type": "code",
   "execution_count": null,
   "metadata": {},
   "outputs": [],
   "source": [
    "# load raytracing if exists\n",
    "raytr = np.load(\"raytracing.npy\", allow_pickle=True).item()\n",
    "struct = raytr.struct\n",
    "struct_projected = raytr.struct_projected"
   ]
  },
  {
   "cell_type": "markdown",
   "metadata": {},
   "source": [
    "## Generate and save raytracing"
   ]
  },
  {
   "cell_type": "code",
   "execution_count": 28,
   "metadata": {},
   "outputs": [
    {
     "name": "stderr",
     "output_type": "stream",
     "text": [
      "<ipython-input-28-d0a6afb92510>:32: UserWarning: Wrong number of intersections! Ensure that tetrahedra are valid and that the projection plane does not intersect the structure. If this happens rarely, it could be a numerical artefact.\n",
      "  warn(\n"
     ]
    },
    {
     "ename": "ValueError",
     "evalue": "Wrong number of intersections! Ensure that tetrahedra are valid and that the projection plane does not intersect the structure.",
     "output_type": "error",
     "traceback": [
      "\u001b[1;31m---------------------------------------------------------------------------\u001b[0m",
      "\u001b[1;31mValueError\u001b[0m                                Traceback (most recent call last)",
      "\u001b[1;32m<ipython-input-28-d0a6afb92510>\u001b[0m in \u001b[0;36mget_piercings_item\u001b[1;34m(orig)\u001b[0m\n\u001b[0;32m     29\u001b[0m     \u001b[1;32mtry\u001b[0m\u001b[1;33m:\u001b[0m\u001b[1;33m\u001b[0m\u001b[1;33m\u001b[0m\u001b[0m\n\u001b[1;32m---> 30\u001b[1;33m         \u001b[1;32mreturn\u001b[0m \u001b[0mget_piercings_frompt_lengths\u001b[0m\u001b[1;33m(\u001b[0m\u001b[0mlocs\u001b[0m\u001b[1;33m,\u001b[0m \u001b[0mtri_id\u001b[0m \u001b[1;33m//\u001b[0m \u001b[1;36m4\u001b[0m\u001b[1;33m)\u001b[0m\u001b[1;33m\u001b[0m\u001b[1;33m\u001b[0m\u001b[0m\n\u001b[0m\u001b[0;32m     31\u001b[0m     \u001b[1;32mexcept\u001b[0m \u001b[0mValueError\u001b[0m \u001b[1;32mas\u001b[0m \u001b[0me\u001b[0m\u001b[1;33m:\u001b[0m\u001b[1;33m\u001b[0m\u001b[1;33m\u001b[0m\u001b[0m\n",
      "\u001b[1;32mc:\\users\\lukas\\documents\\xmcd-projection\\xmcd_projection\\raytracing.py\u001b[0m in \u001b[0;36mget_piercings_frompt_lengths\u001b[1;34m()\u001b[0m\n\u001b[0;32m    164\u001b[0m             \u001b[1;31m# continue\u001b[0m\u001b[1;33m\u001b[0m\u001b[1;33m\u001b[0m\u001b[1;33m\u001b[0m\u001b[0m\n\u001b[1;32m--> 165\u001b[1;33m             raise ValueError(\n\u001b[0m\u001b[0;32m    166\u001b[0m                 'Wrong number of intersections! Ensure that tetrahedra are valid and that the projection plane does not intersect the structure.')\n",
      "\u001b[1;31mValueError\u001b[0m: Wrong number of intersections! Ensure that tetrahedra are valid and that the projection plane does not intersect the structure.",
      "\nDuring handling of the above exception, another exception occurred:\n",
      "\u001b[1;31mValueError\u001b[0m                                Traceback (most recent call last)",
      "\u001b[1;32m<ipython-input-28-d0a6afb92510>\u001b[0m in \u001b[0;36m<module>\u001b[1;34m\u001b[0m\n\u001b[0;32m     37\u001b[0m \u001b[1;33m\u001b[0m\u001b[0m\n\u001b[0;32m     38\u001b[0m \u001b[1;32mfor\u001b[0m \u001b[0morig\u001b[0m \u001b[1;32min\u001b[0m \u001b[0mray_origins\u001b[0m\u001b[1;33m:\u001b[0m\u001b[1;33m\u001b[0m\u001b[1;33m\u001b[0m\u001b[0m\n\u001b[1;32m---> 39\u001b[1;33m     \u001b[0mget_piercings_item\u001b[0m\u001b[1;33m(\u001b[0m\u001b[0morig\u001b[0m\u001b[1;33m)\u001b[0m\u001b[1;33m\u001b[0m\u001b[1;33m\u001b[0m\u001b[0m\n\u001b[0m\u001b[0;32m     40\u001b[0m \u001b[0mpiercings_list\u001b[0m \u001b[1;33m=\u001b[0m \u001b[1;33m[\u001b[0m\u001b[0mget_piercings_item\u001b[0m\u001b[1;33m(\u001b[0m\u001b[0morig\u001b[0m\u001b[1;33m)\u001b[0m \u001b[1;32mfor\u001b[0m \u001b[0morig\u001b[0m \u001b[1;32min\u001b[0m \u001b[0mray_origins\u001b[0m\u001b[1;33m]\u001b[0m\u001b[1;33m\u001b[0m\u001b[1;33m\u001b[0m\u001b[0m\n",
      "\u001b[1;32m<ipython-input-28-d0a6afb92510>\u001b[0m in \u001b[0;36mget_piercings_item\u001b[1;34m(orig)\u001b[0m\n\u001b[0;32m     34\u001b[0m         \u001b[1;31m# running this again, if it crashes a second time, it's not an artefact!\u001b[0m\u001b[1;33m\u001b[0m\u001b[1;33m\u001b[0m\u001b[1;33m\u001b[0m\u001b[0m\n\u001b[0;32m     35\u001b[0m         \u001b[0mtri_id\u001b[0m\u001b[1;33m,\u001b[0m \u001b[0m_\u001b[0m\u001b[1;33m,\u001b[0m \u001b[0mlocs\u001b[0m \u001b[1;33m=\u001b[0m \u001b[0mray_piercing_fun\u001b[0m\u001b[1;33m(\u001b[0m\u001b[0morig\u001b[0m \u001b[1;33m+\u001b[0m \u001b[0mtol\u001b[0m\u001b[1;33m)\u001b[0m\u001b[1;33m\u001b[0m\u001b[1;33m\u001b[0m\u001b[0m\n\u001b[1;32m---> 36\u001b[1;33m         \u001b[1;32mreturn\u001b[0m \u001b[0mget_piercings_frompt_lengths\u001b[0m\u001b[1;33m(\u001b[0m\u001b[0mlocs\u001b[0m\u001b[1;33m,\u001b[0m \u001b[0mtri_id\u001b[0m \u001b[1;33m//\u001b[0m \u001b[1;36m4\u001b[0m\u001b[1;33m)\u001b[0m\u001b[1;33m\u001b[0m\u001b[1;33m\u001b[0m\u001b[0m\n\u001b[0m\u001b[0;32m     37\u001b[0m \u001b[1;33m\u001b[0m\u001b[0m\n\u001b[0;32m     38\u001b[0m \u001b[1;32mfor\u001b[0m \u001b[0morig\u001b[0m \u001b[1;32min\u001b[0m \u001b[0mray_origins\u001b[0m\u001b[1;33m:\u001b[0m\u001b[1;33m\u001b[0m\u001b[1;33m\u001b[0m\u001b[0m\n",
      "\u001b[1;32mc:\\users\\lukas\\documents\\xmcd-projection\\xmcd_projection\\raytracing.py\u001b[0m in \u001b[0;36mget_piercings_frompt_lengths\u001b[1;34m()\u001b[0m\n\u001b[0;32m    163\u001b[0m         \u001b[1;32mif\u001b[0m \u001b[0mpts\u001b[0m\u001b[1;33m.\u001b[0m\u001b[0mshape\u001b[0m\u001b[1;33m[\u001b[0m\u001b[1;36m0\u001b[0m\u001b[1;33m]\u001b[0m \u001b[1;33m!=\u001b[0m \u001b[1;36m2\u001b[0m\u001b[1;33m:\u001b[0m\u001b[1;33m\u001b[0m\u001b[1;33m\u001b[0m\u001b[0m\n\u001b[0;32m    164\u001b[0m             \u001b[1;31m# continue\u001b[0m\u001b[1;33m\u001b[0m\u001b[1;33m\u001b[0m\u001b[1;33m\u001b[0m\u001b[0m\n\u001b[1;32m--> 165\u001b[1;33m             raise ValueError(\n\u001b[0m\u001b[0;32m    166\u001b[0m                 'Wrong number of intersections! Ensure that tetrahedra are valid and that the projection plane does not intersect the structure.')\n\u001b[0;32m    167\u001b[0m         intersected_tetrahedra_lengths[i] = np.linalg.norm(\n",
      "\u001b[1;31mValueError\u001b[0m: Wrong number of intersections! Ensure that tetrahedra are valid and that the projection plane does not intersect the structure."
     ]
    }
   ],
   "source": [
    "\n",
    "from trimesh import triangles as triangles_mod\n",
    "from xmcd_projection.raytracing import *\n",
    "self = raytr\n",
    "struct_projected = raytr.struct_projected\n",
    "triangles_mesh = self.mesh.triangles\n",
    "tol = 1e-3\n",
    "\n",
    "triangles_normal = triangles_mod.normals(triangles_mesh)[0]\n",
    "tree = triangles_mod.bounds_tree(triangles_mesh)\n",
    "\n",
    "pnew = p[np.newaxis, :]\n",
    "# ray_origins = points\n",
    "\n",
    "triangles = self.struct_projected.triangles\n",
    "a = np.linalg.norm(triangles[:, 1, :] -\n",
    "                   triangles[:, 2, :], axis=1)[:, None]\n",
    "b = np.linalg.norm(triangles[:, 2, :] -\n",
    "                   triangles[:, 0, :], axis=1)[:, None]\n",
    "c = np.linalg.norm(triangles[:, 1, :] -\n",
    "                   triangles[:, 0, :], axis=1)[:, None]\n",
    "ray_origins = (a * triangles[:, 0, :] + b * triangles[:,\n",
    "                                                      1, :] + c * triangles[:, 2, :]) / (a + b + c)\n",
    "\n",
    "def ray_piercing_fun(orig): return ray_triangle_id(\n",
    "    triangles_mesh, orig[np.newaxis, :], pnew, triangles_normal=triangles_normal, tree=tree)\n",
    "\n",
    "def get_piercings_item(orig):\n",
    "    tri_id, _, locs = ray_piercing_fun(orig)\n",
    "    try:\n",
    "        return get_piercings_frompt_lengths(locs, tri_id // 4)\n",
    "    except ValueError as e:\n",
    "        warn(\n",
    "            str(e) + ' If this happens rarely, it could be a numerical artefact.')\n",
    "        # running this again, if it crashes a second time, it's not an artefact!\n",
    "        tri_id, _, locs = ray_piercing_fun(orig + tol)\n",
    "        return get_piercings_frompt_lengths(locs, tri_id // 4)\n",
    "\n",
    "for orig in ray_origins:\n",
    "    get_piercings_item(orig)\n",
    "piercings_list = [get_piercings_item(orig) for orig in ray_origins]"
   ]
  },
  {
   "cell_type": "code",
   "execution_count": 29,
   "metadata": {},
   "outputs": [],
   "source": [
    "\n",
    "tri_id, _, locs = ray_piercing_fun(orig)"
   ]
  },
  {
   "cell_type": "code",
   "execution_count": 42,
   "metadata": {},
   "outputs": [
    {
     "data": {
      "text/plain": [
       "array([37.92893219,  0.        , 27.92893219])"
      ]
     },
     "execution_count": 42,
     "metadata": {},
     "output_type": "execute_result"
    }
   ],
   "source": [
    "orig"
   ]
  },
  {
   "cell_type": "code",
   "execution_count": 44,
   "metadata": {},
   "outputs": [
    {
     "data": {
      "text/plain": [
       "array([1445, 1450, 1457, 1456, 1448, 1444, 1458, 1440, 1424, 1430, 1442,\n",
       "       1428, 1436, 1437, 1438, 1420, 1425, 1405, 1417, 1416, 1418, 1422,\n",
       "       1410, 1408, 1404, 1400, 1402], dtype=int64)"
      ]
     },
     "execution_count": 44,
     "metadata": {},
     "output_type": "execute_result"
    }
   ],
   "source": [
    "tri_id"
   ]
  },
  {
   "cell_type": "code",
   "execution_count": 46,
   "metadata": {},
   "outputs": [
    {
     "data": {
      "text/plain": [
       "array([[37.92893219, 89.14213562, 27.92893219],\n",
       "       [37.92893219, 95.        , 27.92893219],\n",
       "       [37.92893219, 95.        , 27.92893219]])"
      ]
     },
     "execution_count": 46,
     "metadata": {},
     "output_type": "execute_result"
    }
   ],
   "source": [
    "locs[tri_id//4 == 364]"
   ]
  },
  {
   "cell_type": "code",
   "execution_count": 32,
   "metadata": {},
   "outputs": [
    {
     "data": {
      "text/plain": [
       "array([37.92893219,  0.        , 27.92893219])"
      ]
     },
     "execution_count": 32,
     "metadata": {},
     "output_type": "execute_result"
    }
   ],
   "source": [
    "orig"
   ]
  },
  {
   "cell_type": "code",
   "execution_count": 40,
   "metadata": {},
   "outputs": [
    {
     "data": {
      "text/plain": [
       "array([[35., 85., 35.],\n",
       "       [45., 85., 25.],\n",
       "       [35., 95., 25.]], dtype=float32)"
      ]
     },
     "execution_count": 40,
     "metadata": {},
     "output_type": "execute_result"
    }
   ],
   "source": [
    "triangles_mesh[1457, :, :]"
   ]
  },
  {
   "cell_type": "code",
   "execution_count": 55,
   "metadata": {},
   "outputs": [],
   "source": [
    "move = np.random.rand(2)"
   ]
  },
  {
   "cell_type": "code",
   "execution_count": 56,
   "metadata": {},
   "outputs": [
    {
     "data": {
      "text/plain": [
       "array([0.38794552, 0.30220094])"
      ]
     },
     "execution_count": 56,
     "metadata": {},
     "output_type": "execute_result"
    }
   ],
   "source": [
    "move"
   ]
  },
  {
   "cell_type": "code",
   "execution_count": 54,
   "metadata": {},
   "outputs": [
    {
     "data": {
      "text/plain": [
       "<matplotlib.collections.PathCollection at 0x2544ab61910>"
      ]
     },
     "execution_count": 54,
     "metadata": {},
     "output_type": "execute_result"
    }
   ],
   "source": [
    "import matplotlib.pyplot as plt\n",
    "plt.plot(triangles_mesh[1456, :, 0], triangles_mesh[1456, :, 2], color=\"blue\")\n",
    "plt.plot(triangles_mesh[1456, [0, 2], 0], triangles_mesh[1456, [0, 2], 2], color=\"blue\")\n",
    "plt.plot(triangles_mesh[1457, :, 0], triangles_mesh[1457, :, 2], color=\"red\")\n",
    "plt.plot(triangles_mesh[1457, [0, 2], 0], triangles_mesh[1457, [0, 2], 2], color=\"red\")\n",
    "plt.plot(triangles_mesh[1458, :, 0], triangles_mesh[1458, :, 2], color=\"green\")\n",
    "plt.plot(triangles_mesh[1458, [0, 2], 0], triangles_mesh[1458, [0, 2], 2], color=\"green\")\n",
    "move = np.random.rand(2)\n",
    "plt.scatter(orig[0]+1, orig[2]+1)"
   ]
  },
  {
   "cell_type": "code",
   "execution_count": 41,
   "metadata": {},
   "outputs": [
    {
     "data": {
      "text/plain": [
       "array([[45., 95., 35.],\n",
       "       [45., 85., 25.],\n",
       "       [35., 95., 25.]], dtype=float32)"
      ]
     },
     "execution_count": 41,
     "metadata": {},
     "output_type": "execute_result"
    }
   ],
   "source": [
    "triangles_mesh[1456, :, :]"
   ]
  },
  {
   "cell_type": "code",
   "execution_count": 45,
   "metadata": {},
   "outputs": [
    {
     "data": {
      "text/plain": [
       "array([[35., 85., 35.],\n",
       "       [45., 95., 35.],\n",
       "       [35., 95., 25.]], dtype=float32)"
      ]
     },
     "execution_count": 45,
     "metadata": {},
     "output_type": "execute_result"
    }
   ],
   "source": [
    "triangles_mesh[1458, :, :]"
   ]
  },
  {
   "cell_type": "code",
   "execution_count": 62,
   "metadata": {},
   "outputs": [],
   "source": [
    "triangles = struct_projected.triangles"
   ]
  },
  {
   "cell_type": "code",
   "execution_count": 63,
   "metadata": {},
   "outputs": [
    {
     "data": {
      "text/plain": [
       "array([[35.        ,  0.        ,  5.        ],\n",
       "       [45.        ,  0.        ,  5.        ],\n",
       "       [35.        ,  0.        , 14.99999905]])"
      ]
     },
     "execution_count": 63,
     "metadata": {},
     "output_type": "execute_result"
    }
   ],
   "source": [
    "triangles[0,:,:]"
   ]
  },
  {
   "cell_type": "code",
   "execution_count": 94,
   "metadata": {},
   "outputs": [],
   "source": [
    "a = np.linalg.norm(triangles[:, 1, :] - triangles[:, 2, :], axis=1)[:, None]\n",
    "b = np.linalg.norm(triangles[:, 2, :] - triangles[:, 0, :], axis=1)[:, None]\n",
    "c = np.linalg.norm(triangles[:, 1, :] - triangles[:, 0, :], axis=1)[:, None]\n",
    "triangle_centres = (a*triangles[:, 0, :]+b*triangles[:, 1, :]+c*triangles[:, 2, :])/(a+b+c)"
   ]
  },
  {
   "cell_type": "code",
   "execution_count": 95,
   "metadata": {},
   "outputs": [
    {
     "data": {
      "text/plain": [
       "(4.500000047683716, 15.499998998641967, 44.5, 55.5)"
      ]
     },
     "execution_count": 95,
     "metadata": {},
     "output_type": "execute_result"
    }
   ],
   "source": [
    "i = 12\n",
    "import matplotlib.pyplot as plt\n",
    "plt.plot(triangles[i, :, 2], triangles[i, :, 0])\n",
    "plt.scatter(triangle_centres[i, 2], triangle_centres[i, 0])\n",
    "plt.axis('equal')"
   ]
  },
  {
   "cell_type": "code",
   "execution_count": null,
   "metadata": {},
   "outputs": [],
   "source": [
    "get_piercings_frompt_lengths(locs, tri_id // 4)"
   ]
  },
  {
   "cell_type": "code",
   "execution_count": null,
   "metadata": {},
   "outputs": [],
   "source": [
    "np.max(tri_areas)"
   ]
  },
  {
   "cell_type": "code",
   "execution_count": 34,
   "metadata": {},
   "outputs": [
    {
     "name": "stderr",
     "output_type": "stream",
     "text": [
      "\n",
      "\n",
      "\n",
      "  0%|                                                                                         | 0/3188 [00:00<?, ?it/s]\u001b[A\u001b[A\u001b[A\n",
      "\n",
      "\n",
      "  4%|██▉                                                                          | 123/3188 [00:00<00:02, 1219.16it/s]\u001b[A\u001b[A\u001b[A"
     ]
    },
    {
     "ename": "ValueError",
     "evalue": "Wrong number of intersections! Ensure that tetrahedra are valid and that the projection plane does not intersect the structure.",
     "output_type": "error",
     "traceback": [
      "\u001b[1;31m---------------------------------------------------------------------------\u001b[0m",
      "\u001b[1;31mValueError\u001b[0m                                Traceback (most recent call last)",
      "\u001b[1;32mc:\\users\\lukas\\documents\\xmcd-projection\\xmcd_projection\\raytracing.py\u001b[0m in \u001b[0;36mget_piercings_item\u001b[1;34m(orig)\u001b[0m\n\u001b[0;32m    128\u001b[0m         \u001b[1;32mtry\u001b[0m\u001b[1;33m:\u001b[0m\u001b[1;33m\u001b[0m\u001b[1;33m\u001b[0m\u001b[0m\n\u001b[1;32m--> 129\u001b[1;33m             \u001b[1;32mreturn\u001b[0m \u001b[0mget_piercings_frompt_lengths\u001b[0m\u001b[1;33m(\u001b[0m\u001b[0mlocs\u001b[0m\u001b[1;33m,\u001b[0m \u001b[0mtri_id\u001b[0m \u001b[1;33m//\u001b[0m \u001b[1;36m4\u001b[0m\u001b[1;33m)\u001b[0m\u001b[1;33m\u001b[0m\u001b[1;33m\u001b[0m\u001b[0m\n\u001b[0m\u001b[0;32m    130\u001b[0m         \u001b[1;32mexcept\u001b[0m \u001b[0mValueError\u001b[0m \u001b[1;32mas\u001b[0m \u001b[0me\u001b[0m\u001b[1;33m:\u001b[0m\u001b[1;33m\u001b[0m\u001b[1;33m\u001b[0m\u001b[0m\n",
      "\u001b[1;32mc:\\users\\lukas\\documents\\xmcd-projection\\xmcd_projection\\raytracing.py\u001b[0m in \u001b[0;36mget_piercings_frompt_lengths\u001b[1;34m()\u001b[0m\n\u001b[0;32m    152\u001b[0m         \u001b[1;32mif\u001b[0m \u001b[0mpts\u001b[0m\u001b[1;33m.\u001b[0m\u001b[0mshape\u001b[0m\u001b[1;33m[\u001b[0m\u001b[1;36m0\u001b[0m\u001b[1;33m]\u001b[0m \u001b[1;33m!=\u001b[0m \u001b[1;36m2\u001b[0m\u001b[1;33m:\u001b[0m\u001b[1;33m\u001b[0m\u001b[1;33m\u001b[0m\u001b[0m\n\u001b[1;32m--> 153\u001b[1;33m             \u001b[1;32mcontinue\u001b[0m\u001b[1;33m\u001b[0m\u001b[1;33m\u001b[0m\u001b[0m\n\u001b[0m\u001b[0;32m    154\u001b[0m             raise ValueError(\n",
      "\u001b[1;31mValueError\u001b[0m: Wrong number of intersections! Ensure that tetrahedra are valid and that the projection plane does not intersect the structure.",
      "\nDuring handling of the above exception, another exception occurred:\n",
      "\u001b[1;31mValueError\u001b[0m                                Traceback (most recent call last)",
      "\u001b[1;32m<ipython-input-34-2e807099822e>\u001b[0m in \u001b[0;36m<module>\u001b[1;34m\u001b[0m\n\u001b[0;32m      1\u001b[0m \u001b[0mself\u001b[0m \u001b[1;33m=\u001b[0m \u001b[0mraytr\u001b[0m\u001b[1;33m\u001b[0m\u001b[1;33m\u001b[0m\u001b[0m\n\u001b[0;32m      2\u001b[0m \u001b[0mpoints\u001b[0m \u001b[1;33m=\u001b[0m \u001b[0mself\u001b[0m\u001b[1;33m.\u001b[0m\u001b[0mstruct_projected\u001b[0m\u001b[1;33m.\u001b[0m\u001b[0mtriangles_center\u001b[0m\u001b[1;33m\u001b[0m\u001b[1;33m\u001b[0m\u001b[0m\n\u001b[1;32m----> 3\u001b[1;33m self._piercings = raytracing.get_points_piercings(\n\u001b[0m\u001b[0;32m      4\u001b[0m     points, self.p, self.mesh.triangles, tol=self.tol)\n",
      "\u001b[1;32mc:\\users\\lukas\\documents\\xmcd-projection\\xmcd_projection\\raytracing.py\u001b[0m in \u001b[0;36mget_points_piercings\u001b[1;34m(ray_origins, p, triangles, tol)\u001b[0m\n\u001b[0;32m    136\u001b[0m \u001b[1;33m\u001b[0m\u001b[0m\n\u001b[0;32m    137\u001b[0m     \u001b[1;31m# ray_ids_generator = (ray_id_fun(orig) for orig in ray_origins)\u001b[0m\u001b[1;33m\u001b[0m\u001b[1;33m\u001b[0m\u001b[1;33m\u001b[0m\u001b[0m\n\u001b[1;32m--> 138\u001b[1;33m     \u001b[0mpiercings_list\u001b[0m \u001b[1;33m=\u001b[0m \u001b[1;33m[\u001b[0m\u001b[0mget_piercings_item\u001b[0m\u001b[1;33m(\u001b[0m\u001b[0morig\u001b[0m\u001b[1;33m)\u001b[0m \u001b[1;32mfor\u001b[0m \u001b[0morig\u001b[0m \u001b[1;32min\u001b[0m \u001b[0mtqdm\u001b[0m\u001b[1;33m(\u001b[0m\u001b[0mray_origins\u001b[0m\u001b[1;33m)\u001b[0m\u001b[1;33m]\u001b[0m\u001b[1;33m\u001b[0m\u001b[1;33m\u001b[0m\u001b[0m\n\u001b[0m\u001b[0;32m    139\u001b[0m     \u001b[1;32mreturn\u001b[0m \u001b[0mpiercings_list\u001b[0m\u001b[1;33m\u001b[0m\u001b[1;33m\u001b[0m\u001b[0m\n\u001b[0;32m    140\u001b[0m \u001b[1;33m\u001b[0m\u001b[0m\n",
      "\u001b[1;32mc:\\users\\lukas\\documents\\xmcd-projection\\xmcd_projection\\raytracing.py\u001b[0m in \u001b[0;36m<listcomp>\u001b[1;34m(.0)\u001b[0m\n\u001b[0;32m    136\u001b[0m \u001b[1;33m\u001b[0m\u001b[0m\n\u001b[0;32m    137\u001b[0m     \u001b[1;31m# ray_ids_generator = (ray_id_fun(orig) for orig in ray_origins)\u001b[0m\u001b[1;33m\u001b[0m\u001b[1;33m\u001b[0m\u001b[1;33m\u001b[0m\u001b[0m\n\u001b[1;32m--> 138\u001b[1;33m     \u001b[0mpiercings_list\u001b[0m \u001b[1;33m=\u001b[0m \u001b[1;33m[\u001b[0m\u001b[0mget_piercings_item\u001b[0m\u001b[1;33m(\u001b[0m\u001b[0morig\u001b[0m\u001b[1;33m)\u001b[0m \u001b[1;32mfor\u001b[0m \u001b[0morig\u001b[0m \u001b[1;32min\u001b[0m \u001b[0mtqdm\u001b[0m\u001b[1;33m(\u001b[0m\u001b[0mray_origins\u001b[0m\u001b[1;33m)\u001b[0m\u001b[1;33m]\u001b[0m\u001b[1;33m\u001b[0m\u001b[1;33m\u001b[0m\u001b[0m\n\u001b[0m\u001b[0;32m    139\u001b[0m     \u001b[1;32mreturn\u001b[0m \u001b[0mpiercings_list\u001b[0m\u001b[1;33m\u001b[0m\u001b[1;33m\u001b[0m\u001b[0m\n\u001b[0;32m    140\u001b[0m \u001b[1;33m\u001b[0m\u001b[0m\n",
      "\u001b[1;32mc:\\users\\lukas\\documents\\xmcd-projection\\xmcd_projection\\raytracing.py\u001b[0m in \u001b[0;36mget_piercings_item\u001b[1;34m(orig)\u001b[0m\n\u001b[0;32m    133\u001b[0m             \u001b[1;31m# running this again, if it crashes a second time, it's not an artefact!\u001b[0m\u001b[1;33m\u001b[0m\u001b[1;33m\u001b[0m\u001b[1;33m\u001b[0m\u001b[0m\n\u001b[0;32m    134\u001b[0m             \u001b[0mtri_id\u001b[0m\u001b[1;33m,\u001b[0m \u001b[0m_\u001b[0m\u001b[1;33m,\u001b[0m \u001b[0mlocs\u001b[0m \u001b[1;33m=\u001b[0m \u001b[0mray_piercing_fun\u001b[0m\u001b[1;33m(\u001b[0m\u001b[0morig\u001b[0m \u001b[1;33m+\u001b[0m \u001b[0mtol\u001b[0m\u001b[1;33m)\u001b[0m\u001b[1;33m\u001b[0m\u001b[1;33m\u001b[0m\u001b[0m\n\u001b[1;32m--> 135\u001b[1;33m             \u001b[1;32mreturn\u001b[0m \u001b[0mget_piercings_frompt_lengths\u001b[0m\u001b[1;33m(\u001b[0m\u001b[0mlocs\u001b[0m\u001b[1;33m,\u001b[0m \u001b[0mtri_id\u001b[0m \u001b[1;33m//\u001b[0m \u001b[1;36m4\u001b[0m\u001b[1;33m)\u001b[0m\u001b[1;33m\u001b[0m\u001b[1;33m\u001b[0m\u001b[0m\n\u001b[0m\u001b[0;32m    136\u001b[0m \u001b[1;33m\u001b[0m\u001b[0m\n\u001b[0;32m    137\u001b[0m     \u001b[1;31m# ray_ids_generator = (ray_id_fun(orig) for orig in ray_origins)\u001b[0m\u001b[1;33m\u001b[0m\u001b[1;33m\u001b[0m\u001b[1;33m\u001b[0m\u001b[0m\n",
      "\u001b[1;32mc:\\users\\lukas\\documents\\xmcd-projection\\xmcd_projection\\raytracing.py\u001b[0m in \u001b[0;36mget_piercings_frompt_lengths\u001b[1;34m()\u001b[0m\n\u001b[0;32m    151\u001b[0m         \u001b[0mpts\u001b[0m \u001b[1;33m=\u001b[0m \u001b[0mlocations\u001b[0m\u001b[1;33m[\u001b[0m\u001b[0mintersected_tetrahedra_indx\u001b[0m \u001b[1;33m==\u001b[0m \u001b[0midx\u001b[0m\u001b[1;33m]\u001b[0m\u001b[1;33m\u001b[0m\u001b[1;33m\u001b[0m\u001b[0m\n\u001b[0;32m    152\u001b[0m         \u001b[1;32mif\u001b[0m \u001b[0mpts\u001b[0m\u001b[1;33m.\u001b[0m\u001b[0mshape\u001b[0m\u001b[1;33m[\u001b[0m\u001b[1;36m0\u001b[0m\u001b[1;33m]\u001b[0m \u001b[1;33m!=\u001b[0m \u001b[1;36m2\u001b[0m\u001b[1;33m:\u001b[0m\u001b[1;33m\u001b[0m\u001b[1;33m\u001b[0m\u001b[0m\n\u001b[1;32m--> 153\u001b[1;33m             \u001b[1;32mcontinue\u001b[0m\u001b[1;33m\u001b[0m\u001b[1;33m\u001b[0m\u001b[0m\n\u001b[0m\u001b[0;32m    154\u001b[0m             raise ValueError(\n\u001b[0;32m    155\u001b[0m                 'Wrong number of intersections! Ensure that tetrahedra are valid and that the projection plane does not intersect the structure.')\n",
      "\u001b[1;31mValueError\u001b[0m: Wrong number of intersections! Ensure that tetrahedra are valid and that the projection plane does not intersect the structure."
     ]
    },
    {
     "name": "stderr",
     "output_type": "stream",
     "text": [
      "\n",
      "\n",
      "\n",
      "  4%|██▉                                                                          | 123/3188 [00:19<00:02, 1219.16it/s]\u001b[A\u001b[A\u001b[A"
     ]
    }
   ],
   "source": [
    "self = raytr\n",
    "points = self.struct_projected.triangles_center\n",
    "self._piercings = raytracing.get_points_piercings(\n",
    "    points, self.p, self.mesh.triangles, tol=self.tol)"
   ]
  },
  {
   "cell_type": "code",
   "execution_count": 105,
   "metadata": {},
   "outputs": [],
   "source": [
    "import xmcd_projection\n",
    "deep_reload(xmcd_projection)\n",
    "from xmcd_projection import *"
   ]
  },
  {
   "cell_type": "code",
   "execution_count": 106,
   "metadata": {},
   "outputs": [
    {
     "name": "stderr",
     "output_type": "stream",
     "text": [
      "\n",
      "\n",
      "\n",
      "  0%|                                                                                         | 0/3188 [00:00<?, ?it/s]\u001b[A\u001b[A\u001b[A\n",
      "\n",
      "\n",
      "  0%|                                                                                 | 1/3188 [00:01<58:38,  1.10s/it]\u001b[A\u001b[A\u001b[A\n",
      "\n",
      "\n",
      "  2%|█▉                                                                              | 78/3188 [00:01<40:04,  1.29it/s]\u001b[A\u001b[A\u001b[A\n",
      "\n",
      "\n",
      "  5%|███▌                                                                           | 145/3188 [00:01<27:28,  1.85it/s]\u001b[A\u001b[A\u001b[A\n",
      "\n",
      "\n",
      "  6%|█████▏                                                                         | 207/3188 [00:01<18:51,  2.63it/s]\u001b[A\u001b[A\u001b[A\n",
      "\n",
      "\n",
      "  9%|███████▍                                                                       | 302/3188 [00:01<12:47,  3.76it/s]\u001b[A\u001b[A\u001b[A\n",
      "\n",
      "\n",
      " 12%|█████████▌                                                                     | 388/3188 [00:01<08:42,  5.36it/s]\u001b[A\u001b[A\u001b[A\n",
      "\n",
      "\n",
      " 15%|████████████▏                                                                  | 493/3188 [00:01<05:52,  7.64it/s]\u001b[A\u001b[A\u001b[A\n",
      "\n",
      "\n",
      " 19%|██████████████▌                                                                | 590/3188 [00:01<03:58, 10.87it/s]\u001b[A\u001b[A\u001b[A\n",
      "\n",
      "\n",
      " 21%|████████████████▋                                                              | 674/3188 [00:01<02:43, 15.40it/s]\u001b[A\u001b[A\u001b[A\n",
      "\n",
      "\n",
      " 23%|██████████████████▌                                                            | 749/3188 [00:02<01:52, 21.78it/s]\u001b[A\u001b[A\u001b[A\n",
      "\n",
      "\n",
      " 26%|████████████████████▍                                                          | 824/3188 [00:02<01:16, 30.72it/s]\u001b[A\u001b[A\u001b[A\n",
      "\n",
      "\n",
      " 28%|██████████████████████▏                                                        | 897/3188 [00:02<00:53, 43.05it/s]\u001b[A\u001b[A\u001b[A\n",
      "\n",
      "\n",
      " 30%|███████████████████████▉                                                       | 968/3188 [00:02<00:37, 59.44it/s]\u001b[A\u001b[A\u001b[A\n",
      "\n",
      "\n",
      " 32%|█████████████████████████▎                                                    | 1034/3188 [00:02<00:26, 80.25it/s]\u001b[A\u001b[A\u001b[A\n",
      "\n",
      "\n",
      " 34%|██████████████████████████▍                                                  | 1094/3188 [00:02<00:19, 107.20it/s]\u001b[A\u001b[A\u001b[A\n",
      "\n",
      "\n",
      " 36%|███████████████████████████▊                                                 | 1151/3188 [00:02<00:14, 136.90it/s]\u001b[A\u001b[A\u001b[A\n",
      "\n",
      "\n",
      " 38%|█████████████████████████████                                                | 1204/3188 [00:02<00:11, 175.94it/s]\u001b[A\u001b[A\u001b[A\n",
      "\n",
      "\n",
      " 40%|██████████████████████████████▊                                              | 1278/3188 [00:03<00:08, 228.09it/s]\u001b[A\u001b[A\u001b[A\n",
      "\n",
      "\n",
      " 43%|█████████████████████████████████▏                                           | 1375/3188 [00:03<00:06, 295.83it/s]\u001b[A\u001b[A\u001b[A\n",
      "\n",
      "\n",
      " 45%|██████████████████████████████████▉                                          | 1445/3188 [00:03<00:04, 355.59it/s]\u001b[A\u001b[A\u001b[A\n",
      "\n",
      "\n",
      " 47%|████████████████████████████████████▌                                        | 1514/3188 [00:03<00:04, 407.05it/s]\u001b[A\u001b[A\u001b[A\n",
      "\n",
      "\n",
      " 50%|██████████████████████████████████████▎                                      | 1584/3188 [00:03<00:03, 464.64it/s]\u001b[A\u001b[A\u001b[A\n",
      "\n",
      "\n",
      " 52%|███████████████████████████████████████▉                                     | 1652/3188 [00:03<00:03, 496.02it/s]\u001b[A\u001b[A\u001b[A\n",
      "\n",
      "\n",
      " 54%|█████████████████████████████████████████▍                                   | 1717/3188 [00:03<00:02, 530.92it/s]\u001b[A\u001b[A\u001b[A\n",
      "\n",
      "\n",
      " 57%|███████████████████████████████████████████▋                                 | 1811/3188 [00:03<00:02, 609.88it/s]\u001b[A\u001b[A\u001b[A\n",
      "\n",
      "\n",
      " 59%|█████████████████████████████████████████████▊                               | 1895/3188 [00:03<00:01, 662.97it/s]\u001b[A\u001b[A\u001b[A\n",
      "\n",
      "\n",
      " 62%|███████████████████████████████████████████████▋                             | 1972/3188 [00:03<00:01, 676.89it/s]\u001b[A\u001b[A\u001b[A\n",
      "\n",
      "\n",
      " 65%|█████████████████████████████████████████████████▊                           | 2064/3188 [00:04<00:01, 735.14it/s]\u001b[A\u001b[A\u001b[A\n",
      "\n",
      "\n",
      " 67%|███████████████████████████████████████████████████▊                         | 2144/3188 [00:04<00:01, 748.76it/s]\u001b[A\u001b[A\u001b[A\n",
      "\n",
      "\n",
      " 70%|█████████████████████████████████████████████████████▋                       | 2224/3188 [00:04<00:01, 694.61it/s]\u001b[A\u001b[A\u001b[A\n",
      "\n",
      "\n",
      " 72%|███████████████████████████████████████████████████████▌                     | 2298/3188 [00:04<00:01, 673.14it/s]\u001b[A\u001b[A\u001b[A\n",
      "\n",
      "\n",
      " 75%|█████████████████████████████████████████████████████████▍                   | 2380/3188 [00:04<00:01, 709.66it/s]\u001b[A\u001b[A\u001b[A\n",
      "\n",
      "\n",
      " 77%|███████████████████████████████████████████████████████████▎                 | 2454/3188 [00:04<00:01, 571.83it/s]\u001b[A\u001b[A\u001b[A\n",
      "\n",
      "\n",
      " 79%|████████████████████████████████████████████████████████████▊                | 2518/3188 [00:04<00:01, 558.12it/s]\u001b[A\u001b[A\u001b[A\n",
      "\n",
      "\n",
      " 81%|██████████████████████████████████████████████████████████████▎              | 2579/3188 [00:04<00:01, 568.50it/s]\u001b[A\u001b[A\u001b[A\n",
      "\n",
      "\n",
      " 83%|███████████████████████████████████████████████████████████████▊             | 2640/3188 [00:05<00:00, 579.10it/s]\u001b[A\u001b[A\u001b[A\n",
      "\n",
      "\n",
      " 85%|█████████████████████████████████████████████████████████████████▏           | 2701/3188 [00:05<00:00, 572.40it/s]\u001b[A\u001b[A\u001b[A\n",
      "\n",
      "\n",
      " 87%|██████████████████████████████████████████████████████████████████▋          | 2760/3188 [00:05<00:00, 553.94it/s]\u001b[A\u001b[A\u001b[A\n",
      "\n",
      "\n",
      " 89%|████████████████████████████████████████████████████████████████████▌        | 2841/3188 [00:05<00:00, 610.77it/s]\u001b[A\u001b[A\u001b[A\n",
      "\n",
      "\n",
      " 91%|██████████████████████████████████████████████████████████████████████▏      | 2905/3188 [00:05<00:00, 560.06it/s]\u001b[A\u001b[A\u001b[A\n",
      "\n",
      "\n",
      " 93%|███████████████████████████████████████████████████████████████████████▌     | 2964/3188 [00:05<00:00, 512.37it/s]\u001b[A\u001b[A\u001b[A\n",
      "\n",
      "\n",
      " 95%|████████████████████████████████████████████████████████████████████████▉    | 3018/3188 [00:05<00:00, 515.84it/s]\u001b[A\u001b[A\u001b[A\n",
      "\n",
      "\n",
      " 96%|██████████████████████████████████████████████████████████████████████████▏  | 3072/3188 [00:05<00:00, 520.39it/s]\u001b[A\u001b[A\u001b[A\n",
      "\n",
      "\n",
      "100%|█████████████████████████████████████████████████████████████████████████████| 3188/3188 [00:06<00:00, 529.32it/s]\u001b[A\u001b[A\u001b[A\n"
     ]
    }
   ],
   "source": [
    "raytr.get_piercings()\n",
    "# np.save(\"raytracing.npy\", raytr, allow_pickle=True)"
   ]
  },
  {
   "cell_type": "markdown",
   "metadata": {},
   "source": [
    "## Get the xmcd"
   ]
  },
  {
   "cell_type": "markdown",
   "metadata": {},
   "source": [
    "#### Get magnetisation, fix vertex shuffling\n",
    "Note: sometimes if the mesh file has multiple parts, the paraview export and the original mesh coordinates are not in the same order. I add a function to fix that when necessary"
   ]
  },
  {
   "cell_type": "code",
   "execution_count": null,
   "metadata": {},
   "outputs": [],
   "source": [
    "magnetisation, mag_points = load_mesh_magnetisation(mag_file, scale=scale)\n",
    "shuffle_file = \"shuffle_indx.npy\"\n",
    "try:\n",
    "    shuffle_indx = np.load(shuffle_file)\n",
    "except FileNotFoundError:\n",
    "    print('File not found. Generating shuffle indx')\n",
    "    shuffle_indx = msh.get_shuffle_indx(mag_points)\n",
    "    np.save(shuffle_file, shuffle_indx)\n",
    "magnetisation = magnetisation[shuffle_indx, :]"
   ]
  },
  {
   "cell_type": "markdown",
   "metadata": {},
   "source": [
    "### Get the colours and XMCD values"
   ]
  },
  {
   "cell_type": "code",
   "execution_count": null,
   "metadata": {},
   "outputs": [],
   "source": [
    "xmcd_value = raytr.get_xmcd(magnetisation)\n",
    "mag_colors = get_struct_face_mag_color(struct, magnetisation)"
   ]
  },
  {
   "cell_type": "code",
   "execution_count": null,
   "metadata": {},
   "outputs": [],
   "source": [
    "azi=90\n",
    "center_struct = [0, 0, 0]\n",
    "dist_struct = 1e4\n",
    "center_peem = [100, -200, 0]\n",
    "dist_peem = 8e4\n",
    "\n",
    "vis = MeshVisualizer(struct, struct_projected, projected_xmcd=xmcd_value, struct_colors=mag_colors)\n",
    "vis.show(azi=azi, center=center_peem, dist=dist_peem)\n",
    "# Image.fromarray(vis.get_image_np())"
   ]
  },
  {
   "cell_type": "markdown",
   "metadata": {},
   "source": [
    "#### View different parts of the image separately"
   ]
  },
  {
   "cell_type": "markdown",
   "metadata": {},
   "source": [
    "#### Both"
   ]
  },
  {
   "cell_type": "code",
   "execution_count": null,
   "metadata": {},
   "outputs": [],
   "source": [
    "\n",
    "vis.update_colors(xmcd_value, mag_colors)\n",
    "vis.view_both(azi=azi, center=center_peem, dist=dist_peem)\n",
    "Image.fromarray(vis.get_image_np())"
   ]
  },
  {
   "cell_type": "markdown",
   "metadata": {},
   "source": [
    "#### Projection"
   ]
  },
  {
   "cell_type": "code",
   "execution_count": null,
   "metadata": {},
   "outputs": [],
   "source": [
    "vis.view_projection(azi=azi, center=center_peem, dist=dist_peem)\n",
    "Image.fromarray(vis.get_image_np())"
   ]
  },
  {
   "cell_type": "markdown",
   "metadata": {},
   "source": [
    "#### Structure"
   ]
  },
  {
   "cell_type": "code",
   "execution_count": null,
   "metadata": {},
   "outputs": [],
   "source": [
    "\n",
    "center_struct = [75, 50, 0]\n",
    "dist_struct = 1e4\n",
    "vis.view_struct(azi=azi, center=center_struct, dist=dist_struct)\n",
    "Image.fromarray(vis.get_image_np())"
   ]
  },
  {
   "cell_type": "markdown",
   "metadata": {},
   "source": [
    "#### Blurred image"
   ]
  },
  {
   "cell_type": "code",
   "execution_count": null,
   "metadata": {},
   "outputs": [],
   "source": [
    "vis.view_projection(azi=azi, center=center_peem, dist=dist_peem)\n",
    "Image.fromarray((vis.get_blurred_image(desired_background=0.7)*255).astype(np.uint8))"
   ]
  },
  {
   "cell_type": "markdown",
   "metadata": {},
   "source": [
    "#### Saving one render"
   ]
  },
  {
   "cell_type": "code",
   "execution_count": null,
   "metadata": {},
   "outputs": [],
   "source": [
    "vis.view_both(azi=azi, center=center_peem, dist=dist_peem)\n",
    "vis.save_render('mumax_shadow.png')\n",
    "vis.view_projection()\n",
    "blurred = vis.get_blurred_image(desired_background=0.7)\n",
    "imsave('mumax_shadow_blurred.png', (blurred*255).astype(np.uint8), check_contrast=False)\n",
    "\n",
    "vis.view_struct(azi=azi, center=center_struct, dist=dist_struct)\n",
    "vis.save_render('mumax_structure_view.png')"
   ]
  },
  {
   "cell_type": "code",
   "execution_count": null,
   "metadata": {},
   "outputs": [],
   "source": []
  }
 ],
 "metadata": {
  "kernelspec": {
   "display_name": "Python 3",
   "language": "python",
   "name": "python3"
  },
  "language_info": {
   "codemirror_mode": {
    "name": "ipython",
    "version": 3
   },
   "file_extension": ".py",
   "mimetype": "text/x-python",
   "name": "python",
   "nbconvert_exporter": "python",
   "pygments_lexer": "ipython3",
   "version": "3.8.5"
  },
  "toc": {
   "base_numbering": 1,
   "nav_menu": {},
   "number_sections": true,
   "sideBar": true,
   "skip_h1_title": false,
   "title_cell": "Table of Contents",
   "title_sidebar": "Contents",
   "toc_cell": false,
   "toc_position": {},
   "toc_section_display": true,
   "toc_window_display": false
  }
 },
 "nbformat": 4,
 "nbformat_minor": 4
}
