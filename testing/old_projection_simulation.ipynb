{
 "cells": [
  {
   "cell_type": "markdown",
   "metadata": {
    "toc": true
   },
   "source": [
    "<h1>Table of Contents<span class=\"tocSkip\"></span></h1>\n",
    "<div class=\"toc\"><ul class=\"toc-item\"><li><span><a href=\"#Display-and-save-uniform-magnetisation-spiral\" data-toc-modified-id=\"Display-and-save-uniform-magnetisation-spiral-1\"><span class=\"toc-item-num\">1&nbsp;&nbsp;</span>Display and save uniform magnetisation spiral</a></span></li><li><span><a href=\"#Domain-wall-spiral-as-initialised\" data-toc-modified-id=\"Domain-wall-spiral-as-initialised-2\"><span class=\"toc-item-num\">2&nbsp;&nbsp;</span>Domain wall spiral as initialised</a></span></li><li><span><a href=\"#Domain-wall-spiral-as-measured?\" data-toc-modified-id=\"Domain-wall-spiral-as-measured?-3\"><span class=\"toc-item-num\">3&nbsp;&nbsp;</span>Domain wall spiral as measured?</a></span></li><li><span><a href=\"#No-domain-wall-as-measured-after-the-fields\" data-toc-modified-id=\"No-domain-wall-as-measured-after-the-fields-4\"><span class=\"toc-item-num\">4&nbsp;&nbsp;</span>No domain wall as measured after the fields</a></span></li></ul></div>"
   ]
  },
  {
   "cell_type": "code",
   "execution_count": 2,
   "metadata": {},
   "outputs": [],
   "source": [
    "%gui qt\n",
    "%matplotlib qt\n",
    "import numpy as np\n",
    "from scipy.spatial.transform import Rotation as R\n",
    "import xmcd_visualisation\n",
    "import importlib, sys, os\n",
    "importlib.reload(sys.modules['xmcd_visualisation'])\n",
    "from xmcd_visualisation import *\n",
    "import matplotlib.pyplot as plt"
   ]
  },
  {
   "cell_type": "markdown",
   "metadata": {},
   "source": [
    "### Display and save uniform magnetisation spiral"
   ]
  },
  {
   "cell_type": "code",
   "execution_count": 3,
   "metadata": {},
   "outputs": [],
   "source": [
    "# define the file with structure and magnetisation\n",
    "structure_file = 'SOL6-1-3.stl'\n",
    "magnetisation_file = 'SOL6-1-3_uniform_mag.p'\n",
    "\n",
    "# load the structure\n",
    "struct = trimesh.load(structure_file)\n",
    "with open(magnetisation_file, 'rb') as f:\n",
    "    magnetisation = pickle.load(f)\n",
    "\n",
    "# show the visualiser (look at xmcd_visualisation file for details)\n",
    "vis = Visualizer(struct, magnetisation)\n",
    "# define the viewing angles (here all default)\n",
    "vis.set_camera(azi=30)\n",
    "# show the rendering\n",
    "vis.show()"
   ]
  },
  {
   "cell_type": "code",
   "execution_count": 4,
   "metadata": {},
   "outputs": [
    {
     "data": {
      "text/plain": [
       "(9146, 3)"
      ]
     },
     "execution_count": 4,
     "metadata": {},
     "output_type": "execute_result"
    }
   ],
   "source": [
    "magnetisation.shape"
   ]
  },
  {
   "cell_type": "code",
   "execution_count": 6,
   "metadata": {},
   "outputs": [
    {
     "data": {
      "text/plain": [
       "(9146, 3)"
      ]
     },
     "execution_count": 6,
     "metadata": {},
     "output_type": "execute_result"
    }
   ],
   "source": [
    "struct.vertices.shape"
   ]
  },
  {
   "cell_type": "code",
   "execution_count": 8,
   "metadata": {},
   "outputs": [
    {
     "data": {
      "text/plain": [
       "(18288, 3)"
      ]
     },
     "execution_count": 8,
     "metadata": {},
     "output_type": "execute_result"
    }
   ],
   "source": [
    "struct.faces.shape"
   ]
  },
  {
   "cell_type": "code",
   "execution_count": 4,
   "metadata": {},
   "outputs": [],
   "source": [
    "vis.save_render('single_domain2.png')"
   ]
  },
  {
   "cell_type": "code",
   "execution_count": 3,
   "metadata": {},
   "outputs": [],
   "source": [
    "vis = Visualizer(struct, -magnetisation)\n",
    "# define the viewing angles (here all default)\n",
    "vis.set_camera(azi=30)\n",
    "# show the rendering\n",
    "vis.show()"
   ]
  },
  {
   "cell_type": "code",
   "execution_count": null,
   "metadata": {},
   "outputs": [],
   "source": [
    "# get the rotation by 180 degrees around z\n",
    "rotm = R.from_euler('zyx', [np.pi, 0, 0]).as_matrix()\n",
    "struct1 = struct.copy()\n",
    "struct1.vertices = np.dot(struct.vertices, rotm.T)\n",
    "magnetisation1 = np.dot(magnetisation, rotm.T)\n",
    "\n",
    "ax = show_magnetisation(struct1, magnetisation1, step=10)\n",
    "# print(rotm)\n",
    "vis.struct = struct1\n",
    "vis.magnetisation = -magnetisation1\n",
    "vis.generate_view()\n",
    "vis.show()\n",
    "vis.save_render('SOL6-1-3_rendered.png')"
   ]
  },
  {
   "cell_type": "markdown",
   "metadata": {},
   "source": [
    "### Domain wall spiral as initialised"
   ]
  },
  {
   "cell_type": "code",
   "execution_count": 5,
   "metadata": {},
   "outputs": [],
   "source": [
    "# center the structure\n",
    "structdw = struct.copy()\n",
    "# for each point get the radial angle\n",
    "phi = np.arctan2(structdw.vertices[:, 1], structdw.vertices[:, 0])\n",
    "# define the uniform magnetisation\n",
    "pts = np.array(struct.vertices)\n",
    "z = pts[:, 2]\n",
    "# set the vector to some arbitrary function\n",
    "theta = np.ones(z.size)*np.deg2rad(45)\n",
    "# phi = -2*np.pi*z/np.max(z)\n",
    "magnetisationdw = np.stack((np.sin(theta)*np.sin(phi), -np.sin(theta)*np.cos(phi), np.cos(theta)), axis=1)\n",
    "# flip the magnetisation along the space where you expect to have it flipped\n",
    "magnetisationdw[phi>0] *= -1\n",
    "\n",
    "ax = show_magnetisation(structdw, magnetisationdw, step=10)"
   ]
  },
  {
   "cell_type": "markdown",
   "metadata": {},
   "source": [
    "### Domain wall spiral as measured?"
   ]
  },
  {
   "cell_type": "code",
   "execution_count": 3,
   "metadata": {},
   "outputs": [],
   "source": [
    "# center the structure\n",
    "structdw = struct.copy()\n",
    "# for each point get the radial angle\n",
    "phi = np.arctan2(structdw.vertices[:, 1], structdw.vertices[:, 0])\n",
    "# define the uniform magnetisation\n",
    "pts = np.array(struct.vertices)\n",
    "z = pts[:, 2]\n",
    "# set the vector to some arbitrary function\n",
    "theta = np.ones(z.size)*np.deg2rad(45)\n",
    "magnetisationdw = np.stack((np.sin(theta)*np.sin(phi), -np.sin(theta)*np.cos(phi), np.cos(theta)), axis=1)\n",
    "# flip the magnetisation along the space where you expect to have it flipped\n",
    "magnetisationdw[np.logical_and(phi<np.pi/2, phi>-np.pi/2)] *= -1\n",
    "\n",
    "vis.struct = structdw\n",
    "vis.magnetisation = -magnetisationdw\n",
    "vis.generate_view()\n",
    "vis.show()\n",
    "# vis.save_render('SOL6-1-3_asmeasured1.png')\n",
    "# ax = show_magnetisation(structdw, magnetisationdw, step=10)\n",
    "# ax = show_structure_points(structdw, step=10)"
   ]
  },
  {
   "cell_type": "code",
   "execution_count": 6,
   "metadata": {},
   "outputs": [],
   "source": [
    "vis.save_render('domain_walls_along.png')"
   ]
  },
  {
   "cell_type": "code",
   "execution_count": 11,
   "metadata": {},
   "outputs": [],
   "source": [
    "magnetisationdw = np.stack((np.sin(theta)*np.sin(phi), -np.sin(theta)*np.cos(phi), np.cos(theta)), axis=1)\n",
    "# flip the magnetisation along the space where you expect to have it flipped\n",
    "magnetisationdw[phi<0] *= -1\n",
    "vis.magnetisation = -magnetisationdw\n",
    "vis.generate_view()\n",
    "vis.show()"
   ]
  },
  {
   "cell_type": "code",
   "execution_count": 12,
   "metadata": {},
   "outputs": [],
   "source": [
    "vis.save_render('domain_wall_perp.png')"
   ]
  },
  {
   "cell_type": "code",
   "execution_count": 4,
   "metadata": {},
   "outputs": [],
   "source": [
    "magnetisationdw = np.stack((np.sin(theta)*np.sin(phi), -np.sin(theta)*np.cos(phi), np.cos(theta)), axis=1)\n",
    "# flip the magnetisation along the space where you expect to have it flipped\n",
    "magnetisationdw[phi>np.pi/2] *= -1\n",
    "vis.magnetisation = magnetisationdw\n",
    "vis.generate_view()\n",
    "vis.set_camera(azi=30)\n",
    "vis.show()"
   ]
  },
  {
   "cell_type": "code",
   "execution_count": 5,
   "metadata": {},
   "outputs": [],
   "source": [
    "vis.save_render('twodws.png')"
   ]
  },
  {
   "cell_type": "code",
   "execution_count": 8,
   "metadata": {},
   "outputs": [],
   "source": [
    "magnetisationdw = np.stack((np.sin(theta)*np.sin(phi), -np.sin(theta)*np.cos(phi), np.cos(theta)), axis=1)\n",
    "# flip the magnetisation along the space where you expect to have it flipped\n",
    "magnetisationdw[] *= -1\n",
    "vis.magnetisation = magnetisationdw\n",
    "vis.generate_view()\n",
    "vis.set_camera(azi=30)\n",
    "vis.show()"
   ]
  },
  {
   "cell_type": "code",
   "execution_count": 20,
   "metadata": {},
   "outputs": [],
   "source": [
    "vis.save_render('domain_wall_perp2.png')"
   ]
  },
  {
   "cell_type": "code",
   "execution_count": 10,
   "metadata": {},
   "outputs": [],
   "source": [
    "# center the structure\n",
    "structdw = struct.copy()\n",
    "# for each point get the radial angle\n",
    "phi = np.arctan2(structdw.vertices[:, 1], structdw.vertices[:, 0])%(2*np.pi)\n",
    "# define the uniform magnetisation\n",
    "pts = np.array(struct.vertices)\n",
    "z = pts[:, 2]\n",
    "# set the vector to some arbitrary function\n",
    "theta = np.ones(z.size)*np.deg2rad(45)\n",
    "magnetisationdw = np.stack((np.sin(theta)*np.sin(phi), -np.sin(theta)*np.cos(phi), np.cos(theta)), axis=1)\n",
    "# flip the magnetisation along the space where you expect to have it flipped\n",
    "magnetisationdw[np.logical_and(phi<np.pi/2, phi>-np.pi/2)] *= -1\n",
    "\n",
    "vis.struct = structdw\n",
    "vis.magnetisation = -magnetisationdw\n",
    "vis.generate_view()\n",
    "vis.show()\n",
    "# vis.save_render('SOL6-1-3_asmeasured1.png')\n",
    "# ax = show_magnetisation(structdw, magnetisationdw, step=10)\n",
    "# ax = show_structure_points(structdw, step=10)"
   ]
  },
  {
   "cell_type": "code",
   "execution_count": 11,
   "metadata": {},
   "outputs": [],
   "source": [
    "vis.save_render('domain_wall_threequartersup.png')"
   ]
  },
  {
   "cell_type": "markdown",
   "metadata": {},
   "source": [
    "### No domain wall as measured after the fields"
   ]
  },
  {
   "cell_type": "code",
   "execution_count": null,
   "metadata": {},
   "outputs": [],
   "source": [
    "# center the structure\n",
    "structdw = struct.copy()\n",
    "# for each point get the radial angle\n",
    "phi = np.arctan2(structdw.vertices[:, 1], structdw.vertices[:, 0])\n",
    "# define the uniform magnetisation\n",
    "pts = np.array(struct.vertices)\n",
    "z = pts[:, 2]\n",
    "# set the vector to some arbitrary function\n",
    "theta = np.ones(z.size)*np.deg2rad(45)\n",
    "# phi = -2*np.pi*z/np.max(z)\n",
    "magnetisationdw = np.stack((np.sin(theta)*np.sin(phi), -np.sin(theta)*np.cos(phi), np.cos(theta)), axis=1)\n",
    "# flip the magnetisation along the space where you expect to have it flipped\n",
    "# magnetisationdw[np.logical_and(phi<np.pi/2, phi>-np.pi/2)] *= -1\n",
    "\n",
    "vis.struct = structdw\n",
    "vis.magnetisation = -magnetisationdw\n",
    "vis.generate_view()\n",
    "vis.show()\n",
    "vis.save_render('SOL6-1-3_singledomain1.png')\n",
    "# ax = show_magnetisation(structdw, magnetisationdw, step=10)\n",
    "# ax = show_structure_points(structdw, step=10)"
   ]
  }
 ],
 "metadata": {
  "kernelspec": {
   "display_name": "Python 3",
   "language": "python",
   "name": "python3"
  },
  "language_info": {
   "codemirror_mode": {
    "name": "ipython",
    "version": 3
   },
   "file_extension": ".py",
   "mimetype": "text/x-python",
   "name": "python",
   "nbconvert_exporter": "python",
   "pygments_lexer": "ipython3",
   "version": "3.6.8"
  },
  "toc": {
   "base_numbering": 1,
   "nav_menu": {},
   "number_sections": true,
   "sideBar": true,
   "skip_h1_title": false,
   "title_cell": "Table of Contents",
   "title_sidebar": "Contents",
   "toc_cell": true,
   "toc_position": {},
   "toc_section_display": true,
   "toc_window_display": false
  }
 },
 "nbformat": 4,
 "nbformat_minor": 4
}
