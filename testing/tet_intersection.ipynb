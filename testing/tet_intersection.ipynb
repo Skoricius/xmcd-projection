{
 "cells": [
  {
   "cell_type": "code",
   "execution_count": 1,
   "metadata": {},
   "outputs": [
    {
     "name": "stderr",
     "output_type": "stream",
     "text": [
      "Matplotlib is building the font cache; this may take a moment.\n"
     ]
    }
   ],
   "source": [
    "%gui qt\n",
    "%matplotlib qt\n",
    "import sys, os\n",
    "sys.path.append(\"..\")\n",
    "import xmcd_projection\n",
    "from xmcd_projection import deep_reload\n",
    "deep_reload(xmcd_projection)\n",
    "from xmcd_projection import *\n",
    "import matplotlib.pyplot as plt\n",
    "from glob import glob\n",
    "import numpy as np\n",
    "from trimesh import triangles as triangles_mod\n",
    "from trimesh.ray.ray_triangle import ray_triangle_id\n",
    "import mpl_toolkits.mplot3d as mpl3\n",
    "from mpl_toolkits.mplot3d import Axes3D"
   ]
  },
  {
   "cell_type": "code",
   "execution_count": 2,
   "metadata": {},
   "outputs": [],
   "source": [
    "folder_path = r\"D:\\Magnumfe\\al6-1-1_peem_profile2\"\n",
    "\n",
    "data_folder = os.path.join(folder_path, \"data\")\n",
    "mag_files = glob(os.path.join(data_folder, \"*.csv\"))\n",
    "raytracing_file = os.path.join(data_folder, \"raytracing.npy\")\n",
    "\n",
    "indx = [int(mf.split('_')[-1].split('.')[0]) for mf in mag_files]\n",
    "mag_files = [mf for _, mf in sorted(zip(indx, mag_files))]"
   ]
  },
  {
   "cell_type": "code",
   "execution_count": 3,
   "metadata": {},
   "outputs": [],
   "source": [
    "# load raytracing if exists\n",
    "raytr = np.load(raytracing_file, allow_pickle=True).item()\n",
    "struct = raytr.struct\n",
    "struct_projected = raytr.struct_projected\n",
    "msh = raytr.mesh"
   ]
  },
  {
   "cell_type": "code",
   "execution_count": 4,
   "metadata": {},
   "outputs": [],
   "source": [
    "ray_origins = struct_projected.triangles_center\n",
    "\n",
    "p = get_projection_vector(90, 16)\n",
    "triangles = raytr.mesh.triangles\n",
    "\n",
    "triangles_normal = triangles_mod.normals(triangles)[0]\n",
    "tree = triangles_mod.bounds_tree(triangles)\n",
    "\n",
    "pnew = p[np.newaxis, :]"
   ]
  },
  {
   "cell_type": "code",
   "execution_count": 5,
   "metadata": {},
   "outputs": [],
   "source": [
    "def ray_piercing_fun(orig): return ray_triangle_id(\n",
    "    triangles, orig[np.newaxis, :], pnew, triangles_normal=triangles_normal, tree=tree)"
   ]
  },
  {
   "cell_type": "code",
   "execution_count": 45,
   "metadata": {},
   "outputs": [],
   "source": [
    "orig = ray_origins[100]\n",
    "tri_id, _, locs = ray_piercing_fun(orig)\n",
    "tet_id = tri_id // 4\n",
    "i = 2\n",
    "tet = msh.tetra[tet_id[i]]\n",
    "\n",
    "intersected_tetrahedra_indx_unique = np.unique(tet_id)\n",
    "locs_pierced = locs[tet_id == tet_id[i]]"
   ]
  },
  {
   "cell_type": "code",
   "execution_count": 49,
   "metadata": {},
   "outputs": [],
   "source": [
    "vts = msh.points[tet]\n",
    "fig = plt.figure()\n",
    "\n",
    "ax = fig.gca(projection='3d', proj_type='ortho')\n",
    "# ax = fig.add_subplot((111), projection='3d', proj_type='ortho')\n",
    "# ax.plot_trisurf(vts[:,0], vts[:,1], vts[:,2])\n",
    "\n",
    "\n",
    "vert_idx = [[0, 1, 2], [0, 1, 3], [0, 2, 3], [1, 2, 3]]\n",
    "poly3d = [[vts[vert_idx[ix][iy]] for iy in range(len(vert_idx[0]))] for ix in range(len(vert_idx))]\n",
    "\n",
    "\n",
    "tri = mpl3.art3d.Poly3DCollection(poly3d, linewidths=0)\n",
    "ax.add_collection3d(mpl3.art3d.Line3DCollection(poly3d, colors='k', linewidths=2))\n",
    "\n",
    "ax.set_xlim([vts[:,0].min(), vts[:, 0].max()])\n",
    "ax.set_ylim([vts[:,1].min(), vts[:, 1].max()])\n",
    "ax.set_zlim([vts[:,2].min(), vts[:, 2].max()])\n",
    "tri.set_alpha(0.3)\n",
    "tri.set_color('grey')\n",
    "ax.add_collection3d(tri)\n",
    "\n",
    "pt0 = orig\n",
    "nx0 = np.cross(pt0, p)\n",
    "# y = np.linspace(vts[:,1].min(), vts[:,1].max(), 100)\n",
    "\n",
    "# xlim, ylim, zlim = [-190, -180], [500, 507], [498, 508]\n",
    "# # ax.set_xticks([-500, 0, 500])\n",
    "# # ax.set_yticks([-500, 0, 500])\n",
    "# ax.set_xlim3d(xlim)\n",
    "# ax.set_ylim3d(ylim)\n",
    "# ax.set_zlim3d(zlim)\n",
    "# ax.set_box_aspect((1, (ylim[1] - ylim[0])/(xlim[1] - xlim[0]), (zlim[1] - zlim[0])/(xlim[1] - xlim[0])))\n",
    "\n",
    "y = np.linspace(ylim[0], ylim[1], 100)\n",
    "x = (y*p[0]+nx0[2])/p[1]\n",
    "z = (y*p[2]-nx0[0])/p[1]\n",
    "\n",
    "ax.plot(x, y, z, c='#FF61FF', linewidth=2)\n",
    "ax.plot(locs_pierced[:,0], locs_pierced[:,1], locs_pierced[:,2], c='tab:red', linewidth=3, marker='o', markersize=5)\n",
    "ax.set_xlabel('x [nm]')\n",
    "ax.set_ylabel('y [nm]')#, labelpad=20)\n",
    "ax.set_zlabel('z [nm]')#, labelpad=55)\n",
    "ax.tick_params(axis='z', which='major')#, pad=30)\n",
    "ax.tick_params(axis='y', which='major')#, pad=10)\n",
    "plt.savefig('tet_piercing.svg')"
   ]
  },
  {
   "cell_type": "code",
   "execution_count": 15,
   "metadata": {},
   "outputs": [],
   "source": []
  },
  {
   "cell_type": "code",
   "execution_count": 12,
   "metadata": {},
   "outputs": [
    {
     "data": {
      "text/plain": [
       "[-188.1557581221328, -183.5904760652104]"
      ]
     },
     "execution_count": 12,
     "metadata": {},
     "output_type": "execute_result"
    }
   ],
   "source": [
    "[vts[:,0].min(), vts[:, 0].max()]"
   ]
  },
  {
   "cell_type": "code",
   "execution_count": 13,
   "metadata": {},
   "outputs": [
    {
     "data": {
      "text/plain": [
       "[501.6798051028813, 506.9517431773201]"
      ]
     },
     "execution_count": 13,
     "metadata": {},
     "output_type": "execute_result"
    }
   ],
   "source": [
    "[vts[:,1].min(), vts[:, 1].max()]"
   ]
  },
  {
   "cell_type": "code",
   "execution_count": null,
   "metadata": {},
   "outputs": [],
   "source": []
  }
 ],
 "metadata": {
  "kernelspec": {
   "display_name": "Python 3",
   "language": "python",
   "name": "python3"
  },
  "language_info": {
   "codemirror_mode": {
    "name": "ipython",
    "version": 3
   },
   "file_extension": ".py",
   "mimetype": "text/x-python",
   "name": "python",
   "nbconvert_exporter": "python",
   "pygments_lexer": "ipython3",
   "version": "3.6.8"
  }
 },
 "nbformat": 4,
 "nbformat_minor": 4
}
